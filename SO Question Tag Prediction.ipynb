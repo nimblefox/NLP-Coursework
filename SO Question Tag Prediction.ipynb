{
  "nbformat": 4,
  "nbformat_minor": 0,
  "metadata": {
    "colab": {
      "provenance": [],
      "toc_visible": true
    },
    "kernelspec": {
      "name": "python3",
      "display_name": "Python 3"
    },
    "language_info": {
      "name": "python"
    },
    "widgets": {
      "application/vnd.jupyter.widget-state+json": {
        "20723dff5abf4977ac9044e8d20b78c2": {
          "model_module": "@jupyter-widgets/controls",
          "model_name": "HBoxModel",
          "model_module_version": "1.5.0",
          "state": {
            "_dom_classes": [],
            "_model_module": "@jupyter-widgets/controls",
            "_model_module_version": "1.5.0",
            "_model_name": "HBoxModel",
            "_view_count": null,
            "_view_module": "@jupyter-widgets/controls",
            "_view_module_version": "1.5.0",
            "_view_name": "HBoxView",
            "box_style": "",
            "children": [
              "IPY_MODEL_3b578d28cd524fdabe74bbdae706ceea",
              "IPY_MODEL_b4d0d1cdde4e43eeb2b6d0ac3a2c87c4",
              "IPY_MODEL_df7b1ed2cdac4f44ab97836e0b744738"
            ],
            "layout": "IPY_MODEL_388b20da29714c5b9cd1bc2aa6c30923"
          }
        },
        "3b578d28cd524fdabe74bbdae706ceea": {
          "model_module": "@jupyter-widgets/controls",
          "model_name": "HTMLModel",
          "model_module_version": "1.5.0",
          "state": {
            "_dom_classes": [],
            "_model_module": "@jupyter-widgets/controls",
            "_model_module_version": "1.5.0",
            "_model_name": "HTMLModel",
            "_view_count": null,
            "_view_module": "@jupyter-widgets/controls",
            "_view_module_version": "1.5.0",
            "_view_name": "HTMLView",
            "description": "",
            "description_tooltip": null,
            "layout": "IPY_MODEL_f1ace7693c9d42299f287461ec4360f2",
            "placeholder": "​",
            "style": "IPY_MODEL_2723ea7f32bc4bd5a0f214c4a3c1ead1",
            "value": "Pandas Apply: 100%"
          }
        },
        "b4d0d1cdde4e43eeb2b6d0ac3a2c87c4": {
          "model_module": "@jupyter-widgets/controls",
          "model_name": "FloatProgressModel",
          "model_module_version": "1.5.0",
          "state": {
            "_dom_classes": [],
            "_model_module": "@jupyter-widgets/controls",
            "_model_module_version": "1.5.0",
            "_model_name": "FloatProgressModel",
            "_view_count": null,
            "_view_module": "@jupyter-widgets/controls",
            "_view_module_version": "1.5.0",
            "_view_name": "ProgressView",
            "bar_style": "success",
            "description": "",
            "description_tooltip": null,
            "layout": "IPY_MODEL_219f0988fd334152b6c37a9eef32bff9",
            "max": 47427,
            "min": 0,
            "orientation": "horizontal",
            "style": "IPY_MODEL_6b81c015c0aa47368fd450ae92443fe2",
            "value": 47427
          }
        },
        "df7b1ed2cdac4f44ab97836e0b744738": {
          "model_module": "@jupyter-widgets/controls",
          "model_name": "HTMLModel",
          "model_module_version": "1.5.0",
          "state": {
            "_dom_classes": [],
            "_model_module": "@jupyter-widgets/controls",
            "_model_module_version": "1.5.0",
            "_model_name": "HTMLModel",
            "_view_count": null,
            "_view_module": "@jupyter-widgets/controls",
            "_view_module_version": "1.5.0",
            "_view_name": "HTMLView",
            "description": "",
            "description_tooltip": null,
            "layout": "IPY_MODEL_7d2f18cb966340e8bbb7de1fd1b9dfa0",
            "placeholder": "​",
            "style": "IPY_MODEL_d8b32654aa8848f8896197af5f146ecb",
            "value": " 47427/47427 [00:50&lt;00:00, 899.56it/s]"
          }
        },
        "388b20da29714c5b9cd1bc2aa6c30923": {
          "model_module": "@jupyter-widgets/base",
          "model_name": "LayoutModel",
          "model_module_version": "1.2.0",
          "state": {
            "_model_module": "@jupyter-widgets/base",
            "_model_module_version": "1.2.0",
            "_model_name": "LayoutModel",
            "_view_count": null,
            "_view_module": "@jupyter-widgets/base",
            "_view_module_version": "1.2.0",
            "_view_name": "LayoutView",
            "align_content": null,
            "align_items": null,
            "align_self": null,
            "border": null,
            "bottom": null,
            "display": null,
            "flex": null,
            "flex_flow": null,
            "grid_area": null,
            "grid_auto_columns": null,
            "grid_auto_flow": null,
            "grid_auto_rows": null,
            "grid_column": null,
            "grid_gap": null,
            "grid_row": null,
            "grid_template_areas": null,
            "grid_template_columns": null,
            "grid_template_rows": null,
            "height": null,
            "justify_content": null,
            "justify_items": null,
            "left": null,
            "margin": null,
            "max_height": null,
            "max_width": null,
            "min_height": null,
            "min_width": null,
            "object_fit": null,
            "object_position": null,
            "order": null,
            "overflow": null,
            "overflow_x": null,
            "overflow_y": null,
            "padding": null,
            "right": null,
            "top": null,
            "visibility": null,
            "width": null
          }
        },
        "f1ace7693c9d42299f287461ec4360f2": {
          "model_module": "@jupyter-widgets/base",
          "model_name": "LayoutModel",
          "model_module_version": "1.2.0",
          "state": {
            "_model_module": "@jupyter-widgets/base",
            "_model_module_version": "1.2.0",
            "_model_name": "LayoutModel",
            "_view_count": null,
            "_view_module": "@jupyter-widgets/base",
            "_view_module_version": "1.2.0",
            "_view_name": "LayoutView",
            "align_content": null,
            "align_items": null,
            "align_self": null,
            "border": null,
            "bottom": null,
            "display": null,
            "flex": null,
            "flex_flow": null,
            "grid_area": null,
            "grid_auto_columns": null,
            "grid_auto_flow": null,
            "grid_auto_rows": null,
            "grid_column": null,
            "grid_gap": null,
            "grid_row": null,
            "grid_template_areas": null,
            "grid_template_columns": null,
            "grid_template_rows": null,
            "height": null,
            "justify_content": null,
            "justify_items": null,
            "left": null,
            "margin": null,
            "max_height": null,
            "max_width": null,
            "min_height": null,
            "min_width": null,
            "object_fit": null,
            "object_position": null,
            "order": null,
            "overflow": null,
            "overflow_x": null,
            "overflow_y": null,
            "padding": null,
            "right": null,
            "top": null,
            "visibility": null,
            "width": null
          }
        },
        "2723ea7f32bc4bd5a0f214c4a3c1ead1": {
          "model_module": "@jupyter-widgets/controls",
          "model_name": "DescriptionStyleModel",
          "model_module_version": "1.5.0",
          "state": {
            "_model_module": "@jupyter-widgets/controls",
            "_model_module_version": "1.5.0",
            "_model_name": "DescriptionStyleModel",
            "_view_count": null,
            "_view_module": "@jupyter-widgets/base",
            "_view_module_version": "1.2.0",
            "_view_name": "StyleView",
            "description_width": ""
          }
        },
        "219f0988fd334152b6c37a9eef32bff9": {
          "model_module": "@jupyter-widgets/base",
          "model_name": "LayoutModel",
          "model_module_version": "1.2.0",
          "state": {
            "_model_module": "@jupyter-widgets/base",
            "_model_module_version": "1.2.0",
            "_model_name": "LayoutModel",
            "_view_count": null,
            "_view_module": "@jupyter-widgets/base",
            "_view_module_version": "1.2.0",
            "_view_name": "LayoutView",
            "align_content": null,
            "align_items": null,
            "align_self": null,
            "border": null,
            "bottom": null,
            "display": null,
            "flex": null,
            "flex_flow": null,
            "grid_area": null,
            "grid_auto_columns": null,
            "grid_auto_flow": null,
            "grid_auto_rows": null,
            "grid_column": null,
            "grid_gap": null,
            "grid_row": null,
            "grid_template_areas": null,
            "grid_template_columns": null,
            "grid_template_rows": null,
            "height": null,
            "justify_content": null,
            "justify_items": null,
            "left": null,
            "margin": null,
            "max_height": null,
            "max_width": null,
            "min_height": null,
            "min_width": null,
            "object_fit": null,
            "object_position": null,
            "order": null,
            "overflow": null,
            "overflow_x": null,
            "overflow_y": null,
            "padding": null,
            "right": null,
            "top": null,
            "visibility": null,
            "width": null
          }
        },
        "6b81c015c0aa47368fd450ae92443fe2": {
          "model_module": "@jupyter-widgets/controls",
          "model_name": "ProgressStyleModel",
          "model_module_version": "1.5.0",
          "state": {
            "_model_module": "@jupyter-widgets/controls",
            "_model_module_version": "1.5.0",
            "_model_name": "ProgressStyleModel",
            "_view_count": null,
            "_view_module": "@jupyter-widgets/base",
            "_view_module_version": "1.2.0",
            "_view_name": "StyleView",
            "bar_color": null,
            "description_width": ""
          }
        },
        "7d2f18cb966340e8bbb7de1fd1b9dfa0": {
          "model_module": "@jupyter-widgets/base",
          "model_name": "LayoutModel",
          "model_module_version": "1.2.0",
          "state": {
            "_model_module": "@jupyter-widgets/base",
            "_model_module_version": "1.2.0",
            "_model_name": "LayoutModel",
            "_view_count": null,
            "_view_module": "@jupyter-widgets/base",
            "_view_module_version": "1.2.0",
            "_view_name": "LayoutView",
            "align_content": null,
            "align_items": null,
            "align_self": null,
            "border": null,
            "bottom": null,
            "display": null,
            "flex": null,
            "flex_flow": null,
            "grid_area": null,
            "grid_auto_columns": null,
            "grid_auto_flow": null,
            "grid_auto_rows": null,
            "grid_column": null,
            "grid_gap": null,
            "grid_row": null,
            "grid_template_areas": null,
            "grid_template_columns": null,
            "grid_template_rows": null,
            "height": null,
            "justify_content": null,
            "justify_items": null,
            "left": null,
            "margin": null,
            "max_height": null,
            "max_width": null,
            "min_height": null,
            "min_width": null,
            "object_fit": null,
            "object_position": null,
            "order": null,
            "overflow": null,
            "overflow_x": null,
            "overflow_y": null,
            "padding": null,
            "right": null,
            "top": null,
            "visibility": null,
            "width": null
          }
        },
        "d8b32654aa8848f8896197af5f146ecb": {
          "model_module": "@jupyter-widgets/controls",
          "model_name": "DescriptionStyleModel",
          "model_module_version": "1.5.0",
          "state": {
            "_model_module": "@jupyter-widgets/controls",
            "_model_module_version": "1.5.0",
            "_model_name": "DescriptionStyleModel",
            "_view_count": null,
            "_view_module": "@jupyter-widgets/base",
            "_view_module_version": "1.2.0",
            "_view_name": "StyleView",
            "description_width": ""
          }
        },
        "dee6a7959b144ffc9cef1fdaf8bea2c7": {
          "model_module": "@jupyter-widgets/controls",
          "model_name": "HBoxModel",
          "model_module_version": "1.5.0",
          "state": {
            "_dom_classes": [],
            "_model_module": "@jupyter-widgets/controls",
            "_model_module_version": "1.5.0",
            "_model_name": "HBoxModel",
            "_view_count": null,
            "_view_module": "@jupyter-widgets/controls",
            "_view_module_version": "1.5.0",
            "_view_name": "HBoxView",
            "box_style": "",
            "children": [
              "IPY_MODEL_4a179d6096f040c898f97711c5e5e166",
              "IPY_MODEL_963d6a99b08446cba95d515b1aedf116",
              "IPY_MODEL_541473e88d0f4e1fa565c3027f6f732a"
            ],
            "layout": "IPY_MODEL_4ecba547530c4b728b79eb43fbae50ef"
          }
        },
        "4a179d6096f040c898f97711c5e5e166": {
          "model_module": "@jupyter-widgets/controls",
          "model_name": "HTMLModel",
          "model_module_version": "1.5.0",
          "state": {
            "_dom_classes": [],
            "_model_module": "@jupyter-widgets/controls",
            "_model_module_version": "1.5.0",
            "_model_name": "HTMLModel",
            "_view_count": null,
            "_view_module": "@jupyter-widgets/controls",
            "_view_module_version": "1.5.0",
            "_view_name": "HTMLView",
            "description": "",
            "description_tooltip": null,
            "layout": "IPY_MODEL_e9268397e0c743b6b8780a6dfc404696",
            "placeholder": "​",
            "style": "IPY_MODEL_0e14c9f0c49648e89bce82a9367e7a84",
            "value": "Pandas Apply: 100%"
          }
        },
        "963d6a99b08446cba95d515b1aedf116": {
          "model_module": "@jupyter-widgets/controls",
          "model_name": "FloatProgressModel",
          "model_module_version": "1.5.0",
          "state": {
            "_dom_classes": [],
            "_model_module": "@jupyter-widgets/controls",
            "_model_module_version": "1.5.0",
            "_model_name": "FloatProgressModel",
            "_view_count": null,
            "_view_module": "@jupyter-widgets/controls",
            "_view_module_version": "1.5.0",
            "_view_name": "ProgressView",
            "bar_style": "success",
            "description": "",
            "description_tooltip": null,
            "layout": "IPY_MODEL_97dafdb1439b424f9d241fdefa517537",
            "max": 438813,
            "min": 0,
            "orientation": "horizontal",
            "style": "IPY_MODEL_fc89122e761c4b14b066b7f6f5a857f0",
            "value": 438813
          }
        },
        "541473e88d0f4e1fa565c3027f6f732a": {
          "model_module": "@jupyter-widgets/controls",
          "model_name": "HTMLModel",
          "model_module_version": "1.5.0",
          "state": {
            "_dom_classes": [],
            "_model_module": "@jupyter-widgets/controls",
            "_model_module_version": "1.5.0",
            "_model_name": "HTMLModel",
            "_view_count": null,
            "_view_module": "@jupyter-widgets/controls",
            "_view_module_version": "1.5.0",
            "_view_name": "HTMLView",
            "description": "",
            "description_tooltip": null,
            "layout": "IPY_MODEL_05cddaeb0c324d0fa30535ec8af236e7",
            "placeholder": "​",
            "style": "IPY_MODEL_1096bdaddea343eb8594f4e4df22455d",
            "value": " 438813/438813 [07:21&lt;00:00, 1119.65it/s]"
          }
        },
        "4ecba547530c4b728b79eb43fbae50ef": {
          "model_module": "@jupyter-widgets/base",
          "model_name": "LayoutModel",
          "model_module_version": "1.2.0",
          "state": {
            "_model_module": "@jupyter-widgets/base",
            "_model_module_version": "1.2.0",
            "_model_name": "LayoutModel",
            "_view_count": null,
            "_view_module": "@jupyter-widgets/base",
            "_view_module_version": "1.2.0",
            "_view_name": "LayoutView",
            "align_content": null,
            "align_items": null,
            "align_self": null,
            "border": null,
            "bottom": null,
            "display": null,
            "flex": null,
            "flex_flow": null,
            "grid_area": null,
            "grid_auto_columns": null,
            "grid_auto_flow": null,
            "grid_auto_rows": null,
            "grid_column": null,
            "grid_gap": null,
            "grid_row": null,
            "grid_template_areas": null,
            "grid_template_columns": null,
            "grid_template_rows": null,
            "height": null,
            "justify_content": null,
            "justify_items": null,
            "left": null,
            "margin": null,
            "max_height": null,
            "max_width": null,
            "min_height": null,
            "min_width": null,
            "object_fit": null,
            "object_position": null,
            "order": null,
            "overflow": null,
            "overflow_x": null,
            "overflow_y": null,
            "padding": null,
            "right": null,
            "top": null,
            "visibility": null,
            "width": null
          }
        },
        "e9268397e0c743b6b8780a6dfc404696": {
          "model_module": "@jupyter-widgets/base",
          "model_name": "LayoutModel",
          "model_module_version": "1.2.0",
          "state": {
            "_model_module": "@jupyter-widgets/base",
            "_model_module_version": "1.2.0",
            "_model_name": "LayoutModel",
            "_view_count": null,
            "_view_module": "@jupyter-widgets/base",
            "_view_module_version": "1.2.0",
            "_view_name": "LayoutView",
            "align_content": null,
            "align_items": null,
            "align_self": null,
            "border": null,
            "bottom": null,
            "display": null,
            "flex": null,
            "flex_flow": null,
            "grid_area": null,
            "grid_auto_columns": null,
            "grid_auto_flow": null,
            "grid_auto_rows": null,
            "grid_column": null,
            "grid_gap": null,
            "grid_row": null,
            "grid_template_areas": null,
            "grid_template_columns": null,
            "grid_template_rows": null,
            "height": null,
            "justify_content": null,
            "justify_items": null,
            "left": null,
            "margin": null,
            "max_height": null,
            "max_width": null,
            "min_height": null,
            "min_width": null,
            "object_fit": null,
            "object_position": null,
            "order": null,
            "overflow": null,
            "overflow_x": null,
            "overflow_y": null,
            "padding": null,
            "right": null,
            "top": null,
            "visibility": null,
            "width": null
          }
        },
        "0e14c9f0c49648e89bce82a9367e7a84": {
          "model_module": "@jupyter-widgets/controls",
          "model_name": "DescriptionStyleModel",
          "model_module_version": "1.5.0",
          "state": {
            "_model_module": "@jupyter-widgets/controls",
            "_model_module_version": "1.5.0",
            "_model_name": "DescriptionStyleModel",
            "_view_count": null,
            "_view_module": "@jupyter-widgets/base",
            "_view_module_version": "1.2.0",
            "_view_name": "StyleView",
            "description_width": ""
          }
        },
        "97dafdb1439b424f9d241fdefa517537": {
          "model_module": "@jupyter-widgets/base",
          "model_name": "LayoutModel",
          "model_module_version": "1.2.0",
          "state": {
            "_model_module": "@jupyter-widgets/base",
            "_model_module_version": "1.2.0",
            "_model_name": "LayoutModel",
            "_view_count": null,
            "_view_module": "@jupyter-widgets/base",
            "_view_module_version": "1.2.0",
            "_view_name": "LayoutView",
            "align_content": null,
            "align_items": null,
            "align_self": null,
            "border": null,
            "bottom": null,
            "display": null,
            "flex": null,
            "flex_flow": null,
            "grid_area": null,
            "grid_auto_columns": null,
            "grid_auto_flow": null,
            "grid_auto_rows": null,
            "grid_column": null,
            "grid_gap": null,
            "grid_row": null,
            "grid_template_areas": null,
            "grid_template_columns": null,
            "grid_template_rows": null,
            "height": null,
            "justify_content": null,
            "justify_items": null,
            "left": null,
            "margin": null,
            "max_height": null,
            "max_width": null,
            "min_height": null,
            "min_width": null,
            "object_fit": null,
            "object_position": null,
            "order": null,
            "overflow": null,
            "overflow_x": null,
            "overflow_y": null,
            "padding": null,
            "right": null,
            "top": null,
            "visibility": null,
            "width": null
          }
        },
        "fc89122e761c4b14b066b7f6f5a857f0": {
          "model_module": "@jupyter-widgets/controls",
          "model_name": "ProgressStyleModel",
          "model_module_version": "1.5.0",
          "state": {
            "_model_module": "@jupyter-widgets/controls",
            "_model_module_version": "1.5.0",
            "_model_name": "ProgressStyleModel",
            "_view_count": null,
            "_view_module": "@jupyter-widgets/base",
            "_view_module_version": "1.2.0",
            "_view_name": "StyleView",
            "bar_color": null,
            "description_width": ""
          }
        },
        "05cddaeb0c324d0fa30535ec8af236e7": {
          "model_module": "@jupyter-widgets/base",
          "model_name": "LayoutModel",
          "model_module_version": "1.2.0",
          "state": {
            "_model_module": "@jupyter-widgets/base",
            "_model_module_version": "1.2.0",
            "_model_name": "LayoutModel",
            "_view_count": null,
            "_view_module": "@jupyter-widgets/base",
            "_view_module_version": "1.2.0",
            "_view_name": "LayoutView",
            "align_content": null,
            "align_items": null,
            "align_self": null,
            "border": null,
            "bottom": null,
            "display": null,
            "flex": null,
            "flex_flow": null,
            "grid_area": null,
            "grid_auto_columns": null,
            "grid_auto_flow": null,
            "grid_auto_rows": null,
            "grid_column": null,
            "grid_gap": null,
            "grid_row": null,
            "grid_template_areas": null,
            "grid_template_columns": null,
            "grid_template_rows": null,
            "height": null,
            "justify_content": null,
            "justify_items": null,
            "left": null,
            "margin": null,
            "max_height": null,
            "max_width": null,
            "min_height": null,
            "min_width": null,
            "object_fit": null,
            "object_position": null,
            "order": null,
            "overflow": null,
            "overflow_x": null,
            "overflow_y": null,
            "padding": null,
            "right": null,
            "top": null,
            "visibility": null,
            "width": null
          }
        },
        "1096bdaddea343eb8594f4e4df22455d": {
          "model_module": "@jupyter-widgets/controls",
          "model_name": "DescriptionStyleModel",
          "model_module_version": "1.5.0",
          "state": {
            "_model_module": "@jupyter-widgets/controls",
            "_model_module_version": "1.5.0",
            "_model_name": "DescriptionStyleModel",
            "_view_count": null,
            "_view_module": "@jupyter-widgets/base",
            "_view_module_version": "1.2.0",
            "_view_name": "StyleView",
            "description_width": ""
          }
        },
        "0e62c014831749218a449feab3307d06": {
          "model_module": "@jupyter-widgets/controls",
          "model_name": "HBoxModel",
          "model_module_version": "1.5.0",
          "state": {
            "_dom_classes": [],
            "_model_module": "@jupyter-widgets/controls",
            "_model_module_version": "1.5.0",
            "_model_name": "HBoxModel",
            "_view_count": null,
            "_view_module": "@jupyter-widgets/controls",
            "_view_module_version": "1.5.0",
            "_view_name": "HBoxView",
            "box_style": "",
            "children": [
              "IPY_MODEL_adfde7604af74038b2debce8425a5d4a",
              "IPY_MODEL_7cadca13acc7411a8488e0bd0546df0e",
              "IPY_MODEL_a4d4614a2813487ebcb563bfbf92a989"
            ],
            "layout": "IPY_MODEL_bdbaa04131bf408799b24934980dd3da"
          }
        },
        "adfde7604af74038b2debce8425a5d4a": {
          "model_module": "@jupyter-widgets/controls",
          "model_name": "HTMLModel",
          "model_module_version": "1.5.0",
          "state": {
            "_dom_classes": [],
            "_model_module": "@jupyter-widgets/controls",
            "_model_module_version": "1.5.0",
            "_model_name": "HTMLModel",
            "_view_count": null,
            "_view_module": "@jupyter-widgets/controls",
            "_view_module_version": "1.5.0",
            "_view_name": "HTMLView",
            "description": "",
            "description_tooltip": null,
            "layout": "IPY_MODEL_2150636b5da341ce911dbb2dee85afb6",
            "placeholder": "​",
            "style": "IPY_MODEL_1991653e636749b09e0d38293b3a0622",
            "value": "Pandas Apply: 100%"
          }
        },
        "7cadca13acc7411a8488e0bd0546df0e": {
          "model_module": "@jupyter-widgets/controls",
          "model_name": "FloatProgressModel",
          "model_module_version": "1.5.0",
          "state": {
            "_dom_classes": [],
            "_model_module": "@jupyter-widgets/controls",
            "_model_module_version": "1.5.0",
            "_model_name": "FloatProgressModel",
            "_view_count": null,
            "_view_module": "@jupyter-widgets/controls",
            "_view_module_version": "1.5.0",
            "_view_name": "ProgressView",
            "bar_style": "success",
            "description": "",
            "description_tooltip": null,
            "layout": "IPY_MODEL_22ac54425f454f4b901aef0119d2c305",
            "max": 438813,
            "min": 0,
            "orientation": "horizontal",
            "style": "IPY_MODEL_d1f0dc9071ec4cc1a9e2c7905eb12517",
            "value": 438813
          }
        },
        "a4d4614a2813487ebcb563bfbf92a989": {
          "model_module": "@jupyter-widgets/controls",
          "model_name": "HTMLModel",
          "model_module_version": "1.5.0",
          "state": {
            "_dom_classes": [],
            "_model_module": "@jupyter-widgets/controls",
            "_model_module_version": "1.5.0",
            "_model_name": "HTMLModel",
            "_view_count": null,
            "_view_module": "@jupyter-widgets/controls",
            "_view_module_version": "1.5.0",
            "_view_name": "HTMLView",
            "description": "",
            "description_tooltip": null,
            "layout": "IPY_MODEL_5bbc39ddebde407ca5a9885427b01bcc",
            "placeholder": "​",
            "style": "IPY_MODEL_6a144c104d7e44b392e0e1de1c1c78da",
            "value": " 438813/438813 [00:04&lt;00:00, 78380.31it/s]"
          }
        },
        "bdbaa04131bf408799b24934980dd3da": {
          "model_module": "@jupyter-widgets/base",
          "model_name": "LayoutModel",
          "model_module_version": "1.2.0",
          "state": {
            "_model_module": "@jupyter-widgets/base",
            "_model_module_version": "1.2.0",
            "_model_name": "LayoutModel",
            "_view_count": null,
            "_view_module": "@jupyter-widgets/base",
            "_view_module_version": "1.2.0",
            "_view_name": "LayoutView",
            "align_content": null,
            "align_items": null,
            "align_self": null,
            "border": null,
            "bottom": null,
            "display": null,
            "flex": null,
            "flex_flow": null,
            "grid_area": null,
            "grid_auto_columns": null,
            "grid_auto_flow": null,
            "grid_auto_rows": null,
            "grid_column": null,
            "grid_gap": null,
            "grid_row": null,
            "grid_template_areas": null,
            "grid_template_columns": null,
            "grid_template_rows": null,
            "height": null,
            "justify_content": null,
            "justify_items": null,
            "left": null,
            "margin": null,
            "max_height": null,
            "max_width": null,
            "min_height": null,
            "min_width": null,
            "object_fit": null,
            "object_position": null,
            "order": null,
            "overflow": null,
            "overflow_x": null,
            "overflow_y": null,
            "padding": null,
            "right": null,
            "top": null,
            "visibility": null,
            "width": null
          }
        },
        "2150636b5da341ce911dbb2dee85afb6": {
          "model_module": "@jupyter-widgets/base",
          "model_name": "LayoutModel",
          "model_module_version": "1.2.0",
          "state": {
            "_model_module": "@jupyter-widgets/base",
            "_model_module_version": "1.2.0",
            "_model_name": "LayoutModel",
            "_view_count": null,
            "_view_module": "@jupyter-widgets/base",
            "_view_module_version": "1.2.0",
            "_view_name": "LayoutView",
            "align_content": null,
            "align_items": null,
            "align_self": null,
            "border": null,
            "bottom": null,
            "display": null,
            "flex": null,
            "flex_flow": null,
            "grid_area": null,
            "grid_auto_columns": null,
            "grid_auto_flow": null,
            "grid_auto_rows": null,
            "grid_column": null,
            "grid_gap": null,
            "grid_row": null,
            "grid_template_areas": null,
            "grid_template_columns": null,
            "grid_template_rows": null,
            "height": null,
            "justify_content": null,
            "justify_items": null,
            "left": null,
            "margin": null,
            "max_height": null,
            "max_width": null,
            "min_height": null,
            "min_width": null,
            "object_fit": null,
            "object_position": null,
            "order": null,
            "overflow": null,
            "overflow_x": null,
            "overflow_y": null,
            "padding": null,
            "right": null,
            "top": null,
            "visibility": null,
            "width": null
          }
        },
        "1991653e636749b09e0d38293b3a0622": {
          "model_module": "@jupyter-widgets/controls",
          "model_name": "DescriptionStyleModel",
          "model_module_version": "1.5.0",
          "state": {
            "_model_module": "@jupyter-widgets/controls",
            "_model_module_version": "1.5.0",
            "_model_name": "DescriptionStyleModel",
            "_view_count": null,
            "_view_module": "@jupyter-widgets/base",
            "_view_module_version": "1.2.0",
            "_view_name": "StyleView",
            "description_width": ""
          }
        },
        "22ac54425f454f4b901aef0119d2c305": {
          "model_module": "@jupyter-widgets/base",
          "model_name": "LayoutModel",
          "model_module_version": "1.2.0",
          "state": {
            "_model_module": "@jupyter-widgets/base",
            "_model_module_version": "1.2.0",
            "_model_name": "LayoutModel",
            "_view_count": null,
            "_view_module": "@jupyter-widgets/base",
            "_view_module_version": "1.2.0",
            "_view_name": "LayoutView",
            "align_content": null,
            "align_items": null,
            "align_self": null,
            "border": null,
            "bottom": null,
            "display": null,
            "flex": null,
            "flex_flow": null,
            "grid_area": null,
            "grid_auto_columns": null,
            "grid_auto_flow": null,
            "grid_auto_rows": null,
            "grid_column": null,
            "grid_gap": null,
            "grid_row": null,
            "grid_template_areas": null,
            "grid_template_columns": null,
            "grid_template_rows": null,
            "height": null,
            "justify_content": null,
            "justify_items": null,
            "left": null,
            "margin": null,
            "max_height": null,
            "max_width": null,
            "min_height": null,
            "min_width": null,
            "object_fit": null,
            "object_position": null,
            "order": null,
            "overflow": null,
            "overflow_x": null,
            "overflow_y": null,
            "padding": null,
            "right": null,
            "top": null,
            "visibility": null,
            "width": null
          }
        },
        "d1f0dc9071ec4cc1a9e2c7905eb12517": {
          "model_module": "@jupyter-widgets/controls",
          "model_name": "ProgressStyleModel",
          "model_module_version": "1.5.0",
          "state": {
            "_model_module": "@jupyter-widgets/controls",
            "_model_module_version": "1.5.0",
            "_model_name": "ProgressStyleModel",
            "_view_count": null,
            "_view_module": "@jupyter-widgets/base",
            "_view_module_version": "1.2.0",
            "_view_name": "StyleView",
            "bar_color": null,
            "description_width": ""
          }
        },
        "5bbc39ddebde407ca5a9885427b01bcc": {
          "model_module": "@jupyter-widgets/base",
          "model_name": "LayoutModel",
          "model_module_version": "1.2.0",
          "state": {
            "_model_module": "@jupyter-widgets/base",
            "_model_module_version": "1.2.0",
            "_model_name": "LayoutModel",
            "_view_count": null,
            "_view_module": "@jupyter-widgets/base",
            "_view_module_version": "1.2.0",
            "_view_name": "LayoutView",
            "align_content": null,
            "align_items": null,
            "align_self": null,
            "border": null,
            "bottom": null,
            "display": null,
            "flex": null,
            "flex_flow": null,
            "grid_area": null,
            "grid_auto_columns": null,
            "grid_auto_flow": null,
            "grid_auto_rows": null,
            "grid_column": null,
            "grid_gap": null,
            "grid_row": null,
            "grid_template_areas": null,
            "grid_template_columns": null,
            "grid_template_rows": null,
            "height": null,
            "justify_content": null,
            "justify_items": null,
            "left": null,
            "margin": null,
            "max_height": null,
            "max_width": null,
            "min_height": null,
            "min_width": null,
            "object_fit": null,
            "object_position": null,
            "order": null,
            "overflow": null,
            "overflow_x": null,
            "overflow_y": null,
            "padding": null,
            "right": null,
            "top": null,
            "visibility": null,
            "width": null
          }
        },
        "6a144c104d7e44b392e0e1de1c1c78da": {
          "model_module": "@jupyter-widgets/controls",
          "model_name": "DescriptionStyleModel",
          "model_module_version": "1.5.0",
          "state": {
            "_model_module": "@jupyter-widgets/controls",
            "_model_module_version": "1.5.0",
            "_model_name": "DescriptionStyleModel",
            "_view_count": null,
            "_view_module": "@jupyter-widgets/base",
            "_view_module_version": "1.2.0",
            "_view_name": "StyleView",
            "description_width": ""
          }
        },
        "78884033ad4e49d0ba83779f4fdb7e74": {
          "model_module": "@jupyter-widgets/controls",
          "model_name": "HBoxModel",
          "model_module_version": "1.5.0",
          "state": {
            "_dom_classes": [],
            "_model_module": "@jupyter-widgets/controls",
            "_model_module_version": "1.5.0",
            "_model_name": "HBoxModel",
            "_view_count": null,
            "_view_module": "@jupyter-widgets/controls",
            "_view_module_version": "1.5.0",
            "_view_name": "HBoxView",
            "box_style": "",
            "children": [
              "IPY_MODEL_4c981599ed604c58bbefb3c01148d0ca",
              "IPY_MODEL_598705c4968449939af4eb34d4a32eea",
              "IPY_MODEL_fa04ddc19bcb4a78ad047f69661a81de"
            ],
            "layout": "IPY_MODEL_cfca4c7e7c404dc1b842f8664fbd4722"
          }
        },
        "4c981599ed604c58bbefb3c01148d0ca": {
          "model_module": "@jupyter-widgets/controls",
          "model_name": "HTMLModel",
          "model_module_version": "1.5.0",
          "state": {
            "_dom_classes": [],
            "_model_module": "@jupyter-widgets/controls",
            "_model_module_version": "1.5.0",
            "_model_name": "HTMLModel",
            "_view_count": null,
            "_view_module": "@jupyter-widgets/controls",
            "_view_module_version": "1.5.0",
            "_view_name": "HTMLView",
            "description": "",
            "description_tooltip": null,
            "layout": "IPY_MODEL_a98e645c6ede407d8947ffab64c4bfdf",
            "placeholder": "​",
            "style": "IPY_MODEL_37dc390d40c04cd99328d13dff66a9b7",
            "value": "Pandas Apply: 100%"
          }
        },
        "598705c4968449939af4eb34d4a32eea": {
          "model_module": "@jupyter-widgets/controls",
          "model_name": "FloatProgressModel",
          "model_module_version": "1.5.0",
          "state": {
            "_dom_classes": [],
            "_model_module": "@jupyter-widgets/controls",
            "_model_module_version": "1.5.0",
            "_model_name": "FloatProgressModel",
            "_view_count": null,
            "_view_module": "@jupyter-widgets/controls",
            "_view_module_version": "1.5.0",
            "_view_name": "ProgressView",
            "bar_style": "success",
            "description": "",
            "description_tooltip": null,
            "layout": "IPY_MODEL_1006c154b38b48bd9c749625f0c856c1",
            "max": 438813,
            "min": 0,
            "orientation": "horizontal",
            "style": "IPY_MODEL_bb41a5dce010465488abe3ff0fe77a4e",
            "value": 438813
          }
        },
        "fa04ddc19bcb4a78ad047f69661a81de": {
          "model_module": "@jupyter-widgets/controls",
          "model_name": "HTMLModel",
          "model_module_version": "1.5.0",
          "state": {
            "_dom_classes": [],
            "_model_module": "@jupyter-widgets/controls",
            "_model_module_version": "1.5.0",
            "_model_name": "HTMLModel",
            "_view_count": null,
            "_view_module": "@jupyter-widgets/controls",
            "_view_module_version": "1.5.0",
            "_view_name": "HTMLView",
            "description": "",
            "description_tooltip": null,
            "layout": "IPY_MODEL_38052e29e2db468f8d4af863e60e08a5",
            "placeholder": "​",
            "style": "IPY_MODEL_fee1129ec957461e89d2dfcd7072a803",
            "value": " 438813/438813 [00:03&lt;00:00, 57393.62it/s]"
          }
        },
        "cfca4c7e7c404dc1b842f8664fbd4722": {
          "model_module": "@jupyter-widgets/base",
          "model_name": "LayoutModel",
          "model_module_version": "1.2.0",
          "state": {
            "_model_module": "@jupyter-widgets/base",
            "_model_module_version": "1.2.0",
            "_model_name": "LayoutModel",
            "_view_count": null,
            "_view_module": "@jupyter-widgets/base",
            "_view_module_version": "1.2.0",
            "_view_name": "LayoutView",
            "align_content": null,
            "align_items": null,
            "align_self": null,
            "border": null,
            "bottom": null,
            "display": null,
            "flex": null,
            "flex_flow": null,
            "grid_area": null,
            "grid_auto_columns": null,
            "grid_auto_flow": null,
            "grid_auto_rows": null,
            "grid_column": null,
            "grid_gap": null,
            "grid_row": null,
            "grid_template_areas": null,
            "grid_template_columns": null,
            "grid_template_rows": null,
            "height": null,
            "justify_content": null,
            "justify_items": null,
            "left": null,
            "margin": null,
            "max_height": null,
            "max_width": null,
            "min_height": null,
            "min_width": null,
            "object_fit": null,
            "object_position": null,
            "order": null,
            "overflow": null,
            "overflow_x": null,
            "overflow_y": null,
            "padding": null,
            "right": null,
            "top": null,
            "visibility": null,
            "width": null
          }
        },
        "a98e645c6ede407d8947ffab64c4bfdf": {
          "model_module": "@jupyter-widgets/base",
          "model_name": "LayoutModel",
          "model_module_version": "1.2.0",
          "state": {
            "_model_module": "@jupyter-widgets/base",
            "_model_module_version": "1.2.0",
            "_model_name": "LayoutModel",
            "_view_count": null,
            "_view_module": "@jupyter-widgets/base",
            "_view_module_version": "1.2.0",
            "_view_name": "LayoutView",
            "align_content": null,
            "align_items": null,
            "align_self": null,
            "border": null,
            "bottom": null,
            "display": null,
            "flex": null,
            "flex_flow": null,
            "grid_area": null,
            "grid_auto_columns": null,
            "grid_auto_flow": null,
            "grid_auto_rows": null,
            "grid_column": null,
            "grid_gap": null,
            "grid_row": null,
            "grid_template_areas": null,
            "grid_template_columns": null,
            "grid_template_rows": null,
            "height": null,
            "justify_content": null,
            "justify_items": null,
            "left": null,
            "margin": null,
            "max_height": null,
            "max_width": null,
            "min_height": null,
            "min_width": null,
            "object_fit": null,
            "object_position": null,
            "order": null,
            "overflow": null,
            "overflow_x": null,
            "overflow_y": null,
            "padding": null,
            "right": null,
            "top": null,
            "visibility": null,
            "width": null
          }
        },
        "37dc390d40c04cd99328d13dff66a9b7": {
          "model_module": "@jupyter-widgets/controls",
          "model_name": "DescriptionStyleModel",
          "model_module_version": "1.5.0",
          "state": {
            "_model_module": "@jupyter-widgets/controls",
            "_model_module_version": "1.5.0",
            "_model_name": "DescriptionStyleModel",
            "_view_count": null,
            "_view_module": "@jupyter-widgets/base",
            "_view_module_version": "1.2.0",
            "_view_name": "StyleView",
            "description_width": ""
          }
        },
        "1006c154b38b48bd9c749625f0c856c1": {
          "model_module": "@jupyter-widgets/base",
          "model_name": "LayoutModel",
          "model_module_version": "1.2.0",
          "state": {
            "_model_module": "@jupyter-widgets/base",
            "_model_module_version": "1.2.0",
            "_model_name": "LayoutModel",
            "_view_count": null,
            "_view_module": "@jupyter-widgets/base",
            "_view_module_version": "1.2.0",
            "_view_name": "LayoutView",
            "align_content": null,
            "align_items": null,
            "align_self": null,
            "border": null,
            "bottom": null,
            "display": null,
            "flex": null,
            "flex_flow": null,
            "grid_area": null,
            "grid_auto_columns": null,
            "grid_auto_flow": null,
            "grid_auto_rows": null,
            "grid_column": null,
            "grid_gap": null,
            "grid_row": null,
            "grid_template_areas": null,
            "grid_template_columns": null,
            "grid_template_rows": null,
            "height": null,
            "justify_content": null,
            "justify_items": null,
            "left": null,
            "margin": null,
            "max_height": null,
            "max_width": null,
            "min_height": null,
            "min_width": null,
            "object_fit": null,
            "object_position": null,
            "order": null,
            "overflow": null,
            "overflow_x": null,
            "overflow_y": null,
            "padding": null,
            "right": null,
            "top": null,
            "visibility": null,
            "width": null
          }
        },
        "bb41a5dce010465488abe3ff0fe77a4e": {
          "model_module": "@jupyter-widgets/controls",
          "model_name": "ProgressStyleModel",
          "model_module_version": "1.5.0",
          "state": {
            "_model_module": "@jupyter-widgets/controls",
            "_model_module_version": "1.5.0",
            "_model_name": "ProgressStyleModel",
            "_view_count": null,
            "_view_module": "@jupyter-widgets/base",
            "_view_module_version": "1.2.0",
            "_view_name": "StyleView",
            "bar_color": null,
            "description_width": ""
          }
        },
        "38052e29e2db468f8d4af863e60e08a5": {
          "model_module": "@jupyter-widgets/base",
          "model_name": "LayoutModel",
          "model_module_version": "1.2.0",
          "state": {
            "_model_module": "@jupyter-widgets/base",
            "_model_module_version": "1.2.0",
            "_model_name": "LayoutModel",
            "_view_count": null,
            "_view_module": "@jupyter-widgets/base",
            "_view_module_version": "1.2.0",
            "_view_name": "LayoutView",
            "align_content": null,
            "align_items": null,
            "align_self": null,
            "border": null,
            "bottom": null,
            "display": null,
            "flex": null,
            "flex_flow": null,
            "grid_area": null,
            "grid_auto_columns": null,
            "grid_auto_flow": null,
            "grid_auto_rows": null,
            "grid_column": null,
            "grid_gap": null,
            "grid_row": null,
            "grid_template_areas": null,
            "grid_template_columns": null,
            "grid_template_rows": null,
            "height": null,
            "justify_content": null,
            "justify_items": null,
            "left": null,
            "margin": null,
            "max_height": null,
            "max_width": null,
            "min_height": null,
            "min_width": null,
            "object_fit": null,
            "object_position": null,
            "order": null,
            "overflow": null,
            "overflow_x": null,
            "overflow_y": null,
            "padding": null,
            "right": null,
            "top": null,
            "visibility": null,
            "width": null
          }
        },
        "fee1129ec957461e89d2dfcd7072a803": {
          "model_module": "@jupyter-widgets/controls",
          "model_name": "DescriptionStyleModel",
          "model_module_version": "1.5.0",
          "state": {
            "_model_module": "@jupyter-widgets/controls",
            "_model_module_version": "1.5.0",
            "_model_name": "DescriptionStyleModel",
            "_view_count": null,
            "_view_module": "@jupyter-widgets/base",
            "_view_module_version": "1.2.0",
            "_view_name": "StyleView",
            "description_width": ""
          }
        },
        "d35e118f44b54a9ba8c3e94745dacc2a": {
          "model_module": "@jupyter-widgets/controls",
          "model_name": "HBoxModel",
          "model_module_version": "1.5.0",
          "state": {
            "_dom_classes": [],
            "_model_module": "@jupyter-widgets/controls",
            "_model_module_version": "1.5.0",
            "_model_name": "HBoxModel",
            "_view_count": null,
            "_view_module": "@jupyter-widgets/controls",
            "_view_module_version": "1.5.0",
            "_view_name": "HBoxView",
            "box_style": "",
            "children": [
              "IPY_MODEL_07638ee4b5e4427fb7623f71b6afe5e7",
              "IPY_MODEL_e6c187a9259844ae876d51c3bdf9cc55",
              "IPY_MODEL_b038de8e08c048d4b627d9d7b2f50889"
            ],
            "layout": "IPY_MODEL_735a496f7db64905baa82ae28d912507"
          }
        },
        "07638ee4b5e4427fb7623f71b6afe5e7": {
          "model_module": "@jupyter-widgets/controls",
          "model_name": "HTMLModel",
          "model_module_version": "1.5.0",
          "state": {
            "_dom_classes": [],
            "_model_module": "@jupyter-widgets/controls",
            "_model_module_version": "1.5.0",
            "_model_name": "HTMLModel",
            "_view_count": null,
            "_view_module": "@jupyter-widgets/controls",
            "_view_module_version": "1.5.0",
            "_view_name": "HTMLView",
            "description": "",
            "description_tooltip": null,
            "layout": "IPY_MODEL_100d2874b7724feba0bee35fc4724f50",
            "placeholder": "​",
            "style": "IPY_MODEL_a8d789f415e94bf7aaa7e08356f82d0d",
            "value": "Pandas Apply: 100%"
          }
        },
        "e6c187a9259844ae876d51c3bdf9cc55": {
          "model_module": "@jupyter-widgets/controls",
          "model_name": "FloatProgressModel",
          "model_module_version": "1.5.0",
          "state": {
            "_dom_classes": [],
            "_model_module": "@jupyter-widgets/controls",
            "_model_module_version": "1.5.0",
            "_model_name": "FloatProgressModel",
            "_view_count": null,
            "_view_module": "@jupyter-widgets/controls",
            "_view_module_version": "1.5.0",
            "_view_name": "ProgressView",
            "bar_style": "success",
            "description": "",
            "description_tooltip": null,
            "layout": "IPY_MODEL_5ca330af0dbb4e54a675b25667e7bb9c",
            "max": 438813,
            "min": 0,
            "orientation": "horizontal",
            "style": "IPY_MODEL_b0243eedbdde463ebf39c910a740d3cb",
            "value": 438813
          }
        },
        "b038de8e08c048d4b627d9d7b2f50889": {
          "model_module": "@jupyter-widgets/controls",
          "model_name": "HTMLModel",
          "model_module_version": "1.5.0",
          "state": {
            "_dom_classes": [],
            "_model_module": "@jupyter-widgets/controls",
            "_model_module_version": "1.5.0",
            "_model_name": "HTMLModel",
            "_view_count": null,
            "_view_module": "@jupyter-widgets/controls",
            "_view_module_version": "1.5.0",
            "_view_name": "HTMLView",
            "description": "",
            "description_tooltip": null,
            "layout": "IPY_MODEL_e7ec6d460ca14685bf8a0c0c77c3648f",
            "placeholder": "​",
            "style": "IPY_MODEL_3699830770af4d1c9f1440fac9014aad",
            "value": " 438813/438813 [00:12&lt;00:00, 28647.97it/s]"
          }
        },
        "735a496f7db64905baa82ae28d912507": {
          "model_module": "@jupyter-widgets/base",
          "model_name": "LayoutModel",
          "model_module_version": "1.2.0",
          "state": {
            "_model_module": "@jupyter-widgets/base",
            "_model_module_version": "1.2.0",
            "_model_name": "LayoutModel",
            "_view_count": null,
            "_view_module": "@jupyter-widgets/base",
            "_view_module_version": "1.2.0",
            "_view_name": "LayoutView",
            "align_content": null,
            "align_items": null,
            "align_self": null,
            "border": null,
            "bottom": null,
            "display": null,
            "flex": null,
            "flex_flow": null,
            "grid_area": null,
            "grid_auto_columns": null,
            "grid_auto_flow": null,
            "grid_auto_rows": null,
            "grid_column": null,
            "grid_gap": null,
            "grid_row": null,
            "grid_template_areas": null,
            "grid_template_columns": null,
            "grid_template_rows": null,
            "height": null,
            "justify_content": null,
            "justify_items": null,
            "left": null,
            "margin": null,
            "max_height": null,
            "max_width": null,
            "min_height": null,
            "min_width": null,
            "object_fit": null,
            "object_position": null,
            "order": null,
            "overflow": null,
            "overflow_x": null,
            "overflow_y": null,
            "padding": null,
            "right": null,
            "top": null,
            "visibility": null,
            "width": null
          }
        },
        "100d2874b7724feba0bee35fc4724f50": {
          "model_module": "@jupyter-widgets/base",
          "model_name": "LayoutModel",
          "model_module_version": "1.2.0",
          "state": {
            "_model_module": "@jupyter-widgets/base",
            "_model_module_version": "1.2.0",
            "_model_name": "LayoutModel",
            "_view_count": null,
            "_view_module": "@jupyter-widgets/base",
            "_view_module_version": "1.2.0",
            "_view_name": "LayoutView",
            "align_content": null,
            "align_items": null,
            "align_self": null,
            "border": null,
            "bottom": null,
            "display": null,
            "flex": null,
            "flex_flow": null,
            "grid_area": null,
            "grid_auto_columns": null,
            "grid_auto_flow": null,
            "grid_auto_rows": null,
            "grid_column": null,
            "grid_gap": null,
            "grid_row": null,
            "grid_template_areas": null,
            "grid_template_columns": null,
            "grid_template_rows": null,
            "height": null,
            "justify_content": null,
            "justify_items": null,
            "left": null,
            "margin": null,
            "max_height": null,
            "max_width": null,
            "min_height": null,
            "min_width": null,
            "object_fit": null,
            "object_position": null,
            "order": null,
            "overflow": null,
            "overflow_x": null,
            "overflow_y": null,
            "padding": null,
            "right": null,
            "top": null,
            "visibility": null,
            "width": null
          }
        },
        "a8d789f415e94bf7aaa7e08356f82d0d": {
          "model_module": "@jupyter-widgets/controls",
          "model_name": "DescriptionStyleModel",
          "model_module_version": "1.5.0",
          "state": {
            "_model_module": "@jupyter-widgets/controls",
            "_model_module_version": "1.5.0",
            "_model_name": "DescriptionStyleModel",
            "_view_count": null,
            "_view_module": "@jupyter-widgets/base",
            "_view_module_version": "1.2.0",
            "_view_name": "StyleView",
            "description_width": ""
          }
        },
        "5ca330af0dbb4e54a675b25667e7bb9c": {
          "model_module": "@jupyter-widgets/base",
          "model_name": "LayoutModel",
          "model_module_version": "1.2.0",
          "state": {
            "_model_module": "@jupyter-widgets/base",
            "_model_module_version": "1.2.0",
            "_model_name": "LayoutModel",
            "_view_count": null,
            "_view_module": "@jupyter-widgets/base",
            "_view_module_version": "1.2.0",
            "_view_name": "LayoutView",
            "align_content": null,
            "align_items": null,
            "align_self": null,
            "border": null,
            "bottom": null,
            "display": null,
            "flex": null,
            "flex_flow": null,
            "grid_area": null,
            "grid_auto_columns": null,
            "grid_auto_flow": null,
            "grid_auto_rows": null,
            "grid_column": null,
            "grid_gap": null,
            "grid_row": null,
            "grid_template_areas": null,
            "grid_template_columns": null,
            "grid_template_rows": null,
            "height": null,
            "justify_content": null,
            "justify_items": null,
            "left": null,
            "margin": null,
            "max_height": null,
            "max_width": null,
            "min_height": null,
            "min_width": null,
            "object_fit": null,
            "object_position": null,
            "order": null,
            "overflow": null,
            "overflow_x": null,
            "overflow_y": null,
            "padding": null,
            "right": null,
            "top": null,
            "visibility": null,
            "width": null
          }
        },
        "b0243eedbdde463ebf39c910a740d3cb": {
          "model_module": "@jupyter-widgets/controls",
          "model_name": "ProgressStyleModel",
          "model_module_version": "1.5.0",
          "state": {
            "_model_module": "@jupyter-widgets/controls",
            "_model_module_version": "1.5.0",
            "_model_name": "ProgressStyleModel",
            "_view_count": null,
            "_view_module": "@jupyter-widgets/base",
            "_view_module_version": "1.2.0",
            "_view_name": "StyleView",
            "bar_color": null,
            "description_width": ""
          }
        },
        "e7ec6d460ca14685bf8a0c0c77c3648f": {
          "model_module": "@jupyter-widgets/base",
          "model_name": "LayoutModel",
          "model_module_version": "1.2.0",
          "state": {
            "_model_module": "@jupyter-widgets/base",
            "_model_module_version": "1.2.0",
            "_model_name": "LayoutModel",
            "_view_count": null,
            "_view_module": "@jupyter-widgets/base",
            "_view_module_version": "1.2.0",
            "_view_name": "LayoutView",
            "align_content": null,
            "align_items": null,
            "align_self": null,
            "border": null,
            "bottom": null,
            "display": null,
            "flex": null,
            "flex_flow": null,
            "grid_area": null,
            "grid_auto_columns": null,
            "grid_auto_flow": null,
            "grid_auto_rows": null,
            "grid_column": null,
            "grid_gap": null,
            "grid_row": null,
            "grid_template_areas": null,
            "grid_template_columns": null,
            "grid_template_rows": null,
            "height": null,
            "justify_content": null,
            "justify_items": null,
            "left": null,
            "margin": null,
            "max_height": null,
            "max_width": null,
            "min_height": null,
            "min_width": null,
            "object_fit": null,
            "object_position": null,
            "order": null,
            "overflow": null,
            "overflow_x": null,
            "overflow_y": null,
            "padding": null,
            "right": null,
            "top": null,
            "visibility": null,
            "width": null
          }
        },
        "3699830770af4d1c9f1440fac9014aad": {
          "model_module": "@jupyter-widgets/controls",
          "model_name": "DescriptionStyleModel",
          "model_module_version": "1.5.0",
          "state": {
            "_model_module": "@jupyter-widgets/controls",
            "_model_module_version": "1.5.0",
            "_model_name": "DescriptionStyleModel",
            "_view_count": null,
            "_view_module": "@jupyter-widgets/base",
            "_view_module_version": "1.2.0",
            "_view_name": "StyleView",
            "description_width": ""
          }
        }
      }
    },
    "accelerator": "GPU",
    "gpuClass": "standard"
  },
  "cells": [
    {
      "cell_type": "markdown",
      "source": [
        "#<font color = 'pickle'> **Import libraries and setting up folders**"
      ],
      "metadata": {
        "id": "V2M5hNB-Q9AU"
      }
    },
    {
      "cell_type": "code",
      "source": [
        "from google.colab import drive\n",
        "from pathlib import Path\n",
        "import joblib\n",
        "import pandas as pd\n",
        "import numpy as np \n",
        "import sys\n",
        "from bs4 import BeautifulSoup\n",
        "import re\n",
        "from sklearn.preprocessing import MultiLabelBinarizer\n",
        "import torch\n",
        "from torch.utils.data import Dataset, DataLoader\n",
        "\n",
        "drive.mount('/content/drive')\n",
        "sys.path.append('/content/drive/MyDrive/ColabNotebooks/NLPClass/custom-functions')\n",
        "import custom_preprocessor as cp\n",
        "\n",
        "base_folder = Path('/content/drive/MyDrive/ColabNotebooks/NLPClass/')\n",
        "data_folder = base_folder/'datasets'\n",
        "custom_functions = base_folder/'custom-functions'"
      ],
      "metadata": {
        "id": "pTZuir7v9X1I",
        "colab": {
          "base_uri": "https://localhost:8080/"
        },
        "outputId": "d04b9ee6-9bb3-4417-c848-d682598f12f4"
      },
      "execution_count": null,
      "outputs": [
        {
          "output_type": "stream",
          "name": "stdout",
          "text": [
            "Drive already mounted at /content/drive; to attempt to forcibly remount, call drive.mount(\"/content/drive\", force_remount=True).\n"
          ]
        }
      ]
    },
    {
      "cell_type": "markdown",
      "source": [
        "#<font color = 'pickle'> **Task 2**"
      ],
      "metadata": {
        "id": "S1sX5ubXKTqg"
      }
    },
    {
      "cell_type": "markdown",
      "source": [
        "#<font color = 'pickle'> **Data Preprocessing and dumping**"
      ],
      "metadata": {
        "id": "p7i0aXZfRMK2"
      }
    },
    {
      "cell_type": "code",
      "source": [
        "df = joblib.load(data_folder/'df_multilabel_hw.joblib')"
      ],
      "metadata": {
        "id": "fqpXgWwVXZsq"
      },
      "execution_count": null,
      "outputs": []
    },
    {
      "cell_type": "code",
      "source": [
        "def basic_clean(text):\n",
        "    if (bool(BeautifulSoup(text, \"html.parser\").find())==True):         \n",
        "        soup = BeautifulSoup(text, \"html.parser\")\n",
        "        text = soup.get_text(separator=\" \")\n",
        "    else:\n",
        "        pass\n",
        "    return re.sub(r'[\\n\\r]','', text)"
      ],
      "metadata": {
        "id": "h_T15vVUG6m6"
      },
      "execution_count": null,
      "outputs": []
    },
    {
      "cell_type": "code",
      "source": [
        "df['Basic_Cleaned'] = df['Body'].swifter.apply(lambda x: basic_clean(x))"
      ],
      "metadata": {
        "colab": {
          "base_uri": "https://localhost:8080/",
          "height": 49,
          "referenced_widgets": [
            "20723dff5abf4977ac9044e8d20b78c2",
            "3b578d28cd524fdabe74bbdae706ceea",
            "b4d0d1cdde4e43eeb2b6d0ac3a2c87c4",
            "df7b1ed2cdac4f44ab97836e0b744738",
            "388b20da29714c5b9cd1bc2aa6c30923",
            "f1ace7693c9d42299f287461ec4360f2",
            "2723ea7f32bc4bd5a0f214c4a3c1ead1",
            "219f0988fd334152b6c37a9eef32bff9",
            "6b81c015c0aa47368fd450ae92443fe2",
            "7d2f18cb966340e8bbb7de1fd1b9dfa0",
            "d8b32654aa8848f8896197af5f146ecb"
          ]
        },
        "id": "Sc9lK_PhP8xZ",
        "outputId": "d6658c96-5425-4968-e68a-b0140c441713"
      },
      "execution_count": null,
      "outputs": [
        {
          "output_type": "display_data",
          "data": {
            "text/plain": [
              "Pandas Apply:   0%|          | 0/47427 [00:00<?, ?it/s]"
            ],
            "application/vnd.jupyter.widget-view+json": {
              "version_major": 2,
              "version_minor": 0,
              "model_id": "20723dff5abf4977ac9044e8d20b78c2"
            }
          },
          "metadata": {}
        }
      ]
    },
    {
      "cell_type": "code",
      "source": [
        "# !python -m spacy download 'en_core_web_sm'\n",
        "preprocessor = cp.SpacyPreprocessor(model = 'en_core_web_sm', \n",
        "                                    batch_size = 1000, \n",
        "                                    lammetize=False, \n",
        "                                    lower=True, \n",
        "                                    remove_stop=True, \n",
        "                                    remove_punct=True, \n",
        "                                    remove_email=True, \n",
        "                                    remove_url=True, \n",
        "                                    remove_num=False, \n",
        "                                    stemming = False,\n",
        "                                    add_user_mention_prefix=False, \n",
        "                                    remove_hashtag_prefix=False)"
      ],
      "metadata": {
        "id": "fWeHSukZG1Xk"
      },
      "execution_count": null,
      "outputs": []
    },
    {
      "cell_type": "code",
      "source": [
        "df['Full_cleaned'] = preprocessor.fit_transform(df.Basic_Cleaned.values)"
      ],
      "metadata": {
        "id": "VQWczdlrHckl"
      },
      "execution_count": null,
      "outputs": []
    },
    {
      "cell_type": "code",
      "source": [
        "df['Text'] = df['Title'] + ' ' + df['Full_cleaned']\n",
        "df_final = df[['Text', 'Tag_Number']]\n",
        "df_final.head()"
      ],
      "metadata": {
        "colab": {
          "base_uri": "https://localhost:8080/",
          "height": 206
        },
        "id": "zH8dcamBNfup",
        "outputId": "03c368c6-f36e-4c5b-8166-dd0137ff7e91"
      },
      "execution_count": null,
      "outputs": [
        {
          "output_type": "execute_result",
          "data": {
            "text/plain": [
              "                                                Text Tag_Number\n",
              "0  ASP Query String From DropDown webpage   follo...     [0, 9]\n",
              "1  How can I run JavaScript code at server side J...     [1, 3]\n",
              "2  linq to sql throwing an exception row not foun...     [0, 9]\n",
              "3  Running a Python script on a PHP server runnin...     [2, 7]\n",
              "4  some advice on how to write a window.resize fu...     [3, 5]"
            ],
            "text/html": [
              "\n",
              "  <div id=\"df-c0bcba1e-82f9-4541-a72b-095b7c120a21\">\n",
              "    <div class=\"colab-df-container\">\n",
              "      <div>\n",
              "<style scoped>\n",
              "    .dataframe tbody tr th:only-of-type {\n",
              "        vertical-align: middle;\n",
              "    }\n",
              "\n",
              "    .dataframe tbody tr th {\n",
              "        vertical-align: top;\n",
              "    }\n",
              "\n",
              "    .dataframe thead th {\n",
              "        text-align: right;\n",
              "    }\n",
              "</style>\n",
              "<table border=\"1\" class=\"dataframe\">\n",
              "  <thead>\n",
              "    <tr style=\"text-align: right;\">\n",
              "      <th></th>\n",
              "      <th>Text</th>\n",
              "      <th>Tag_Number</th>\n",
              "    </tr>\n",
              "  </thead>\n",
              "  <tbody>\n",
              "    <tr>\n",
              "      <th>0</th>\n",
              "      <td>ASP Query String From DropDown webpage   follo...</td>\n",
              "      <td>[0, 9]</td>\n",
              "    </tr>\n",
              "    <tr>\n",
              "      <th>1</th>\n",
              "      <td>How can I run JavaScript code at server side J...</td>\n",
              "      <td>[1, 3]</td>\n",
              "    </tr>\n",
              "    <tr>\n",
              "      <th>2</th>\n",
              "      <td>linq to sql throwing an exception row not foun...</td>\n",
              "      <td>[0, 9]</td>\n",
              "    </tr>\n",
              "    <tr>\n",
              "      <th>3</th>\n",
              "      <td>Running a Python script on a PHP server runnin...</td>\n",
              "      <td>[2, 7]</td>\n",
              "    </tr>\n",
              "    <tr>\n",
              "      <th>4</th>\n",
              "      <td>some advice on how to write a window.resize fu...</td>\n",
              "      <td>[3, 5]</td>\n",
              "    </tr>\n",
              "  </tbody>\n",
              "</table>\n",
              "</div>\n",
              "      <button class=\"colab-df-convert\" onclick=\"convertToInteractive('df-c0bcba1e-82f9-4541-a72b-095b7c120a21')\"\n",
              "              title=\"Convert this dataframe to an interactive table.\"\n",
              "              style=\"display:none;\">\n",
              "        \n",
              "  <svg xmlns=\"http://www.w3.org/2000/svg\" height=\"24px\"viewBox=\"0 0 24 24\"\n",
              "       width=\"24px\">\n",
              "    <path d=\"M0 0h24v24H0V0z\" fill=\"none\"/>\n",
              "    <path d=\"M18.56 5.44l.94 2.06.94-2.06 2.06-.94-2.06-.94-.94-2.06-.94 2.06-2.06.94zm-11 1L8.5 8.5l.94-2.06 2.06-.94-2.06-.94L8.5 2.5l-.94 2.06-2.06.94zm10 10l.94 2.06.94-2.06 2.06-.94-2.06-.94-.94-2.06-.94 2.06-2.06.94z\"/><path d=\"M17.41 7.96l-1.37-1.37c-.4-.4-.92-.59-1.43-.59-.52 0-1.04.2-1.43.59L10.3 9.45l-7.72 7.72c-.78.78-.78 2.05 0 2.83L4 21.41c.39.39.9.59 1.41.59.51 0 1.02-.2 1.41-.59l7.78-7.78 2.81-2.81c.8-.78.8-2.07 0-2.86zM5.41 20L4 18.59l7.72-7.72 1.47 1.35L5.41 20z\"/>\n",
              "  </svg>\n",
              "      </button>\n",
              "      \n",
              "  <style>\n",
              "    .colab-df-container {\n",
              "      display:flex;\n",
              "      flex-wrap:wrap;\n",
              "      gap: 12px;\n",
              "    }\n",
              "\n",
              "    .colab-df-convert {\n",
              "      background-color: #E8F0FE;\n",
              "      border: none;\n",
              "      border-radius: 50%;\n",
              "      cursor: pointer;\n",
              "      display: none;\n",
              "      fill: #1967D2;\n",
              "      height: 32px;\n",
              "      padding: 0 0 0 0;\n",
              "      width: 32px;\n",
              "    }\n",
              "\n",
              "    .colab-df-convert:hover {\n",
              "      background-color: #E2EBFA;\n",
              "      box-shadow: 0px 1px 2px rgba(60, 64, 67, 0.3), 0px 1px 3px 1px rgba(60, 64, 67, 0.15);\n",
              "      fill: #174EA6;\n",
              "    }\n",
              "\n",
              "    [theme=dark] .colab-df-convert {\n",
              "      background-color: #3B4455;\n",
              "      fill: #D2E3FC;\n",
              "    }\n",
              "\n",
              "    [theme=dark] .colab-df-convert:hover {\n",
              "      background-color: #434B5C;\n",
              "      box-shadow: 0px 1px 3px 1px rgba(0, 0, 0, 0.15);\n",
              "      filter: drop-shadow(0px 1px 2px rgba(0, 0, 0, 0.3));\n",
              "      fill: #FFFFFF;\n",
              "    }\n",
              "  </style>\n",
              "\n",
              "      <script>\n",
              "        const buttonEl =\n",
              "          document.querySelector('#df-c0bcba1e-82f9-4541-a72b-095b7c120a21 button.colab-df-convert');\n",
              "        buttonEl.style.display =\n",
              "          google.colab.kernel.accessAllowed ? 'block' : 'none';\n",
              "\n",
              "        async function convertToInteractive(key) {\n",
              "          const element = document.querySelector('#df-c0bcba1e-82f9-4541-a72b-095b7c120a21');\n",
              "          const dataTable =\n",
              "            await google.colab.kernel.invokeFunction('convertToInteractive',\n",
              "                                                     [key], {});\n",
              "          if (!dataTable) return;\n",
              "\n",
              "          const docLinkHtml = 'Like what you see? Visit the ' +\n",
              "            '<a target=\"_blank\" href=https://colab.research.google.com/notebooks/data_table.ipynb>data table notebook</a>'\n",
              "            + ' to learn more about interactive tables.';\n",
              "          element.innerHTML = '';\n",
              "          dataTable['output_type'] = 'display_data';\n",
              "          await google.colab.output.renderOutput(dataTable, element);\n",
              "          const docLink = document.createElement('div');\n",
              "          docLink.innerHTML = docLinkHtml;\n",
              "          element.appendChild(docLink);\n",
              "        }\n",
              "      </script>\n",
              "    </div>\n",
              "  </div>\n",
              "  "
            ]
          },
          "metadata": {},
          "execution_count": 8
        }
      ]
    },
    {
      "cell_type": "code",
      "source": [
        "import joblib\n",
        "import pickle\n",
        "\n",
        "joblib.dump(df_final, '/content/drive/MyDrive/ColabNotebooks/NLPClass/datasets/df_final.pkl')"
      ],
      "metadata": {
        "colab": {
          "base_uri": "https://localhost:8080/"
        },
        "id": "bEGOGhCHAiwk",
        "outputId": "b5224d16-22d7-410c-e849-c612c0806188"
      },
      "execution_count": null,
      "outputs": [
        {
          "output_type": "execute_result",
          "data": {
            "text/plain": [
              "['/content/drive/MyDrive/ColabNotebooks/NLPClass/datasets/df_final.pkl']"
            ]
          },
          "metadata": {},
          "execution_count": 10
        }
      ]
    },
    {
      "cell_type": "markdown",
      "source": [
        "#<font color = 'pickle'> **Loading Preprocessed data**"
      ],
      "metadata": {
        "id": "CSB1av9EB0bs"
      }
    },
    {
      "cell_type": "code",
      "source": [
        "df_final = joblib.load(data_folder/'df_final.pkl')\n",
        "df_final.head()"
      ],
      "metadata": {
        "colab": {
          "base_uri": "https://localhost:8080/"
        },
        "id": "8b4_VW4xBoTc",
        "outputId": "1adabdc4-6172-4be6-ba2d-0d147b4f2216"
      },
      "execution_count": null,
      "outputs": [
        {
          "output_type": "execute_result",
          "data": {
            "text/plain": [
              "                                                Text Tag_Number\n",
              "0  ASP Query String From DropDown webpage   follo...     [0, 9]\n",
              "1  How can I run JavaScript code at server side J...     [1, 3]\n",
              "2  linq to sql throwing an exception row not foun...     [0, 9]\n",
              "3  Running a Python script on a PHP server runnin...     [2, 7]\n",
              "4  some advice on how to write a window.resize fu...     [3, 5]"
            ],
            "text/html": [
              "\n",
              "  <div id=\"df-83794340-c61f-4ecf-b950-99b64a763da2\">\n",
              "    <div class=\"colab-df-container\">\n",
              "      <div>\n",
              "<style scoped>\n",
              "    .dataframe tbody tr th:only-of-type {\n",
              "        vertical-align: middle;\n",
              "    }\n",
              "\n",
              "    .dataframe tbody tr th {\n",
              "        vertical-align: top;\n",
              "    }\n",
              "\n",
              "    .dataframe thead th {\n",
              "        text-align: right;\n",
              "    }\n",
              "</style>\n",
              "<table border=\"1\" class=\"dataframe\">\n",
              "  <thead>\n",
              "    <tr style=\"text-align: right;\">\n",
              "      <th></th>\n",
              "      <th>Text</th>\n",
              "      <th>Tag_Number</th>\n",
              "    </tr>\n",
              "  </thead>\n",
              "  <tbody>\n",
              "    <tr>\n",
              "      <th>0</th>\n",
              "      <td>ASP Query String From DropDown webpage   follo...</td>\n",
              "      <td>[0, 9]</td>\n",
              "    </tr>\n",
              "    <tr>\n",
              "      <th>1</th>\n",
              "      <td>How can I run JavaScript code at server side J...</td>\n",
              "      <td>[1, 3]</td>\n",
              "    </tr>\n",
              "    <tr>\n",
              "      <th>2</th>\n",
              "      <td>linq to sql throwing an exception row not foun...</td>\n",
              "      <td>[0, 9]</td>\n",
              "    </tr>\n",
              "    <tr>\n",
              "      <th>3</th>\n",
              "      <td>Running a Python script on a PHP server runnin...</td>\n",
              "      <td>[2, 7]</td>\n",
              "    </tr>\n",
              "    <tr>\n",
              "      <th>4</th>\n",
              "      <td>some advice on how to write a window.resize fu...</td>\n",
              "      <td>[3, 5]</td>\n",
              "    </tr>\n",
              "  </tbody>\n",
              "</table>\n",
              "</div>\n",
              "      <button class=\"colab-df-convert\" onclick=\"convertToInteractive('df-83794340-c61f-4ecf-b950-99b64a763da2')\"\n",
              "              title=\"Convert this dataframe to an interactive table.\"\n",
              "              style=\"display:none;\">\n",
              "        \n",
              "  <svg xmlns=\"http://www.w3.org/2000/svg\" height=\"24px\"viewBox=\"0 0 24 24\"\n",
              "       width=\"24px\">\n",
              "    <path d=\"M0 0h24v24H0V0z\" fill=\"none\"/>\n",
              "    <path d=\"M18.56 5.44l.94 2.06.94-2.06 2.06-.94-2.06-.94-.94-2.06-.94 2.06-2.06.94zm-11 1L8.5 8.5l.94-2.06 2.06-.94-2.06-.94L8.5 2.5l-.94 2.06-2.06.94zm10 10l.94 2.06.94-2.06 2.06-.94-2.06-.94-.94-2.06-.94 2.06-2.06.94z\"/><path d=\"M17.41 7.96l-1.37-1.37c-.4-.4-.92-.59-1.43-.59-.52 0-1.04.2-1.43.59L10.3 9.45l-7.72 7.72c-.78.78-.78 2.05 0 2.83L4 21.41c.39.39.9.59 1.41.59.51 0 1.02-.2 1.41-.59l7.78-7.78 2.81-2.81c.8-.78.8-2.07 0-2.86zM5.41 20L4 18.59l7.72-7.72 1.47 1.35L5.41 20z\"/>\n",
              "  </svg>\n",
              "      </button>\n",
              "      \n",
              "  <style>\n",
              "    .colab-df-container {\n",
              "      display:flex;\n",
              "      flex-wrap:wrap;\n",
              "      gap: 12px;\n",
              "    }\n",
              "\n",
              "    .colab-df-convert {\n",
              "      background-color: #E8F0FE;\n",
              "      border: none;\n",
              "      border-radius: 50%;\n",
              "      cursor: pointer;\n",
              "      display: none;\n",
              "      fill: #1967D2;\n",
              "      height: 32px;\n",
              "      padding: 0 0 0 0;\n",
              "      width: 32px;\n",
              "    }\n",
              "\n",
              "    .colab-df-convert:hover {\n",
              "      background-color: #E2EBFA;\n",
              "      box-shadow: 0px 1px 2px rgba(60, 64, 67, 0.3), 0px 1px 3px 1px rgba(60, 64, 67, 0.15);\n",
              "      fill: #174EA6;\n",
              "    }\n",
              "\n",
              "    [theme=dark] .colab-df-convert {\n",
              "      background-color: #3B4455;\n",
              "      fill: #D2E3FC;\n",
              "    }\n",
              "\n",
              "    [theme=dark] .colab-df-convert:hover {\n",
              "      background-color: #434B5C;\n",
              "      box-shadow: 0px 1px 3px 1px rgba(0, 0, 0, 0.15);\n",
              "      filter: drop-shadow(0px 1px 2px rgba(0, 0, 0, 0.3));\n",
              "      fill: #FFFFFF;\n",
              "    }\n",
              "  </style>\n",
              "\n",
              "      <script>\n",
              "        const buttonEl =\n",
              "          document.querySelector('#df-83794340-c61f-4ecf-b950-99b64a763da2 button.colab-df-convert');\n",
              "        buttonEl.style.display =\n",
              "          google.colab.kernel.accessAllowed ? 'block' : 'none';\n",
              "\n",
              "        async function convertToInteractive(key) {\n",
              "          const element = document.querySelector('#df-83794340-c61f-4ecf-b950-99b64a763da2');\n",
              "          const dataTable =\n",
              "            await google.colab.kernel.invokeFunction('convertToInteractive',\n",
              "                                                     [key], {});\n",
              "          if (!dataTable) return;\n",
              "\n",
              "          const docLinkHtml = 'Like what you see? Visit the ' +\n",
              "            '<a target=\"_blank\" href=https://colab.research.google.com/notebooks/data_table.ipynb>data table notebook</a>'\n",
              "            + ' to learn more about interactive tables.';\n",
              "          element.innerHTML = '';\n",
              "          dataTable['output_type'] = 'display_data';\n",
              "          await google.colab.output.renderOutput(dataTable, element);\n",
              "          const docLink = document.createElement('div');\n",
              "          docLink.innerHTML = docLinkHtml;\n",
              "          element.appendChild(docLink);\n",
              "        }\n",
              "      </script>\n",
              "    </div>\n",
              "  </div>\n",
              "  "
            ]
          },
          "metadata": {},
          "execution_count": 23
        }
      ]
    },
    {
      "cell_type": "code",
      "source": [
        "search=re.compile(r\"\\d\")\n",
        "df_final[\"Tags\"] = df_final[\"Tag_Number\"].apply(lambda x: re.findall(search,x))\n",
        "df_final.head()"
      ],
      "metadata": {
        "id": "jkYVTah5m7ZR",
        "colab": {
          "base_uri": "https://localhost:8080/"
        },
        "outputId": "637794ba-55db-4ea9-c72e-64da8eb5f964"
      },
      "execution_count": null,
      "outputs": [
        {
          "output_type": "execute_result",
          "data": {
            "text/plain": [
              "                                                Text Tag_Number    Tags\n",
              "0  ASP Query String From DropDown webpage   follo...     [0, 9]  [0, 9]\n",
              "1  How can I run JavaScript code at server side J...     [1, 3]  [1, 3]\n",
              "2  linq to sql throwing an exception row not foun...     [0, 9]  [0, 9]\n",
              "3  Running a Python script on a PHP server runnin...     [2, 7]  [2, 7]\n",
              "4  some advice on how to write a window.resize fu...     [3, 5]  [3, 5]"
            ],
            "text/html": [
              "\n",
              "  <div id=\"df-23b98293-85d3-45d5-b66a-60136cda58f1\">\n",
              "    <div class=\"colab-df-container\">\n",
              "      <div>\n",
              "<style scoped>\n",
              "    .dataframe tbody tr th:only-of-type {\n",
              "        vertical-align: middle;\n",
              "    }\n",
              "\n",
              "    .dataframe tbody tr th {\n",
              "        vertical-align: top;\n",
              "    }\n",
              "\n",
              "    .dataframe thead th {\n",
              "        text-align: right;\n",
              "    }\n",
              "</style>\n",
              "<table border=\"1\" class=\"dataframe\">\n",
              "  <thead>\n",
              "    <tr style=\"text-align: right;\">\n",
              "      <th></th>\n",
              "      <th>Text</th>\n",
              "      <th>Tag_Number</th>\n",
              "      <th>Tags</th>\n",
              "    </tr>\n",
              "  </thead>\n",
              "  <tbody>\n",
              "    <tr>\n",
              "      <th>0</th>\n",
              "      <td>ASP Query String From DropDown webpage   follo...</td>\n",
              "      <td>[0, 9]</td>\n",
              "      <td>[0, 9]</td>\n",
              "    </tr>\n",
              "    <tr>\n",
              "      <th>1</th>\n",
              "      <td>How can I run JavaScript code at server side J...</td>\n",
              "      <td>[1, 3]</td>\n",
              "      <td>[1, 3]</td>\n",
              "    </tr>\n",
              "    <tr>\n",
              "      <th>2</th>\n",
              "      <td>linq to sql throwing an exception row not foun...</td>\n",
              "      <td>[0, 9]</td>\n",
              "      <td>[0, 9]</td>\n",
              "    </tr>\n",
              "    <tr>\n",
              "      <th>3</th>\n",
              "      <td>Running a Python script on a PHP server runnin...</td>\n",
              "      <td>[2, 7]</td>\n",
              "      <td>[2, 7]</td>\n",
              "    </tr>\n",
              "    <tr>\n",
              "      <th>4</th>\n",
              "      <td>some advice on how to write a window.resize fu...</td>\n",
              "      <td>[3, 5]</td>\n",
              "      <td>[3, 5]</td>\n",
              "    </tr>\n",
              "  </tbody>\n",
              "</table>\n",
              "</div>\n",
              "      <button class=\"colab-df-convert\" onclick=\"convertToInteractive('df-23b98293-85d3-45d5-b66a-60136cda58f1')\"\n",
              "              title=\"Convert this dataframe to an interactive table.\"\n",
              "              style=\"display:none;\">\n",
              "        \n",
              "  <svg xmlns=\"http://www.w3.org/2000/svg\" height=\"24px\"viewBox=\"0 0 24 24\"\n",
              "       width=\"24px\">\n",
              "    <path d=\"M0 0h24v24H0V0z\" fill=\"none\"/>\n",
              "    <path d=\"M18.56 5.44l.94 2.06.94-2.06 2.06-.94-2.06-.94-.94-2.06-.94 2.06-2.06.94zm-11 1L8.5 8.5l.94-2.06 2.06-.94-2.06-.94L8.5 2.5l-.94 2.06-2.06.94zm10 10l.94 2.06.94-2.06 2.06-.94-2.06-.94-.94-2.06-.94 2.06-2.06.94z\"/><path d=\"M17.41 7.96l-1.37-1.37c-.4-.4-.92-.59-1.43-.59-.52 0-1.04.2-1.43.59L10.3 9.45l-7.72 7.72c-.78.78-.78 2.05 0 2.83L4 21.41c.39.39.9.59 1.41.59.51 0 1.02-.2 1.41-.59l7.78-7.78 2.81-2.81c.8-.78.8-2.07 0-2.86zM5.41 20L4 18.59l7.72-7.72 1.47 1.35L5.41 20z\"/>\n",
              "  </svg>\n",
              "      </button>\n",
              "      \n",
              "  <style>\n",
              "    .colab-df-container {\n",
              "      display:flex;\n",
              "      flex-wrap:wrap;\n",
              "      gap: 12px;\n",
              "    }\n",
              "\n",
              "    .colab-df-convert {\n",
              "      background-color: #E8F0FE;\n",
              "      border: none;\n",
              "      border-radius: 50%;\n",
              "      cursor: pointer;\n",
              "      display: none;\n",
              "      fill: #1967D2;\n",
              "      height: 32px;\n",
              "      padding: 0 0 0 0;\n",
              "      width: 32px;\n",
              "    }\n",
              "\n",
              "    .colab-df-convert:hover {\n",
              "      background-color: #E2EBFA;\n",
              "      box-shadow: 0px 1px 2px rgba(60, 64, 67, 0.3), 0px 1px 3px 1px rgba(60, 64, 67, 0.15);\n",
              "      fill: #174EA6;\n",
              "    }\n",
              "\n",
              "    [theme=dark] .colab-df-convert {\n",
              "      background-color: #3B4455;\n",
              "      fill: #D2E3FC;\n",
              "    }\n",
              "\n",
              "    [theme=dark] .colab-df-convert:hover {\n",
              "      background-color: #434B5C;\n",
              "      box-shadow: 0px 1px 3px 1px rgba(0, 0, 0, 0.15);\n",
              "      filter: drop-shadow(0px 1px 2px rgba(0, 0, 0, 0.3));\n",
              "      fill: #FFFFFF;\n",
              "    }\n",
              "  </style>\n",
              "\n",
              "      <script>\n",
              "        const buttonEl =\n",
              "          document.querySelector('#df-23b98293-85d3-45d5-b66a-60136cda58f1 button.colab-df-convert');\n",
              "        buttonEl.style.display =\n",
              "          google.colab.kernel.accessAllowed ? 'block' : 'none';\n",
              "\n",
              "        async function convertToInteractive(key) {\n",
              "          const element = document.querySelector('#df-23b98293-85d3-45d5-b66a-60136cda58f1');\n",
              "          const dataTable =\n",
              "            await google.colab.kernel.invokeFunction('convertToInteractive',\n",
              "                                                     [key], {});\n",
              "          if (!dataTable) return;\n",
              "\n",
              "          const docLinkHtml = 'Like what you see? Visit the ' +\n",
              "            '<a target=\"_blank\" href=https://colab.research.google.com/notebooks/data_table.ipynb>data table notebook</a>'\n",
              "            + ' to learn more about interactive tables.';\n",
              "          element.innerHTML = '';\n",
              "          dataTable['output_type'] = 'display_data';\n",
              "          await google.colab.output.renderOutput(dataTable, element);\n",
              "          const docLink = document.createElement('div');\n",
              "          docLink.innerHTML = docLinkHtml;\n",
              "          element.appendChild(docLink);\n",
              "        }\n",
              "      </script>\n",
              "    </div>\n",
              "  </div>\n",
              "  "
            ]
          },
          "metadata": {},
          "execution_count": 24
        }
      ]
    },
    {
      "cell_type": "code",
      "source": [
        "X = df_final['Text']\n",
        "mlb = MultiLabelBinarizer()\n",
        "y = mlb.fit_transform(df_final['Tags'])\n",
        "y"
      ],
      "metadata": {
        "id": "umyRBmnSqWmc",
        "colab": {
          "base_uri": "https://localhost:8080/"
        },
        "outputId": "b84758a4-8b54-446a-a199-2b02b4c157d2"
      },
      "execution_count": null,
      "outputs": [
        {
          "output_type": "execute_result",
          "data": {
            "text/plain": [
              "array([[1, 0, 0, ..., 0, 0, 1],\n",
              "       [0, 1, 0, ..., 0, 0, 0],\n",
              "       [1, 0, 0, ..., 0, 0, 1],\n",
              "       ...,\n",
              "       [0, 1, 0, ..., 0, 0, 0],\n",
              "       [0, 0, 0, ..., 0, 0, 1],\n",
              "       [0, 0, 0, ..., 0, 0, 0]])"
            ]
          },
          "metadata": {},
          "execution_count": 25
        }
      ]
    },
    {
      "cell_type": "markdown",
      "source": [
        "#<font color = 'pickle'> **Creating Custom Torch Dataset**"
      ],
      "metadata": {
        "id": "JSolqP0_udTW"
      }
    },
    {
      "cell_type": "code",
      "source": [
        "from sklearn.model_selection import train_test_split\n",
        "X_train, X_rest, y_train, y_rest = train_test_split(X, y, test_size=0.4, random_state=42)\n",
        "X_test, X_valid, y_test, y_valid = train_test_split(X_rest, y_rest, test_size=0.5, random_state=42)"
      ],
      "metadata": {
        "id": "159b01EejuqD"
      },
      "execution_count": null,
      "outputs": []
    },
    {
      "cell_type": "code",
      "source": [
        "import torch\n",
        "class CustomDataset(torch.utils.data.Dataset):\n",
        "    \"\"\"Multilabel dataset.\"\"\"\n",
        "\n",
        "    def __init__(self, X, y):\n",
        "        self.X = np.array(X)\n",
        "        self.y = y\n",
        "\n",
        "    def __len__(self):\n",
        "        return len(self.X)\n",
        "\n",
        "    def __getitem__(self, idx):\n",
        "        if torch.is_tensor(idx):\n",
        "            idx = idx.tolist()\n",
        "\n",
        "        text = self.X[idx]\n",
        "        labels = self.y[idx]\n",
        "        sample = (text, labels)\n",
        "        \n",
        "        return sample"
      ],
      "metadata": {
        "id": "N5wWroPUjumr"
      },
      "execution_count": null,
      "outputs": []
    },
    {
      "cell_type": "code",
      "source": [
        "train_set = CustomDataset(X_train,y_train)\n",
        "valid_set = CustomDataset(X_valid,y_valid)\n",
        "test_set = CustomDataset(X_test,y_test)"
      ],
      "metadata": {
        "id": "wk6Y4ZR3juki"
      },
      "execution_count": null,
      "outputs": []
    },
    {
      "cell_type": "markdown",
      "source": [
        "# <Font color = 'pickle'>**Create Vocab**"
      ],
      "metadata": {
        "id": "ds9d0n37uFuY"
      }
    },
    {
      "cell_type": "code",
      "source": [
        "from collections import Counter\n",
        "counter = Counter()\n",
        "for (text, tags) in train_set:\n",
        "   counter.update(str(text).split())"
      ],
      "metadata": {
        "id": "2hVcyjdFuIzg"
      },
      "execution_count": null,
      "outputs": []
    },
    {
      "cell_type": "code",
      "source": [
        "len(counter)"
      ],
      "metadata": {
        "colab": {
          "base_uri": "https://localhost:8080/"
        },
        "id": "JYcKVZXIaxAK",
        "outputId": "bcb702f7-4351-472b-f7c7-1552fa96b48a"
      },
      "execution_count": null,
      "outputs": [
        {
          "output_type": "execute_result",
          "data": {
            "text/plain": [
              "198906"
            ]
          },
          "metadata": {},
          "execution_count": 30
        }
      ]
    },
    {
      "cell_type": "code",
      "source": [
        "from torchtext.vocab import vocab\n",
        "my_vocab = vocab(counter, min_freq=5)\n",
        "#my_vocab.get_stoi()"
      ],
      "metadata": {
        "id": "e5NwqNWxuOhB"
      },
      "execution_count": null,
      "outputs": []
    },
    {
      "cell_type": "code",
      "source": [
        "my_vocab.insert_token('<unk>', 0)\n",
        "my_vocab.set_default_index(0)"
      ],
      "metadata": {
        "id": "7MJq4gvVuXG3"
      },
      "execution_count": null,
      "outputs": []
    },
    {
      "cell_type": "markdown",
      "source": [
        "# <Font color = 'pickle'>**Create DataLoader for Embedding**"
      ],
      "metadata": {
        "id": "dLczlh3LuMOg"
      }
    },
    {
      "cell_type": "code",
      "source": [
        "text_pipeline = lambda x : [my_vocab[token] for token in str(x).split()]\n",
        "vector = np.vectorize(np.int_)\n",
        "label_pipeline = lambda y : vector(y)"
      ],
      "metadata": {
        "id": "db2kflYRetmJ"
      },
      "execution_count": null,
      "outputs": []
    },
    {
      "cell_type": "code",
      "source": [
        "len(y)"
      ],
      "metadata": {
        "colab": {
          "base_uri": "https://localhost:8080/"
        },
        "id": "VyzR9fnx0UrL",
        "outputId": "1d97a430-a152-4b93-d997-775378e94a3a"
      },
      "execution_count": null,
      "outputs": [
        {
          "output_type": "execute_result",
          "data": {
            "text/plain": [
              "47427"
            ]
          },
          "metadata": {},
          "execution_count": 34
        }
      ]
    },
    {
      "cell_type": "code",
      "source": [
        "'''\n",
        "We know that input to the embedding layers are indices of words from the vocab.\n",
        "The collate_batch() accepts batch of data and gets the indices of text from vocab and returns the same\n",
        "We will include this collate_batch() in collat_fn attribute of DataLoader.\n",
        "So it will create a batch of data containing indices of words and corresponding labels.\n",
        "But for EmbeddingBag we need one more extra parameter, that is offset.\n",
        "offsets determines the starting index position of each bag (sequence) in input.\n",
        "'''\n",
        "def collate_batch(batch):\n",
        "    text_list, label_list, offsets = [], [], [0]\n",
        "    for (_text ,_label) in batch:\n",
        "         label_list.append(label_pipeline(_label))\n",
        "         processed_text = torch.tensor(text_pipeline(_text), dtype=torch.int64)\n",
        "         text_list.append(processed_text)\n",
        "         offsets.append(processed_text.size(0))\n",
        "    label_list = torch.tensor(label_list, dtype=torch.int64)\n",
        "    offsets = torch.tensor(offsets[:-1]).cumsum(dim=0)\n",
        "    text_list = torch.cat(text_list)\n",
        "    return text_list, label_list, offsets"
      ],
      "metadata": {
        "id": "QDcZqZAvTZKP"
      },
      "execution_count": null,
      "outputs": []
    },
    {
      "cell_type": "code",
      "source": [
        "batch_size=3\n",
        "check_loader = torch.utils.data.DataLoader(dataset=valid_set,\n",
        "                                        batch_size=batch_size,\n",
        "                                        shuffle=True,\n",
        "                                        collate_fn=collate_batch)"
      ],
      "metadata": {
        "id": "UFLq-wP32213"
      },
      "execution_count": null,
      "outputs": []
    },
    {
      "cell_type": "code",
      "source": [
        "for text, label, offsets in check_loader:\n",
        "  print(label, text, offsets)\n",
        "  break"
      ],
      "metadata": {
        "colab": {
          "base_uri": "https://localhost:8080/"
        },
        "id": "vnVxVa1b3Tjg",
        "outputId": "66f84684-31e3-4593-f365-2d9572cf5c17"
      },
      "execution_count": null,
      "outputs": [
        {
          "output_type": "stream",
          "name": "stdout",
          "text": [
            "tensor([[0, 0, 0, 1, 0, 1, 0, 0, 0, 0],\n",
            "        [0, 0, 0, 1, 0, 1, 0, 0, 0, 0],\n",
            "        [1, 0, 0, 0, 0, 0, 0, 0, 0, 1]]) tensor([    1,    63,    94,   418,     0,    10,   154,   121,  3662,   205,\n",
            "          162,   418,  2660,   162,   339,     0,  4267,   418,  2660,   338,\n",
            "           12,   445,  4618,    35,    94,     0,   162,     0,  6220,   418,\n",
            "         1455,   388,  8492,   110, 16217, 10074,    15,    98,   350,   405,\n",
            "          354,   718,  1025,  7149,     0,   579,  1796,   335,     0,    89,\n",
            "          162,     0,  6694,    52,   532,   469,   108,     0,    35,   156,\n",
            "         5043,   718,     0,   455,   483,  4319,  7149,    15,   335,     0,\n",
            "         2177,   241,   416,   683,  1545,   420,   179,   110,   357,  8970,\n",
            "          253,  1850,  1288,   124,  3117,   618,  1657,     0,   680, 12595,\n",
            "            0,    98,     0,     0,    89,   179,     0,     0,     0,    89,\n",
            "          179,     0,     0,    89,   179,     0,     0,    89,     0,     0,\n",
            "         1082,   245,     0,  3638,     0,  1881,     0,   332,   192,   192,\n",
            "         1879,  4854,   199,   168,   478,  9315,  4652,   146,  1627,   136,\n",
            "        12595,  8138]) tensor([ 0, 32, 83])\n"
          ]
        },
        {
          "output_type": "stream",
          "name": "stderr",
          "text": [
            "/usr/local/lib/python3.7/dist-packages/ipykernel_launcher.py:16: UserWarning: Creating a tensor from a list of numpy.ndarrays is extremely slow. Please consider converting the list to a single numpy.ndarray with numpy.array() before converting to a tensor. (Triggered internally at  ../torch/csrc/utils/tensor_new.cpp:201.)\n",
            "  app.launch_new_instance()\n"
          ]
        }
      ]
    },
    {
      "cell_type": "markdown",
      "source": [
        "# <Font color = 'pickle'>**Implementing NN Training**"
      ],
      "metadata": {
        "id": "HA6b5Ofhcmb5"
      }
    },
    {
      "cell_type": "code",
      "source": [
        "# Instantiating embeddingbag layer with total number of embeddings and dimension of embedding i.e. dimesion of vector\n",
        "import torch.nn as nn\n",
        "torch.manual_seed(0)\n",
        "model_eb = nn.EmbeddingBag(len(my_vocab),5)"
      ],
      "metadata": {
        "id": "RKdAY4G0cmJJ"
      },
      "execution_count": null,
      "outputs": []
    },
    {
      "cell_type": "code",
      "source": [
        "model_eb.weight"
      ],
      "metadata": {
        "colab": {
          "base_uri": "https://localhost:8080/"
        },
        "id": "s7KK93YHc5xa",
        "outputId": "87abe4fe-86a7-46fa-c220-eb0e439dfde5"
      },
      "execution_count": null,
      "outputs": [
        {
          "output_type": "execute_result",
          "data": {
            "text/plain": [
              "Parameter containing:\n",
              "tensor([[-1.1258, -1.1524, -0.2506, -0.4339,  0.8487],\n",
              "        [ 0.6920, -0.3160, -2.1152,  0.3223, -1.2633],\n",
              "        [ 0.3500,  0.3081,  0.1198,  1.2377,  1.1168],\n",
              "        ...,\n",
              "        [ 1.1450,  0.3443,  0.4567, -2.2919, -1.8394],\n",
              "        [-1.0060, -0.6572, -0.4782,  1.7916,  0.8696],\n",
              "        [ 0.6533,  1.7955,  0.5710, -0.2695, -0.7298]], requires_grad=True)"
            ]
          },
          "metadata": {},
          "execution_count": 39
        }
      ]
    },
    {
      "cell_type": "markdown",
      "source": [
        "## <Font color = 'pickle'>**Model**"
      ],
      "metadata": {
        "id": "Z4cpw96A227w"
      }
    },
    {
      "cell_type": "code",
      "source": [
        "from torch import nn\n",
        "class MLPCustom(nn.Module):\n",
        "  def __init__(self, embed_dim, vocab_size, hidden_dim1, hidden_dim2, output_dim, non_linearity):\n",
        "\n",
        "    super().__init__()    \n",
        "    self.embed_dim = embed_dim\n",
        "    self.hidden_dim1 = hidden_dim1\n",
        "    self.hidden_dim2 = hidden_dim2\n",
        "    self.output_dim = output_dim\n",
        "    self.vocab_size = vocab_size\n",
        "    self.non_linearity = non_linearity\n",
        "\n",
        "    # embedding_layer\n",
        "    self.embedding = nn.EmbeddingBag(self.vocab_size, self.embed_dim)\n",
        "\n",
        "    # hidden layer 1\n",
        "    self.hidden_layer1 = nn.Linear(self.embed_dim, self.hidden_dim1)\n",
        "\n",
        "    # dropout layer 1\n",
        "    self.drop1 = nn.Dropout(p= 0.5)\n",
        "\n",
        "    # batch layer norm 1\n",
        "    self.batchnorm1 = nn.BatchNorm1d(num_features=self.hidden_dim1)\n",
        "\n",
        "    # hidden layer 2\n",
        "    self.hidden_layer2 = nn.Linear(self.hidden_dim1, self.hidden_dim2)\n",
        "    \n",
        "    # dropout layer 2\n",
        "    self.drop2 = nn.Dropout(p= 0.5)\n",
        "\n",
        "    # batch layer norm 2    \n",
        "    self.batchnorm2 = nn.BatchNorm1d(num_features=self.hidden_dim2)\n",
        "    \n",
        "    # output layer\n",
        "    self.output_layer = nn.Linear(self.hidden_dim2, self.output_dim)\n",
        "\n",
        "  def forward(self, input_ , offsets):\n",
        "    embed_out = self.embedding(input_, offsets) # batchsize, embedding_dim\n",
        "\n",
        "    hout1 = self.non_linearity(self.hidden_layer1(embed_out)) # batchsize, hidden_dim1\n",
        "    hout1 = self.batchnorm1(hout1)\n",
        "    hout1 = self.drop1(hout1)\n",
        "    \n",
        "    hout2 = self.non_linearity(self.hidden_layer2(hout1)) # batchsize, hidden_dim2\n",
        "    hout2 = self.batchnorm2(hout2)\n",
        "    hout2 = self.drop2(hout2)\n",
        "    \n",
        "    ypred = self.output_layer(hout2)\n",
        "\n",
        "    return ypred"
      ],
      "metadata": {
        "id": "LtsJYBe-20vW"
      },
      "execution_count": null,
      "outputs": []
    },
    {
      "cell_type": "markdown",
      "source": [
        "## <Font color = 'pickle'>**Function for Training  Loops**"
      ],
      "metadata": {
        "id": "4SFauRoh3i9U"
      }
    },
    {
      "cell_type": "code",
      "source": [
        "!pip install wandb\n",
        "import wandb"
      ],
      "metadata": {
        "id": "vHbQ37DXreRq",
        "colab": {
          "base_uri": "https://localhost:8080/"
        },
        "outputId": "fa127507-e11b-47cc-d862-d3bf49e0b4ff"
      },
      "execution_count": null,
      "outputs": [
        {
          "output_type": "stream",
          "name": "stdout",
          "text": [
            "Looking in indexes: https://pypi.org/simple, https://us-python.pkg.dev/colab-wheels/public/simple/\n",
            "Collecting wandb\n",
            "  Downloading wandb-0.13.5-py2.py3-none-any.whl (1.9 MB)\n",
            "\u001b[K     |████████████████████████████████| 1.9 MB 15.5 MB/s \n",
            "\u001b[?25hRequirement already satisfied: PyYAML in /usr/local/lib/python3.7/dist-packages (from wandb) (6.0)\n",
            "Collecting shortuuid>=0.5.0\n",
            "  Downloading shortuuid-1.0.11-py3-none-any.whl (10 kB)\n",
            "Collecting setproctitle\n",
            "  Downloading setproctitle-1.3.2-cp37-cp37m-manylinux_2_5_x86_64.manylinux1_x86_64.manylinux_2_17_x86_64.manylinux2014_x86_64.whl (30 kB)\n",
            "Requirement already satisfied: psutil>=5.0.0 in /usr/local/lib/python3.7/dist-packages (from wandb) (5.4.8)\n",
            "Requirement already satisfied: six>=1.13.0 in /usr/local/lib/python3.7/dist-packages (from wandb) (1.15.0)\n",
            "Requirement already satisfied: requests<3,>=2.0.0 in /usr/local/lib/python3.7/dist-packages (from wandb) (2.23.0)\n",
            "Requirement already satisfied: Click!=8.0.0,>=7.0 in /usr/local/lib/python3.7/dist-packages (from wandb) (7.1.2)\n",
            "Requirement already satisfied: setuptools in /usr/local/lib/python3.7/dist-packages (from wandb) (57.4.0)\n",
            "Requirement already satisfied: promise<3,>=2.0 in /usr/local/lib/python3.7/dist-packages (from wandb) (2.3)\n",
            "Requirement already satisfied: protobuf!=4.0.*,!=4.21.0,<5,>=3.12.0 in /usr/local/lib/python3.7/dist-packages (from wandb) (3.19.6)\n",
            "Collecting docker-pycreds>=0.4.0\n",
            "  Downloading docker_pycreds-0.4.0-py2.py3-none-any.whl (9.0 kB)\n",
            "Collecting sentry-sdk>=1.0.0\n",
            "  Downloading sentry_sdk-1.11.1-py2.py3-none-any.whl (168 kB)\n",
            "\u001b[K     |████████████████████████████████| 168 kB 8.3 MB/s \n",
            "\u001b[?25hCollecting pathtools\n",
            "  Downloading pathtools-0.1.2.tar.gz (11 kB)\n",
            "Collecting GitPython>=1.0.0\n",
            "  Downloading GitPython-3.1.29-py3-none-any.whl (182 kB)\n",
            "\u001b[K     |████████████████████████████████| 182 kB 66.7 MB/s \n",
            "\u001b[?25hCollecting gitdb<5,>=4.0.1\n",
            "  Downloading gitdb-4.0.10-py3-none-any.whl (62 kB)\n",
            "\u001b[K     |████████████████████████████████| 62 kB 1.7 MB/s \n",
            "\u001b[?25hRequirement already satisfied: typing-extensions>=3.7.4.3 in /usr/local/lib/python3.7/dist-packages (from GitPython>=1.0.0->wandb) (4.1.1)\n",
            "Collecting smmap<6,>=3.0.1\n",
            "  Downloading smmap-5.0.0-py3-none-any.whl (24 kB)\n",
            "Requirement already satisfied: idna<3,>=2.5 in /usr/local/lib/python3.7/dist-packages (from requests<3,>=2.0.0->wandb) (2.10)\n",
            "Requirement already satisfied: urllib3!=1.25.0,!=1.25.1,<1.26,>=1.21.1 in /usr/local/lib/python3.7/dist-packages (from requests<3,>=2.0.0->wandb) (1.24.3)\n",
            "Requirement already satisfied: chardet<4,>=3.0.2 in /usr/local/lib/python3.7/dist-packages (from requests<3,>=2.0.0->wandb) (3.0.4)\n",
            "Requirement already satisfied: certifi>=2017.4.17 in /usr/local/lib/python3.7/dist-packages (from requests<3,>=2.0.0->wandb) (2022.9.24)\n",
            "Collecting sentry-sdk>=1.0.0\n",
            "  Downloading sentry_sdk-1.11.0-py2.py3-none-any.whl (168 kB)\n",
            "\u001b[K     |████████████████████████████████| 168 kB 70.3 MB/s \n",
            "\u001b[?25h  Downloading sentry_sdk-1.10.1-py2.py3-none-any.whl (166 kB)\n",
            "\u001b[K     |████████████████████████████████| 166 kB 70.1 MB/s \n",
            "\u001b[?25h  Downloading sentry_sdk-1.10.0-py2.py3-none-any.whl (166 kB)\n",
            "\u001b[K     |████████████████████████████████| 166 kB 73.4 MB/s \n",
            "\u001b[?25h  Downloading sentry_sdk-1.9.10-py2.py3-none-any.whl (162 kB)\n",
            "\u001b[K     |████████████████████████████████| 162 kB 60.0 MB/s \n",
            "\u001b[?25h  Downloading sentry_sdk-1.9.9-py2.py3-none-any.whl (162 kB)\n",
            "\u001b[K     |████████████████████████████████| 162 kB 71.1 MB/s \n",
            "\u001b[?25h  Downloading sentry_sdk-1.9.8-py2.py3-none-any.whl (158 kB)\n",
            "\u001b[K     |████████████████████████████████| 158 kB 71.6 MB/s \n",
            "\u001b[?25h  Downloading sentry_sdk-1.9.7-py2.py3-none-any.whl (157 kB)\n",
            "\u001b[K     |████████████████████████████████| 157 kB 76.8 MB/s \n",
            "\u001b[?25h  Downloading sentry_sdk-1.9.6-py2.py3-none-any.whl (157 kB)\n",
            "\u001b[K     |████████████████████████████████| 157 kB 74.2 MB/s \n",
            "\u001b[?25h  Downloading sentry_sdk-1.9.5-py2.py3-none-any.whl (157 kB)\n",
            "\u001b[K     |████████████████████████████████| 157 kB 71.6 MB/s \n",
            "\u001b[?25h  Downloading sentry_sdk-1.9.4-py2.py3-none-any.whl (157 kB)\n",
            "\u001b[K     |████████████████████████████████| 157 kB 66.9 MB/s \n",
            "\u001b[?25h  Downloading sentry_sdk-1.9.3-py2.py3-none-any.whl (157 kB)\n",
            "\u001b[K     |████████████████████████████████| 157 kB 66.3 MB/s \n",
            "\u001b[?25h  Downloading sentry_sdk-1.9.2-py2.py3-none-any.whl (157 kB)\n",
            "\u001b[K     |████████████████████████████████| 157 kB 53.9 MB/s \n",
            "\u001b[?25h  Downloading sentry_sdk-1.9.1-py2.py3-none-any.whl (157 kB)\n",
            "\u001b[K     |████████████████████████████████| 157 kB 72.7 MB/s \n",
            "\u001b[?25h  Downloading sentry_sdk-1.9.0-py2.py3-none-any.whl (156 kB)\n",
            "\u001b[K     |████████████████████████████████| 156 kB 72.0 MB/s \n",
            "\u001b[?25hBuilding wheels for collected packages: pathtools\n",
            "  Building wheel for pathtools (setup.py) ... \u001b[?25l\u001b[?25hdone\n",
            "  Created wheel for pathtools: filename=pathtools-0.1.2-py3-none-any.whl size=8806 sha256=f37535033c2802cf495839ff38796c7ce69f0609c89ec5a6a2111cfdad3ffa05\n",
            "  Stored in directory: /root/.cache/pip/wheels/3e/31/09/fa59cef12cdcfecc627b3d24273699f390e71828921b2cbba2\n",
            "Successfully built pathtools\n",
            "Installing collected packages: smmap, gitdb, shortuuid, setproctitle, sentry-sdk, pathtools, GitPython, docker-pycreds, wandb\n",
            "Successfully installed GitPython-3.1.29 docker-pycreds-0.4.0 gitdb-4.0.10 pathtools-0.1.2 sentry-sdk-1.9.0 setproctitle-1.3.2 shortuuid-1.0.11 smmap-5.0.0 wandb-0.13.5\n"
          ]
        }
      ]
    },
    {
      "cell_type": "code",
      "source": [
        "def train(train_loader, model, optimizer, loss_function, log_batch, log_interval, grad_clipping, max_norm):\n",
        "\n",
        "  \"\"\" \n",
        "  Function for training the model in each epoch\n",
        "  Input: iterator for train dataset, initial weights and bias, epochs, learning rate.\n",
        "  Output: final weights, bias, train loss, train accuracy\n",
        "  \"\"\"\n",
        "  # initilalize variables as global\n",
        "  # these counts will be updated every epoch\n",
        "  global example_ct_train\n",
        "  global batch_ct_train\n",
        "\n",
        "  # Training Loop loop\n",
        "  # Initialize train_loss at the he start of the epoch\n",
        "  running_train_loss = 0\n",
        "  #running_train_correct = 0\n",
        "  \n",
        "  # put the model in training mode\n",
        "  model.train()\n",
        "\n",
        "  # Iterate on batches from the dataset using train_loader\n",
        "  for input_, targets, offsets in train_loader:\n",
        "    \n",
        "    # move inputs and outputs to GPUs\n",
        "    input_ = input_.to(device)\n",
        "    targets = targets.to(device)\n",
        "    offsets = offsets.to(device)\n",
        "\n",
        "    # Forward pass\n",
        "    output = model(input_, offsets)\n",
        "    loss = loss_function(output, targets.float())\n",
        "\n",
        "    # Correct prediction\n",
        "    #y_pred = torch.math.greater(output, 0.5)\n",
        "    #correct = torch.sum(y_pred == targets)\n",
        "\n",
        "    example_ct_train +=  len(targets)\n",
        "    batch_ct_train += 1\n",
        "\n",
        "    # set gradients to zero \n",
        "    optimizer.zero_grad()\n",
        "\n",
        "    # Backward pass\n",
        "    loss.backward()\n",
        "\n",
        "    # Gradient Clipping\n",
        "    if grad_clipping:\n",
        "      nn.utils.clip_grad_norm_(model.parameters(), max_norm=max_norm, norm_type=2)\n",
        "\n",
        "    # Update parameters using their gradient\n",
        "    optimizer.step()\n",
        "          \n",
        "    # Add train loss of a batch \n",
        "    running_train_loss += loss.item()\n",
        "\n",
        "    # Add Corect counts of a batch\n",
        "    #running_train_correct += correct\n",
        "\n",
        "    # log batch loss and accuracy\n",
        "    if log_batch:\n",
        "      if ((batch_ct_train + 1) % log_interval) == 0:\n",
        "        wandb.log({f\"Train Batch Loss  :\": loss})\n",
        "        #wandb.log({f\"Train Batch Acc :\": correct/len(targets)})\n",
        " \n",
        "  # Calculate mean train loss for the whole dataset for a particular epoch\n",
        "  train_loss = running_train_loss/len(train_loader)\n",
        "\n",
        "  # Calculate accuracy for the whole dataset for a particular epoch\n",
        "  #train_acc = running_train_correct/len(train_loader.dataset)\n",
        "\n",
        "  return train_loss"
      ],
      "metadata": {
        "id": "wpwHbo9j3kj8"
      },
      "execution_count": null,
      "outputs": []
    },
    {
      "cell_type": "markdown",
      "source": [],
      "metadata": {
        "id": "R5CL5B2O3qL8"
      }
    },
    {
      "cell_type": "markdown",
      "source": [
        "## <Font color = 'pickle'>**Function for Validation Loops**"
      ],
      "metadata": {
        "id": "CHNjFU8J6i7k"
      }
    },
    {
      "cell_type": "code",
      "source": [
        "def valid(loader, model, optimizer, loss_function, log_batch, log_interval):\n",
        "\n",
        "  \"\"\" \n",
        "  Function for training the model and plotting the graph for train & valid loss vs epoch.\n",
        "  Input: iterator for train dataset, initial weights and bias, epochs, learning rate, batch size.\n",
        "  Output: final weights, bias and train loss and valid loss for each epoch.\n",
        "  \"\"\"\n",
        "\n",
        "  # initilalize variables as global\n",
        "  # these counts will be updated every epoch\n",
        "  global example_ct_valid\n",
        "  global batch_ct_valid\n",
        "\n",
        "  # Validation loop\n",
        "  # Initialize train_loss at the he strat of the epoch\n",
        "  running_valid_loss = 0\n",
        "  #running_valid_correct = 0\n",
        "  \n",
        "  # put the model in evaluation mode\n",
        "  model.eval()\n",
        "\n",
        "  with torch.no_grad():\n",
        "    for input_,targets, offsets in loader:\n",
        "\n",
        "      # move inputs and outputs to GPUs\n",
        "      input_ = input_.to(device)\n",
        "      targets = targets.to(device)\n",
        "      offsets = offsets.to(device)\n",
        "\n",
        "      # Forward pass\n",
        "      output = model(input_, offsets)\n",
        "      loss = loss_function(output,targets.float())\n",
        "\n",
        "      # Correct Predictions(previously, torch.argmax(output, dim = 1))\n",
        "      #y_pred = torch.argmax(output, dim = 1)\n",
        "      #y_pred = torch.math.greater(output, 0.5)\n",
        "      #y_pred = torch.cat((y_pred, indices)) \n",
        "      #correct = torch.sum(y_pred == targets)\n",
        "\n",
        "      # count of images and batches\n",
        "      example_ct_valid +=  len(targets)\n",
        "      batch_ct_valid += 1\n",
        "\n",
        "      # Add valid loss of a batch \n",
        "      running_valid_loss += loss.item()\n",
        "\n",
        "      # Add correct count for each batch\n",
        "      #running_valid_correct += correct\n",
        "\n",
        "      # log batch loss and accuracy\n",
        "      if log_batch:\n",
        "        if ((batch_ct_valid + 1) % log_interval) == 0:\n",
        "          wandb.log({f\"Valid Batch Loss  :\": loss})\n",
        "          #wandb.log({f\"Valid Batch Accuracy :\": correct/len(targets)})\n",
        "\n",
        "    # Calculate mean valid loss for the whole dataset for a particular epoch\n",
        "    valid_loss = running_valid_loss/len(valid_loader)\n",
        "\n",
        "    # scheduler step\n",
        "    # scheduler.step(valid_loss)\n",
        "    # scheduler.step()\n",
        "\n",
        "    # Calculate accuracy for the whole dataset for a particular epoch\n",
        "    #valid_acc = running_valid_correct/len(valid_loader.dataset)\n",
        "    \n",
        "  return valid_loss"
      ],
      "metadata": {
        "id": "EvpBxcmv6rYe"
      },
      "execution_count": null,
      "outputs": []
    },
    {
      "cell_type": "markdown",
      "source": [
        "## <Font color = 'pickle'>**Function for Model Training**"
      ],
      "metadata": {
        "id": "eelvZ4Cl9E6C"
      }
    },
    {
      "cell_type": "code",
      "source": [
        "\n",
        "def train_loop(train_loader, valid_loader, model, loss_function, optimizer, epochs, device, patience, early_stopping,\n",
        "               file_model):\n",
        "\n",
        "  '''\n",
        "  model: specify your model for training\n",
        "  criterion: loss function \n",
        "  optimizer: optimizer like SGD , ADAM etc.\n",
        "  train loader: function to carete batches for training data\n",
        "  valid loader : function to create batches for valid data set\n",
        "  file_model : specify file name for saving your model. This way we can upload the model weights from file. We will not to run model again.\n",
        "  \n",
        "\n",
        "  '''\n",
        "  # Create lists to store train and valid loss at each epoch\n",
        "\n",
        "  train_loss_history = []\n",
        "  valid_loss_history = []\n",
        "  #train_acc_history = []\n",
        "  #valid_acc_history = []\n",
        "  \n",
        "  delta = 0\n",
        "  best_score = None\n",
        "  valid_loss_min = np.Inf\n",
        "  counter_early_stop=0\n",
        "  early_stop= False\n",
        "\n",
        "  from datetime import datetime\n",
        "  # Iterate for the given number of epochs\n",
        "  for epoch in range(epochs):\n",
        "    t0 = datetime.now()\n",
        "    # Get train loss and accuracy for one epoch\n",
        "\n",
        "    train_loss = train(train_loader, model, optimizer, loss_function, \n",
        "                                  wandb.config.LOG_BATCH, wandb.config.LOG_INTERVAL,\n",
        "                                  wandb.config.GRAD_CLIPPING, wandb.config.MAX_NORM)\n",
        "    valid_loss = valid(valid_loader, model, optimizer, loss_function,\n",
        "                                    wandb.config.LOG_BATCH, wandb.config.LOG_INTERVAL)\n",
        "\n",
        "    dt = datetime.now() - t0\n",
        "\n",
        "    # Save history of the Losses and accuracy\n",
        "    train_loss_history.append(train_loss)\n",
        "    #train_acc_history.append(train_acc)\n",
        "    valid_loss_history.append(valid_loss)\n",
        "    #valid_acc_history.append(valid_acc)\n",
        "\n",
        "    if early_stopping:\n",
        "      score = -valid_loss\n",
        "      if best_score is None:\n",
        "        best_score=score\n",
        "        print(f'Validation loss has decreased ({valid_loss_min:.6f} --> {valid_loss:.6f}). Saving Model...')\n",
        "        torch.save(model.state_dict(), file_model)\n",
        "        valid_loss_min = valid_loss\n",
        "\n",
        "      elif score < best_score + delta:\n",
        "        counter_early_stop += 1\n",
        "        print(f'Early stoping counter: {counter_early_stop} out of {patience}')\n",
        "        if counter_early_stop > patience:\n",
        "          early_stop = True\n",
        "      \n",
        "      else:\n",
        "        best_score = score\n",
        "        print(f'Validation loss has decreased ({valid_loss_min:.6f} --> {valid_loss:.6f}). Saving model...')\n",
        "        torch.save(model.state_dict(), file_model)\n",
        "        counter_early_stop=0\n",
        "        valid_loss_min = valid_loss\n",
        "\n",
        "      if early_stop:\n",
        "        print('Early Stopping')\n",
        "        break\n",
        "\n",
        "    else:\n",
        "\n",
        "      score = -valid_loss\n",
        "      if best_score is None:\n",
        "        best_score=score\n",
        "        print(f'Validation loss has decreased ({valid_loss_min:.6f} --> {valid_loss:.6f}). Saving Model...')\n",
        "        torch.save(model.state_dict(), file_model)\n",
        "        valid_loss_min = valid_loss\n",
        "\n",
        "      elif score < best_score + delta:\n",
        "        print(f'Validation loss has not decreased ({valid_loss_min:.6f} --> {valid_loss:.6f}). Not Saving Model...')\n",
        "      \n",
        "      else:\n",
        "        best_score = score\n",
        "        print(f'Validation loss has decreased ({valid_loss_min:.6f} --> {valid_loss:.6f}). Saving model...')\n",
        "        torch.save(model.state_dict(), file_model)\n",
        "        valid_loss_min = valid_loss\n",
        "\n",
        "    # Log the train and valid loss to W&B\n",
        "    wandb.log({f\"Train epoch Loss :\": train_loss, f\"Valid epoch Loss :\": valid_loss })\n",
        "    #wandb.log({f\"Train epoch Acc :\": train_acc, f\"Valid epoch Acc :\": valid_acc})\n",
        "\n",
        "    # Print the train loss and accuracy for given number of epochs, batch size and number of samples\n",
        "    print(f'Epoch : {epoch+1} / {epochs}')\n",
        "    print(f'Time to complete {epoch+1} is {dt}')\n",
        "    # print(f'Learning rate: {scheduler._last_lr[0]}')\n",
        "    print(f'Train Loss: {train_loss : .4f}')\n",
        "    print(f'Valid Loss: {valid_loss : .4f}')\n",
        "    print()\n",
        "    torch.cuda.empty_cache()\n",
        "\n",
        "  return train_loss_history, valid_loss_history"
      ],
      "metadata": {
        "id": "L1wwSHIr9H_M"
      },
      "execution_count": null,
      "outputs": []
    },
    {
      "cell_type": "markdown",
      "source": [
        "# <Font color = 'pickle'>**Meta Data**"
      ],
      "metadata": {
        "id": "BrIN5No09Qjg"
      }
    },
    {
      "cell_type": "code",
      "source": [
        "from types import SimpleNamespace\n",
        "import torch.nn.functional as F\n",
        "\n",
        "hyperparameters = SimpleNamespace(\n",
        "    EMBED_DIM = 400,\n",
        "    VOCAB_SIZE = len(my_vocab),\n",
        "    OUTPUT_DIM = 10,\n",
        "    HIDDEN_DIM1 = 200,\n",
        "    HIDDEN_DIM2 = 100,\n",
        "    NON_LINEARITY= F.relu,\n",
        "    EPOCHS = 40,\n",
        "    \n",
        "    BATCH_SIZE = 256,\n",
        "    LEARNING_RATE = 0.01,\n",
        "    DATASET=\"Multilabel\",\n",
        "    ARCHITECTUREe=\"HW6B_embedbag_2hiddenlayers\",\n",
        "    LOG_INTERVAL = 25,\n",
        "    LOG_BATCH = True,\n",
        "    FILE_MODEL = data_folder/'HW6B.pt',\n",
        "    GRAD_CLIPPING = False,\n",
        "    MAX_NORM = 0,\n",
        "    MOMENTUM = 0,\n",
        "    PATIENCE = 5,\n",
        "    EARLY_STOPPING = True,\n",
        "    # SCHEDULER_FACTOR = 0,\n",
        "    # SCHEDULER_PATIENCE = 0,\n",
        "    WEIGHT_DECAY = 0\n",
        "    )"
      ],
      "metadata": {
        "id": "uR0YrYsf9UB3"
      },
      "execution_count": null,
      "outputs": []
    },
    {
      "cell_type": "markdown",
      "source": [
        "# <Font color = 'pickle'>**Data Loaders, Loss Function, Optimizer**"
      ],
      "metadata": {
        "id": "LuCDAVEA9gWB"
      }
    },
    {
      "cell_type": "code",
      "source": [
        "# Initialize a new project\n",
        "import random\n",
        "wandb.init(name = 'EmbedBagNN', project = 'NLP_HW6B')"
      ],
      "metadata": {
        "id": "Ie2rMuIC9dQc",
        "colab": {
          "base_uri": "https://localhost:8080/",
          "height": 508
        },
        "outputId": "ade62301-d087-4ab1-ff47-f0a989f6ee26"
      },
      "execution_count": null,
      "outputs": [
        {
          "output_type": "display_data",
          "data": {
            "text/plain": [
              "<IPython.core.display.HTML object>"
            ],
            "text/html": [
              "Finishing last run (ID:2rhuhhoh) before initializing another..."
            ]
          },
          "metadata": {}
        },
        {
          "output_type": "display_data",
          "data": {
            "text/plain": [
              "<IPython.core.display.HTML object>"
            ],
            "text/html": [
              "Waiting for W&B process to finish... <strong style=\"color:green\">(success).</strong>"
            ]
          },
          "metadata": {}
        },
        {
          "output_type": "display_data",
          "data": {
            "text/plain": [
              "<IPython.core.display.HTML object>"
            ],
            "text/html": [
              "<style>\n",
              "    table.wandb td:nth-child(1) { padding: 0 10px; text-align: left ; width: auto;} td:nth-child(2) {text-align: left ; width: 100%}\n",
              "    .wandb-row { display: flex; flex-direction: row; flex-wrap: wrap; justify-content: flex-start; width: 100% }\n",
              "    .wandb-col { display: flex; flex-direction: column; flex-basis: 100%; flex: 1; padding: 10px; }\n",
              "    </style>\n",
              "<div class=\"wandb-row\"><div class=\"wandb-col\"><h3>Run history:</h3><br/><table class=\"wandb\"><tr><td>Train Batch Loss  :</td><td>█▅▅▄▃▃▃▃▂▃▂▃▃▂▂▂▂▂▁▂▂▂▁▂▁▁▂▁▁▂▁▁▁▁▁▁▁▁▁▁</td></tr><tr><td>Train epoch Loss :</td><td>█▄▃▂▂▁▁▁</td></tr><tr><td>Valid Batch Loss  :</td><td>▇▅▄▃▁▂▃▄▆▆▇▅█</td></tr><tr><td>Valid epoch Loss :</td><td>█▃▁▁▂▄▄▆</td></tr></table><br/></div><div class=\"wandb-col\"><h3>Run summary:</h3><br/><table class=\"wandb\"><tr><td>Train Batch Loss  :</td><td>0.04665</td></tr><tr><td>Train epoch Loss :</td><td>0.04661</td></tr><tr><td>Valid Batch Loss  :</td><td>0.15575</td></tr><tr><td>Valid epoch Loss :</td><td>0.1402</td></tr></table><br/></div></div>"
            ]
          },
          "metadata": {}
        },
        {
          "output_type": "display_data",
          "data": {
            "text/plain": [
              "<IPython.core.display.HTML object>"
            ],
            "text/html": [
              "Synced <strong style=\"color:#cdcd00\">EmbedBagNN</strong>: <a href=\"https://wandb.ai/nimblefox/NLP_HW6B/runs/2rhuhhoh\" target=\"_blank\">https://wandb.ai/nimblefox/NLP_HW6B/runs/2rhuhhoh</a><br/>Synced 5 W&B file(s), 1 media file(s), 0 artifact file(s) and 0 other file(s)"
            ]
          },
          "metadata": {}
        },
        {
          "output_type": "display_data",
          "data": {
            "text/plain": [
              "<IPython.core.display.HTML object>"
            ],
            "text/html": [
              "Find logs at: <code>./wandb/run-20221120_210134-2rhuhhoh/logs</code>"
            ]
          },
          "metadata": {}
        },
        {
          "output_type": "display_data",
          "data": {
            "text/plain": [
              "<IPython.core.display.HTML object>"
            ],
            "text/html": [
              "Successfully finished last run (ID:2rhuhhoh). Initializing new run:<br/>"
            ]
          },
          "metadata": {}
        },
        {
          "output_type": "display_data",
          "data": {
            "text/plain": [
              "<IPython.core.display.HTML object>"
            ],
            "text/html": [
              "Tracking run with wandb version 0.13.5"
            ]
          },
          "metadata": {}
        },
        {
          "output_type": "display_data",
          "data": {
            "text/plain": [
              "<IPython.core.display.HTML object>"
            ],
            "text/html": [
              "Run data is saved locally in <code>/content/wandb/run-20221120_211122-2b31p56n</code>"
            ]
          },
          "metadata": {}
        },
        {
          "output_type": "display_data",
          "data": {
            "text/plain": [
              "<IPython.core.display.HTML object>"
            ],
            "text/html": [
              "Syncing run <strong><a href=\"https://wandb.ai/nimblefox/NLP_HW6B/runs/2b31p56n\" target=\"_blank\">EmbedBagNN</a></strong> to <a href=\"https://wandb.ai/nimblefox/NLP_HW6B\" target=\"_blank\">Weights & Biases</a> (<a href=\"https://wandb.me/run\" target=\"_blank\">docs</a>)<br/>"
            ]
          },
          "metadata": {}
        },
        {
          "output_type": "execute_result",
          "data": {
            "text/html": [
              "<button onClick=\"this.nextSibling.style.display='block';this.style.display='none';\">Display W&B run</button><iframe src=\"https://wandb.ai/nimblefox/NLP_HW6B/runs/2b31p56n?jupyter=true\" style=\"border:none;width:100%;height:420px;display:none;\"></iframe>"
            ],
            "text/plain": [
              "<wandb.sdk.wandb_run.Run at 0x7f572b199f10>"
            ]
          },
          "metadata": {},
          "execution_count": 41
        }
      ]
    },
    {
      "cell_type": "code",
      "source": [
        "wandb.config = hyperparameters\n",
        "wandb.config"
      ],
      "metadata": {
        "id": "EifJsoya9pAs",
        "colab": {
          "base_uri": "https://localhost:8080/"
        },
        "outputId": "a50ce076-2002-4021-eafd-440c2bc180d8"
      },
      "execution_count": null,
      "outputs": [
        {
          "output_type": "execute_result",
          "data": {
            "text/plain": [
              "namespace(ARCHITECTUREe='HW6B_embedbag_2hiddenlayers', BATCH_SIZE=256, DATASET='Multilabel', EARLY_STOPPING=True, EMBED_DIM=400, EPOCHS=40, FILE_MODEL=PosixPath('/content/drive/MyDrive/ColabNotebooks/NLPClass/datasets/HW6B.pt'), GRAD_CLIPPING=False, HIDDEN_DIM1=200, HIDDEN_DIM2=100, LEARNING_RATE=0.01, LOG_BATCH=True, LOG_INTERVAL=25, MAX_NORM=0, MOMENTUM=0, NON_LINEARITY=<function relu at 0x7f5796efa680>, OUTPUT_DIM=10, PATIENCE=5, VOCAB_SIZE=20808, WEIGHT_DECAY=0)"
            ]
          },
          "metadata": {},
          "execution_count": 42
        }
      ]
    },
    {
      "cell_type": "code",
      "source": [
        "# Fix seed value\n",
        "SEED = 1234\n",
        "import random\n",
        "random.seed(SEED)\n",
        "np.random.seed(SEED)\n",
        "torch.manual_seed(SEED)\n",
        "torch.cuda.manual_seed(SEED)\n",
        "torch.backends.cudnn.deterministic = True\n",
        "\n",
        "# Data Loader\n",
        "train_loader = torch.utils.data.DataLoader(train_set, batch_size=wandb.config.BATCH_SIZE, shuffle = True, collate_fn=collate_batch, num_workers = 4)\n",
        "valid_loader = torch.utils.data.DataLoader(valid_set, batch_size=wandb.config.BATCH_SIZE, shuffle = False, collate_fn=collate_batch, num_workers = 4)\n",
        "test_loader = torch.utils.data.DataLoader(test_set, batch_size=wandb.config.BATCH_SIZE, shuffle = False, collate_fn=collate_batch, num_workers = 4)\n",
        "\n",
        "# cross entropy loss function\n",
        "loss_function = nn.BCEWithLogitsLoss()\n",
        "\n",
        "# use GPUs\n",
        "device = torch.device('cuda:0' if torch.cuda.is_available() else 'cpu')\n",
        "wandb.config.DEVICE = device\n",
        "\n",
        "# model \n",
        "model = MLPCustom(wandb.config.EMBED_DIM, \n",
        "                  wandb.config.VOCAB_SIZE,\n",
        "                  wandb.config.HIDDEN_DIM1, \n",
        "                  wandb.config.HIDDEN_DIM2,\n",
        "                  wandb.config.OUTPUT_DIM, \n",
        "                  wandb.config.NON_LINEARITY)\n",
        "\n",
        "model.to(wandb.config.DEVICE)\n",
        "\n",
        "def init_weights(m):\n",
        "  if type(m) == nn.Linear:\n",
        "      torch.nn.init.kaiming_normal_(m.weight)\n",
        "      torch.nn.init.zeros_(m.bias)\n",
        "        \n",
        "# apply initialization recursively  to all modules\n",
        "model.apply(init_weights)\n",
        "\n",
        "# Intialize stochiastic gradient descent optimizer\n",
        "optimizer = torch.optim.Adam(model.parameters(), \n",
        "                             lr = wandb.config.LEARNING_RATE, \n",
        "                             weight_decay=wandb.config.WEIGHT_DECAY)\n",
        "\n",
        "wandb.config.OPTIMIZER = optimizer\n",
        "\n",
        "# scheduler = ReduceLROnPlateau(optimizer, mode='min', factor= wandb.config.scheduler_factor, \n",
        "#                              patience=wandb.config.scheduler_patience, verbose=True)\n",
        "\n",
        "#scheduler = StepLR(optimizer, gamma=0.4,step_size=1, verbose=True)"
      ],
      "metadata": {
        "id": "xWhLZDTu9pme",
        "colab": {
          "base_uri": "https://localhost:8080/"
        },
        "outputId": "6ca27549-977d-42eb-eb1f-8bfb9f80431b"
      },
      "execution_count": null,
      "outputs": [
        {
          "output_type": "stream",
          "name": "stderr",
          "text": [
            "/usr/local/lib/python3.7/dist-packages/torch/utils/data/dataloader.py:566: UserWarning: This DataLoader will create 4 worker processes in total. Our suggested max number of worker in current system is 2, which is smaller than what this DataLoader is going to create. Please be aware that excessive worker creation might get DataLoader running slow or even freeze, lower the worker number to avoid potential slowness/freeze if necessary.\n",
            "  cpuset_checked))\n"
          ]
        }
      ]
    },
    {
      "cell_type": "code",
      "source": [
        "wandb.config"
      ],
      "metadata": {
        "id": "FBShoTLO9sK8",
        "colab": {
          "base_uri": "https://localhost:8080/"
        },
        "outputId": "d2c3a5b2-2fb2-4029-8d81-e3b208f86fe1"
      },
      "execution_count": null,
      "outputs": [
        {
          "output_type": "execute_result",
          "data": {
            "text/plain": [
              "namespace(ARCHITECTUREe='HW6B_embedbag_2hiddenlayers', BATCH_SIZE=256, DATASET='Multilabel', DEVICE=device(type='cpu'), EARLY_STOPPING=True, EMBED_DIM=400, EPOCHS=40, FILE_MODEL=PosixPath('/content/drive/MyDrive/ColabNotebooks/NLPClass/datasets/HW6B.pt'), GRAD_CLIPPING=False, HIDDEN_DIM1=200, HIDDEN_DIM2=100, LEARNING_RATE=0.01, LOG_BATCH=True, LOG_INTERVAL=25, MAX_NORM=0, MOMENTUM=0, NON_LINEARITY=<function relu at 0x7f5796efa680>, OPTIMIZER=Adam (\n",
              "Parameter Group 0\n",
              "    amsgrad: False\n",
              "    betas: (0.9, 0.999)\n",
              "    capturable: False\n",
              "    eps: 1e-08\n",
              "    foreach: None\n",
              "    lr: 0.01\n",
              "    maximize: False\n",
              "    weight_decay: 0\n",
              "), OUTPUT_DIM=10, PATIENCE=5, VOCAB_SIZE=20808, WEIGHT_DECAY=0)"
            ]
          },
          "metadata": {},
          "execution_count": 44
        }
      ]
    },
    {
      "cell_type": "markdown",
      "source": [
        "# <Font color = 'pickle'>**Sanity Check**"
      ],
      "metadata": {
        "id": "dBUCqkeN9x7P"
      }
    },
    {
      "cell_type": "code",
      "source": [
        "for input_, targets, offsets in train_loader:\n",
        "  \n",
        "  # move inputs and outputs to GPUs\n",
        "  input_ = input_.to(device)\n",
        "  targets = targets.to(device)\n",
        "  offsets = offsets.to(device)\n",
        "  model.eval()\n",
        "  # Forward pass\n",
        "  output = model(input_, offsets)\n",
        "  loss = loss_function(output, targets.float())\n",
        "  print(f'Actual loss: {loss}')\n",
        "  break\n",
        "\n",
        "print(f'Expected Theoretical loss: {np.log(2)}')"
      ],
      "metadata": {
        "id": "KgjyL8uU9yyJ",
        "colab": {
          "base_uri": "https://localhost:8080/"
        },
        "outputId": "3dc187b4-15bc-4a9f-fe1c-033fb3b24c4a"
      },
      "execution_count": null,
      "outputs": [
        {
          "output_type": "stream",
          "name": "stdout",
          "text": [
            "Actual loss: 0.7073890566825867\n",
            "Expected Theoretical loss: 0.6931471805599453\n"
          ]
        }
      ]
    },
    {
      "cell_type": "code",
      "source": [
        "offsets[-1]"
      ],
      "metadata": {
        "colab": {
          "base_uri": "https://localhost:8080/"
        },
        "id": "Hvyna--9WVVt",
        "outputId": "cb485d96-f8ba-4a05-b544-9b5f26b51a63"
      },
      "execution_count": null,
      "outputs": [
        {
          "output_type": "execute_result",
          "data": {
            "text/plain": [
              "tensor(17825)"
            ]
          },
          "metadata": {},
          "execution_count": 59
        }
      ]
    },
    {
      "cell_type": "code",
      "source": [
        "len(input_)"
      ],
      "metadata": {
        "colab": {
          "base_uri": "https://localhost:8080/"
        },
        "id": "H0s6ELy2WqF3",
        "outputId": "4186f400-7130-4e2d-e12c-737c400ccb54"
      },
      "execution_count": null,
      "outputs": [
        {
          "output_type": "execute_result",
          "data": {
            "text/plain": [
              "17855"
            ]
          },
          "metadata": {},
          "execution_count": 62
        }
      ]
    },
    {
      "cell_type": "code",
      "source": [
        "len(targets)"
      ],
      "metadata": {
        "colab": {
          "base_uri": "https://localhost:8080/"
        },
        "id": "epZmuM_TWvk-",
        "outputId": "28608913-7192-439b-bd55-7dfff5570ed2"
      },
      "execution_count": null,
      "outputs": [
        {
          "output_type": "execute_result",
          "data": {
            "text/plain": [
              "256"
            ]
          },
          "metadata": {},
          "execution_count": 65
        }
      ]
    },
    {
      "cell_type": "code",
      "source": [
        "model"
      ],
      "metadata": {
        "colab": {
          "base_uri": "https://localhost:8080/"
        },
        "id": "ckxrYU2mWOoO",
        "outputId": "a893ffc1-e810-41ef-b5e5-30e92204ec8a"
      },
      "execution_count": null,
      "outputs": [
        {
          "output_type": "execute_result",
          "data": {
            "text/plain": [
              "MLPCustom(\n",
              "  (embedding): EmbeddingBag(20808, 300, mode=mean)\n",
              "  (hidden_layer1): Linear(in_features=300, out_features=200, bias=True)\n",
              "  (drop1): Dropout(p=0.5, inplace=False)\n",
              "  (batchnorm1): BatchNorm1d(200, eps=1e-05, momentum=0.1, affine=True, track_running_stats=True)\n",
              "  (hidden_layer2): Linear(in_features=200, out_features=100, bias=True)\n",
              "  (drop2): Dropout(p=0.5, inplace=False)\n",
              "  (batchnorm2): BatchNorm1d(100, eps=1e-05, momentum=0.1, affine=True, track_running_stats=True)\n",
              "  (output_layer): Linear(in_features=100, out_features=10, bias=True)\n",
              ")"
            ]
          },
          "metadata": {},
          "execution_count": 31
        }
      ]
    },
    {
      "cell_type": "markdown",
      "source": [
        "# <Font color = 'pickle'>**Training Model**"
      ],
      "metadata": {
        "id": "M5gAGLjJ918M"
      }
    },
    {
      "cell_type": "code",
      "source": [
        "wandb.watch(model, log = 'all', log_freq=25, log_graph=True)"
      ],
      "metadata": {
        "id": "nZaCkaUd95QV",
        "colab": {
          "base_uri": "https://localhost:8080/"
        },
        "outputId": "a983a607-e3e4-4605-b213-c935741b9d22"
      },
      "execution_count": null,
      "outputs": [
        {
          "output_type": "stream",
          "name": "stderr",
          "text": [
            "\u001b[34m\u001b[1mwandb\u001b[0m: logging graph, to disable use `wandb.watch(log_graph=False)`\n"
          ]
        },
        {
          "output_type": "execute_result",
          "data": {
            "text/plain": [
              "[<wandb.wandb_torch.TorchGraph at 0x7f573225dc50>]"
            ]
          },
          "metadata": {},
          "execution_count": 46
        }
      ]
    },
    {
      "cell_type": "code",
      "source": [
        "example_ct_train, batch_ct_train, example_ct_valid, batch_ct_valid = 0, 0, 0, 0\n",
        "\n",
        "train_loss_history, valid_loss_history = train_loop(train_loader, \n",
        "                                                    valid_loader, \n",
        "                                                    model,\n",
        "                                                    loss_function, \n",
        "                                                    optimizer, \n",
        "                                                    wandb.config.EPOCHS, \n",
        "                                                    wandb.config.DEVICE,\n",
        "                                                    wandb.config.PATIENCE, \n",
        "                                                    wandb.config.EARLY_STOPPING,\n",
        "                                                    wandb.config.FILE_MODEL)"
      ],
      "metadata": {
        "id": "DcxJB1s_980B",
        "colab": {
          "base_uri": "https://localhost:8080/"
        },
        "outputId": "1c376b59-67a4-412a-a020-a1da89c3ccd1"
      },
      "execution_count": null,
      "outputs": [
        {
          "output_type": "stream",
          "name": "stdout",
          "text": [
            "Validation loss has decreased (inf --> 0.144952). Saving Model...\n",
            "Epoch : 1 / 40\n",
            "Time to complete 1 is 0:00:16.118319\n",
            "Train Loss:  0.2771\n",
            "Valid Loss:  0.1450\n",
            "\n",
            "Validation loss has decreased (0.144952 --> 0.120050). Saving model...\n",
            "Epoch : 2 / 40\n",
            "Time to complete 2 is 0:00:15.899438\n",
            "Train Loss:  0.1291\n",
            "Valid Loss:  0.1201\n",
            "\n",
            "Validation loss has decreased (0.120050 --> 0.119413). Saving model...\n",
            "Epoch : 3 / 40\n",
            "Time to complete 3 is 0:00:17.133638\n",
            "Train Loss:  0.1003\n",
            "Valid Loss:  0.1194\n",
            "\n",
            "Early stoping counter: 1 out of 5\n",
            "Epoch : 4 / 40\n",
            "Time to complete 4 is 0:00:15.096427\n",
            "Train Loss:  0.0813\n",
            "Valid Loss:  0.1240\n",
            "\n",
            "Early stoping counter: 2 out of 5\n",
            "Epoch : 5 / 40\n",
            "Time to complete 5 is 0:00:16.317839\n",
            "Train Loss:  0.0688\n",
            "Valid Loss:  0.1199\n",
            "\n",
            "Early stoping counter: 3 out of 5\n",
            "Epoch : 6 / 40\n",
            "Time to complete 6 is 0:00:16.167395\n",
            "Train Loss:  0.0598\n",
            "Valid Loss:  0.1284\n",
            "\n",
            "Early stoping counter: 4 out of 5\n",
            "Epoch : 7 / 40\n",
            "Time to complete 7 is 0:00:15.222330\n",
            "Train Loss:  0.0528\n",
            "Valid Loss:  0.1350\n",
            "\n",
            "Early stoping counter: 5 out of 5\n",
            "Epoch : 8 / 40\n",
            "Time to complete 8 is 0:00:16.854526\n",
            "Train Loss:  0.0468\n",
            "Valid Loss:  0.1406\n",
            "\n",
            "Early stoping counter: 6 out of 5\n",
            "Early Stopping\n"
          ]
        }
      ]
    },
    {
      "cell_type": "markdown",
      "source": [
        "# <Font color = 'pickle'>**Get Predictions**"
      ],
      "metadata": {
        "id": "4jmYgHKx-G3d"
      }
    },
    {
      "cell_type": "code",
      "source": [
        "model_nn = MLPCustom(wandb.config.EMBED_DIM, wandb.config.VOCAB_SIZE, wandb.config.HIDDEN_DIM1, wandb.config.HIDDEN_DIM2, \n",
        "                  wandb.config.OUTPUT_DIM, wandb.config.NON_LINEARITY)\n",
        "\n",
        "model_nn.to(device)\n",
        "model_nn.load_state_dict(torch.load(wandb.config.FILE_MODEL))"
      ],
      "metadata": {
        "id": "-QkpUXXU-DPD",
        "colab": {
          "base_uri": "https://localhost:8080/"
        },
        "outputId": "4fdddd5d-977f-4081-cb86-8028b58086ff"
      },
      "execution_count": null,
      "outputs": [
        {
          "output_type": "execute_result",
          "data": {
            "text/plain": [
              "<All keys matched successfully>"
            ]
          },
          "metadata": {},
          "execution_count": 48
        }
      ]
    },
    {
      "cell_type": "code",
      "source": [
        "def get_pred(data_loader, model,device):\n",
        "    \n",
        "  \"\"\" \n",
        "  Function to get predictions and accuracy for a given data using estimated model\n",
        "  Input: Data iterator, Final estimated weoights, bias\n",
        "  Output: Prections and Accuracy for given dataset\n",
        "  \"\"\"\n",
        "\n",
        "  # Array to store predicted labels\n",
        "  predictions = torch.Tensor() # empty tensor\n",
        "  predictions = predictions.to(device) # move predictions to GPU\n",
        "\n",
        "  # Array to store actual labels\n",
        "  y = torch.Tensor() # empty tensor\n",
        "  y = y.to(device)\n",
        "\n",
        "  # Iterate over batches from data iterator\n",
        "  with torch.no_grad():\n",
        "    for input_, targets, offsets in data_loader:\n",
        "      \n",
        "      # move inputs and outputs to GPUs\n",
        "      \n",
        "      input_ = input_.to(device)\n",
        "      targets = targets.to(device)\n",
        "      offsets = offsets.to(device)\n",
        "      \n",
        "      # Calculated the predicted labels\n",
        "      output = model(input_, offsets)\n",
        "\n",
        "      # Choose the label with maximum probability\n",
        "      prediction = torch.sigmoid(output)\n",
        "      indices=prediction\n",
        "      indices[indices>0.5]=1\n",
        "      indices[indices<0.5]=0\n",
        "\n",
        "      # Add the predicted labels to the array\n",
        "      predictions = torch.cat((predictions, indices)) \n",
        "\n",
        "      # Add the actual labels to the array\n",
        "      y = torch.cat((y, targets))\n",
        "\n",
        "      #print(\"Target: \",targets.size(0))\n",
        "      #print(\"Predicted: \",predicted)\n",
        "      #print(\"Target: \", targets)\n",
        "      #calculate how many images were correctly classified\n",
        "  # Check for complete dataset if actual and predicted labels are same or not\n",
        "  # Calculate accuracy\n",
        "  #acc = (predictions == y).float().mean()\n",
        "\n",
        "  # Return tuple containing predictions and targets\n",
        "  return predictions, y"
      ],
      "metadata": {
        "id": "R9V9Vx8E-KhC"
      },
      "execution_count": null,
      "outputs": []
    },
    {
      "cell_type": "code",
      "source": [
        "pred_train, y_train = get_pred(train_loader, model_nn, device)"
      ],
      "metadata": {
        "id": "Cve1U4Mp-MaB"
      },
      "execution_count": null,
      "outputs": []
    },
    {
      "cell_type": "markdown",
      "source": [
        "# <Font color = 'pickle'>**Metric Reasoning**"
      ],
      "metadata": {
        "id": "QbUCaVnX1-VS"
      }
    },
    {
      "cell_type": "markdown",
      "source": [
        "I chose weighted F1 score as the metric because if there is any imbalance in the labels F1 will balance for it, so it is more robust than accuracy"
      ],
      "metadata": {
        "id": "wXmsTudr19ke"
      }
    },
    {
      "cell_type": "code",
      "source": [
        "from sklearn.metrics import f1_score\n",
        "print(\"Weighted F1 score: {:.2f}\".format(f1_score(y_true= y_train, y_pred= pred_train, average= 'weighted')))"
      ],
      "metadata": {
        "id": "N91Oxigi-Oqd",
        "colab": {
          "base_uri": "https://localhost:8080/"
        },
        "outputId": "f668b3fd-be09-4ac4-cc07-24678274456c"
      },
      "execution_count": null,
      "outputs": [
        {
          "output_type": "stream",
          "name": "stdout",
          "text": [
            "Weighted F1 score: 0.93\n"
          ]
        }
      ]
    },
    {
      "cell_type": "markdown",
      "source": [
        "#<font color = 'pickle'> **Task 3**"
      ],
      "metadata": {
        "id": "S5lZfF6pWSgN"
      }
    },
    {
      "cell_type": "markdown",
      "source": [
        "#<font color = 'pickle'> **Embeddings with Gensim**"
      ],
      "metadata": {
        "id": "QKsXhUvsM2y0"
      }
    },
    {
      "cell_type": "code",
      "source": [
        "df = joblib.load(data_folder/'df_raw_small_hw.joblib')"
      ],
      "metadata": {
        "id": "oCv7MPZaGeKZ"
      },
      "execution_count": null,
      "outputs": []
    },
    {
      "cell_type": "code",
      "source": [
        "def basic_clean(text):\n",
        "    if (bool(BeautifulSoup(text, \"html.parser\").find())==True):         \n",
        "        soup = BeautifulSoup(text, \"html.parser\")\n",
        "        text = soup.get_text(separator=\" \")\n",
        "    else:\n",
        "        pass\n",
        "    return re.sub(r'[\\n\\r]','', text)"
      ],
      "metadata": {
        "id": "kkkfc0BqM2y1"
      },
      "execution_count": null,
      "outputs": []
    },
    {
      "cell_type": "code",
      "source": [
        "df['Basic_Cleaned'] = df['Body'].swifter.apply(lambda x: basic_clean(x))"
      ],
      "metadata": {
        "colab": {
          "base_uri": "https://localhost:8080/",
          "height": 49,
          "referenced_widgets": [
            "dee6a7959b144ffc9cef1fdaf8bea2c7",
            "4a179d6096f040c898f97711c5e5e166",
            "963d6a99b08446cba95d515b1aedf116",
            "541473e88d0f4e1fa565c3027f6f732a",
            "4ecba547530c4b728b79eb43fbae50ef",
            "e9268397e0c743b6b8780a6dfc404696",
            "0e14c9f0c49648e89bce82a9367e7a84",
            "97dafdb1439b424f9d241fdefa517537",
            "fc89122e761c4b14b066b7f6f5a857f0",
            "05cddaeb0c324d0fa30535ec8af236e7",
            "1096bdaddea343eb8594f4e4df22455d"
          ]
        },
        "outputId": "d636c5bd-58db-4c33-a0d5-a6f5d217de1e",
        "id": "ORCrgFBEM2y1"
      },
      "execution_count": null,
      "outputs": [
        {
          "output_type": "display_data",
          "data": {
            "text/plain": [
              "Pandas Apply:   0%|          | 0/438813 [00:00<?, ?it/s]"
            ],
            "application/vnd.jupyter.widget-view+json": {
              "version_major": 2,
              "version_minor": 0,
              "model_id": "dee6a7959b144ffc9cef1fdaf8bea2c7"
            }
          },
          "metadata": {}
        }
      ]
    },
    {
      "cell_type": "code",
      "source": [
        "import joblib\n",
        "import pickle\n",
        "#!pip install swifter\n",
        "import swifter\n",
        "\n",
        "joblib.dump(df, '/content/drive/MyDrive/ColabNotebooks/NLPClass/datasets/df_raw_basic.pkl')"
      ],
      "metadata": {
        "colab": {
          "base_uri": "https://localhost:8080/"
        },
        "id": "oT7T7HvMNcvY",
        "outputId": "30788d59-e2b5-4e7c-cebb-9bd4a2ced561"
      },
      "execution_count": null,
      "outputs": [
        {
          "output_type": "execute_result",
          "data": {
            "text/plain": [
              "['/content/drive/MyDrive/ColabNotebooks/NLPClass/datasets/df_raw_basic.pkl']"
            ]
          },
          "metadata": {},
          "execution_count": 14
        }
      ]
    },
    {
      "cell_type": "code",
      "source": [
        "df = joblib.load(data_folder/'df_raw_basic.pkl')"
      ],
      "metadata": {
        "id": "BxYFlfBaevZF"
      },
      "execution_count": null,
      "outputs": []
    },
    {
      "cell_type": "code",
      "source": [
        "df.head()"
      ],
      "metadata": {
        "colab": {
          "base_uri": "https://localhost:8080/",
          "height": 424
        },
        "id": "o83k_QaYgD89",
        "outputId": "a829ce62-96e8-4e4e-df85-58e7fcaaf879"
      },
      "execution_count": null,
      "outputs": [
        {
          "output_type": "execute_result",
          "data": {
            "text/plain": [
              "         Unnamed: 0       Id  \\\n",
              "3595496     1220704  7254900   \n",
              "1929804     4905250  4905251   \n",
              "2513704      138912  6173108   \n",
              "3794169     1419377  7453573   \n",
              "4341677     1966885  8001081   \n",
              "\n",
              "                                                     Title  \\\n",
              "3595496                      Identify un-activated servers   \n",
              "1929804  How to abort the loading of an external HTML r...   \n",
              "2513704  Xcode: how do you make it to where clicking on...   \n",
              "3794169                      Common WQL Monitoring Queries   \n",
              "4341677  Loading Native Managed and C++ DLL within IIS ...   \n",
              "\n",
              "                                                      Body  \\\n",
              "3595496  <p>I've been on a bit of a roll this week and ...   \n",
              "1929804  <p>I'm writing a JavaScript widget, which is i...   \n",
              "2513704  <p>I know how to make a button in Xcode with I...   \n",
              "3794169  <p>What WQL queries would you use for monitori...   \n",
              "4341677  <p>I have WCF service developed in C# for with...   \n",
              "\n",
              "                                             Basic_Cleaned  \n",
              "3595496  I've been on a bit of a roll this week and hav...  \n",
              "1929804  I'm writing a JavaScript widget, which is inte...  \n",
              "2513704  I know how to make a button in Xcode with Inte...  \n",
              "3794169  What WQL queries would you use for monitoring ...  \n",
              "4341677  I have WCF service developed in C# for with .N...  "
            ],
            "text/html": [
              "\n",
              "  <div id=\"df-7726c450-7a13-46c4-a9fd-cb0b02389d33\">\n",
              "    <div class=\"colab-df-container\">\n",
              "      <div>\n",
              "<style scoped>\n",
              "    .dataframe tbody tr th:only-of-type {\n",
              "        vertical-align: middle;\n",
              "    }\n",
              "\n",
              "    .dataframe tbody tr th {\n",
              "        vertical-align: top;\n",
              "    }\n",
              "\n",
              "    .dataframe thead th {\n",
              "        text-align: right;\n",
              "    }\n",
              "</style>\n",
              "<table border=\"1\" class=\"dataframe\">\n",
              "  <thead>\n",
              "    <tr style=\"text-align: right;\">\n",
              "      <th></th>\n",
              "      <th>Unnamed: 0</th>\n",
              "      <th>Id</th>\n",
              "      <th>Title</th>\n",
              "      <th>Body</th>\n",
              "      <th>Basic_Cleaned</th>\n",
              "    </tr>\n",
              "  </thead>\n",
              "  <tbody>\n",
              "    <tr>\n",
              "      <th>3595496</th>\n",
              "      <td>1220704</td>\n",
              "      <td>7254900</td>\n",
              "      <td>Identify un-activated servers</td>\n",
              "      <td>&lt;p&gt;I've been on a bit of a roll this week and ...</td>\n",
              "      <td>I've been on a bit of a roll this week and hav...</td>\n",
              "    </tr>\n",
              "    <tr>\n",
              "      <th>1929804</th>\n",
              "      <td>4905250</td>\n",
              "      <td>4905251</td>\n",
              "      <td>How to abort the loading of an external HTML r...</td>\n",
              "      <td>&lt;p&gt;I'm writing a JavaScript widget, which is i...</td>\n",
              "      <td>I'm writing a JavaScript widget, which is inte...</td>\n",
              "    </tr>\n",
              "    <tr>\n",
              "      <th>2513704</th>\n",
              "      <td>138912</td>\n",
              "      <td>6173108</td>\n",
              "      <td>Xcode: how do you make it to where clicking on...</td>\n",
              "      <td>&lt;p&gt;I know how to make a button in Xcode with I...</td>\n",
              "      <td>I know how to make a button in Xcode with Inte...</td>\n",
              "    </tr>\n",
              "    <tr>\n",
              "      <th>3794169</th>\n",
              "      <td>1419377</td>\n",
              "      <td>7453573</td>\n",
              "      <td>Common WQL Monitoring Queries</td>\n",
              "      <td>&lt;p&gt;What WQL queries would you use for monitori...</td>\n",
              "      <td>What WQL queries would you use for monitoring ...</td>\n",
              "    </tr>\n",
              "    <tr>\n",
              "      <th>4341677</th>\n",
              "      <td>1966885</td>\n",
              "      <td>8001081</td>\n",
              "      <td>Loading Native Managed and C++ DLL within IIS ...</td>\n",
              "      <td>&lt;p&gt;I have WCF service developed in C# for with...</td>\n",
              "      <td>I have WCF service developed in C# for with .N...</td>\n",
              "    </tr>\n",
              "  </tbody>\n",
              "</table>\n",
              "</div>\n",
              "      <button class=\"colab-df-convert\" onclick=\"convertToInteractive('df-7726c450-7a13-46c4-a9fd-cb0b02389d33')\"\n",
              "              title=\"Convert this dataframe to an interactive table.\"\n",
              "              style=\"display:none;\">\n",
              "        \n",
              "  <svg xmlns=\"http://www.w3.org/2000/svg\" height=\"24px\"viewBox=\"0 0 24 24\"\n",
              "       width=\"24px\">\n",
              "    <path d=\"M0 0h24v24H0V0z\" fill=\"none\"/>\n",
              "    <path d=\"M18.56 5.44l.94 2.06.94-2.06 2.06-.94-2.06-.94-.94-2.06-.94 2.06-2.06.94zm-11 1L8.5 8.5l.94-2.06 2.06-.94-2.06-.94L8.5 2.5l-.94 2.06-2.06.94zm10 10l.94 2.06.94-2.06 2.06-.94-2.06-.94-.94-2.06-.94 2.06-2.06.94z\"/><path d=\"M17.41 7.96l-1.37-1.37c-.4-.4-.92-.59-1.43-.59-.52 0-1.04.2-1.43.59L10.3 9.45l-7.72 7.72c-.78.78-.78 2.05 0 2.83L4 21.41c.39.39.9.59 1.41.59.51 0 1.02-.2 1.41-.59l7.78-7.78 2.81-2.81c.8-.78.8-2.07 0-2.86zM5.41 20L4 18.59l7.72-7.72 1.47 1.35L5.41 20z\"/>\n",
              "  </svg>\n",
              "      </button>\n",
              "      \n",
              "  <style>\n",
              "    .colab-df-container {\n",
              "      display:flex;\n",
              "      flex-wrap:wrap;\n",
              "      gap: 12px;\n",
              "    }\n",
              "\n",
              "    .colab-df-convert {\n",
              "      background-color: #E8F0FE;\n",
              "      border: none;\n",
              "      border-radius: 50%;\n",
              "      cursor: pointer;\n",
              "      display: none;\n",
              "      fill: #1967D2;\n",
              "      height: 32px;\n",
              "      padding: 0 0 0 0;\n",
              "      width: 32px;\n",
              "    }\n",
              "\n",
              "    .colab-df-convert:hover {\n",
              "      background-color: #E2EBFA;\n",
              "      box-shadow: 0px 1px 2px rgba(60, 64, 67, 0.3), 0px 1px 3px 1px rgba(60, 64, 67, 0.15);\n",
              "      fill: #174EA6;\n",
              "    }\n",
              "\n",
              "    [theme=dark] .colab-df-convert {\n",
              "      background-color: #3B4455;\n",
              "      fill: #D2E3FC;\n",
              "    }\n",
              "\n",
              "    [theme=dark] .colab-df-convert:hover {\n",
              "      background-color: #434B5C;\n",
              "      box-shadow: 0px 1px 3px 1px rgba(0, 0, 0, 0.15);\n",
              "      filter: drop-shadow(0px 1px 2px rgba(0, 0, 0, 0.3));\n",
              "      fill: #FFFFFF;\n",
              "    }\n",
              "  </style>\n",
              "\n",
              "      <script>\n",
              "        const buttonEl =\n",
              "          document.querySelector('#df-7726c450-7a13-46c4-a9fd-cb0b02389d33 button.colab-df-convert');\n",
              "        buttonEl.style.display =\n",
              "          google.colab.kernel.accessAllowed ? 'block' : 'none';\n",
              "\n",
              "        async function convertToInteractive(key) {\n",
              "          const element = document.querySelector('#df-7726c450-7a13-46c4-a9fd-cb0b02389d33');\n",
              "          const dataTable =\n",
              "            await google.colab.kernel.invokeFunction('convertToInteractive',\n",
              "                                                     [key], {});\n",
              "          if (!dataTable) return;\n",
              "\n",
              "          const docLinkHtml = 'Like what you see? Visit the ' +\n",
              "            '<a target=\"_blank\" href=https://colab.research.google.com/notebooks/data_table.ipynb>data table notebook</a>'\n",
              "            + ' to learn more about interactive tables.';\n",
              "          element.innerHTML = '';\n",
              "          dataTable['output_type'] = 'display_data';\n",
              "          await google.colab.output.renderOutput(dataTable, element);\n",
              "          const docLink = document.createElement('div');\n",
              "          docLink.innerHTML = docLinkHtml;\n",
              "          element.appendChild(docLink);\n",
              "        }\n",
              "      </script>\n",
              "    </div>\n",
              "  </div>\n",
              "  "
            ]
          },
          "metadata": {},
          "execution_count": 13
        }
      ]
    },
    {
      "cell_type": "code",
      "source": [
        "df['Basic_Cleaned'] = df['Basic_Cleaned'].swifter.apply(lambda x: x.lower())"
      ],
      "metadata": {
        "colab": {
          "base_uri": "https://localhost:8080/",
          "height": 49,
          "referenced_widgets": [
            "0e62c014831749218a449feab3307d06",
            "adfde7604af74038b2debce8425a5d4a",
            "7cadca13acc7411a8488e0bd0546df0e",
            "a4d4614a2813487ebcb563bfbf92a989",
            "bdbaa04131bf408799b24934980dd3da",
            "2150636b5da341ce911dbb2dee85afb6",
            "1991653e636749b09e0d38293b3a0622",
            "22ac54425f454f4b901aef0119d2c305",
            "d1f0dc9071ec4cc1a9e2c7905eb12517",
            "5bbc39ddebde407ca5a9885427b01bcc",
            "6a144c104d7e44b392e0e1de1c1c78da"
          ]
        },
        "id": "oFnTI281iOqA",
        "outputId": "f19f93ae-110d-4263-86f6-7ca394067224"
      },
      "execution_count": null,
      "outputs": [
        {
          "output_type": "display_data",
          "data": {
            "text/plain": [
              "Pandas Apply:   0%|          | 0/438813 [00:00<?, ?it/s]"
            ],
            "application/vnd.jupyter.widget-view+json": {
              "version_major": 2,
              "version_minor": 0,
              "model_id": "0e62c014831749218a449feab3307d06"
            }
          },
          "metadata": {}
        }
      ]
    },
    {
      "cell_type": "code",
      "source": [
        "df['Basic_Cleaned'] = df['Basic_Cleaned'].swifter.apply(lambda x: re.sub(re.compile(r\"https?[A-Za-z0-9:/._\\-]+\"), \"\" , x))"
      ],
      "metadata": {
        "colab": {
          "base_uri": "https://localhost:8080/",
          "height": 49,
          "referenced_widgets": [
            "78884033ad4e49d0ba83779f4fdb7e74",
            "4c981599ed604c58bbefb3c01148d0ca",
            "598705c4968449939af4eb34d4a32eea",
            "fa04ddc19bcb4a78ad047f69661a81de",
            "cfca4c7e7c404dc1b842f8664fbd4722",
            "a98e645c6ede407d8947ffab64c4bfdf",
            "37dc390d40c04cd99328d13dff66a9b7",
            "1006c154b38b48bd9c749625f0c856c1",
            "bb41a5dce010465488abe3ff0fe77a4e",
            "38052e29e2db468f8d4af863e60e08a5",
            "fee1129ec957461e89d2dfcd7072a803"
          ]
        },
        "id": "CQ4fbKwVjNjr",
        "outputId": "3918072f-fe1c-4fcb-c609-122d96844f64"
      },
      "execution_count": null,
      "outputs": [
        {
          "output_type": "display_data",
          "data": {
            "text/plain": [
              "Pandas Apply:   0%|          | 0/438813 [00:00<?, ?it/s]"
            ],
            "application/vnd.jupyter.widget-view+json": {
              "version_major": 2,
              "version_minor": 0,
              "model_id": "78884033ad4e49d0ba83779f4fdb7e74"
            }
          },
          "metadata": {}
        }
      ]
    },
    {
      "cell_type": "code",
      "source": [
        "import string\n",
        "df['Basic_Cleaned'] = df['Basic_Cleaned'].swifter.apply(lambda x: x.translate(str.maketrans('', '', string.punctuation)))"
      ],
      "metadata": {
        "colab": {
          "base_uri": "https://localhost:8080/",
          "height": 49,
          "referenced_widgets": [
            "d35e118f44b54a9ba8c3e94745dacc2a",
            "07638ee4b5e4427fb7623f71b6afe5e7",
            "e6c187a9259844ae876d51c3bdf9cc55",
            "b038de8e08c048d4b627d9d7b2f50889",
            "735a496f7db64905baa82ae28d912507",
            "100d2874b7724feba0bee35fc4724f50",
            "a8d789f415e94bf7aaa7e08356f82d0d",
            "5ca330af0dbb4e54a675b25667e7bb9c",
            "b0243eedbdde463ebf39c910a740d3cb",
            "e7ec6d460ca14685bf8a0c0c77c3648f",
            "3699830770af4d1c9f1440fac9014aad"
          ]
        },
        "id": "K-734mBqjUZF",
        "outputId": "0cd35dcf-f308-4385-fbfa-4cb2cebbf29a"
      },
      "execution_count": null,
      "outputs": [
        {
          "output_type": "display_data",
          "data": {
            "text/plain": [
              "Pandas Apply:   0%|          | 0/438813 [00:00<?, ?it/s]"
            ],
            "application/vnd.jupyter.widget-view+json": {
              "version_major": 2,
              "version_minor": 0,
              "model_id": "d35e118f44b54a9ba8c3e94745dacc2a"
            }
          },
          "metadata": {}
        }
      ]
    },
    {
      "cell_type": "code",
      "source": [
        "df['Text'] = df['Title'] + ' ' + df['Basic_Cleaned']\n",
        "df_final = df[['Text']]\n",
        "df_final.head()"
      ],
      "metadata": {
        "colab": {
          "base_uri": "https://localhost:8080/",
          "height": 206
        },
        "outputId": "f27dcf8c-3489-41ae-8e73-92e1c53c2ec2",
        "id": "N1QcEd1dM2y2"
      },
      "execution_count": null,
      "outputs": [
        {
          "output_type": "execute_result",
          "data": {
            "text/plain": [
              "                                                      Text\n",
              "3595496  Identify un-activated servers ive been on a bi...\n",
              "1929804  How to abort the loading of an external HTML r...\n",
              "2513704  Xcode: how do you make it to where clicking on...\n",
              "3794169  Common WQL Monitoring Queries what wql queries...\n",
              "4341677  Loading Native Managed and C++ DLL within IIS ..."
            ],
            "text/html": [
              "\n",
              "  <div id=\"df-87d2806c-493e-4d0c-a8d3-9f08cc9274c7\">\n",
              "    <div class=\"colab-df-container\">\n",
              "      <div>\n",
              "<style scoped>\n",
              "    .dataframe tbody tr th:only-of-type {\n",
              "        vertical-align: middle;\n",
              "    }\n",
              "\n",
              "    .dataframe tbody tr th {\n",
              "        vertical-align: top;\n",
              "    }\n",
              "\n",
              "    .dataframe thead th {\n",
              "        text-align: right;\n",
              "    }\n",
              "</style>\n",
              "<table border=\"1\" class=\"dataframe\">\n",
              "  <thead>\n",
              "    <tr style=\"text-align: right;\">\n",
              "      <th></th>\n",
              "      <th>Text</th>\n",
              "    </tr>\n",
              "  </thead>\n",
              "  <tbody>\n",
              "    <tr>\n",
              "      <th>3595496</th>\n",
              "      <td>Identify un-activated servers ive been on a bi...</td>\n",
              "    </tr>\n",
              "    <tr>\n",
              "      <th>1929804</th>\n",
              "      <td>How to abort the loading of an external HTML r...</td>\n",
              "    </tr>\n",
              "    <tr>\n",
              "      <th>2513704</th>\n",
              "      <td>Xcode: how do you make it to where clicking on...</td>\n",
              "    </tr>\n",
              "    <tr>\n",
              "      <th>3794169</th>\n",
              "      <td>Common WQL Monitoring Queries what wql queries...</td>\n",
              "    </tr>\n",
              "    <tr>\n",
              "      <th>4341677</th>\n",
              "      <td>Loading Native Managed and C++ DLL within IIS ...</td>\n",
              "    </tr>\n",
              "  </tbody>\n",
              "</table>\n",
              "</div>\n",
              "      <button class=\"colab-df-convert\" onclick=\"convertToInteractive('df-87d2806c-493e-4d0c-a8d3-9f08cc9274c7')\"\n",
              "              title=\"Convert this dataframe to an interactive table.\"\n",
              "              style=\"display:none;\">\n",
              "        \n",
              "  <svg xmlns=\"http://www.w3.org/2000/svg\" height=\"24px\"viewBox=\"0 0 24 24\"\n",
              "       width=\"24px\">\n",
              "    <path d=\"M0 0h24v24H0V0z\" fill=\"none\"/>\n",
              "    <path d=\"M18.56 5.44l.94 2.06.94-2.06 2.06-.94-2.06-.94-.94-2.06-.94 2.06-2.06.94zm-11 1L8.5 8.5l.94-2.06 2.06-.94-2.06-.94L8.5 2.5l-.94 2.06-2.06.94zm10 10l.94 2.06.94-2.06 2.06-.94-2.06-.94-.94-2.06-.94 2.06-2.06.94z\"/><path d=\"M17.41 7.96l-1.37-1.37c-.4-.4-.92-.59-1.43-.59-.52 0-1.04.2-1.43.59L10.3 9.45l-7.72 7.72c-.78.78-.78 2.05 0 2.83L4 21.41c.39.39.9.59 1.41.59.51 0 1.02-.2 1.41-.59l7.78-7.78 2.81-2.81c.8-.78.8-2.07 0-2.86zM5.41 20L4 18.59l7.72-7.72 1.47 1.35L5.41 20z\"/>\n",
              "  </svg>\n",
              "      </button>\n",
              "      \n",
              "  <style>\n",
              "    .colab-df-container {\n",
              "      display:flex;\n",
              "      flex-wrap:wrap;\n",
              "      gap: 12px;\n",
              "    }\n",
              "\n",
              "    .colab-df-convert {\n",
              "      background-color: #E8F0FE;\n",
              "      border: none;\n",
              "      border-radius: 50%;\n",
              "      cursor: pointer;\n",
              "      display: none;\n",
              "      fill: #1967D2;\n",
              "      height: 32px;\n",
              "      padding: 0 0 0 0;\n",
              "      width: 32px;\n",
              "    }\n",
              "\n",
              "    .colab-df-convert:hover {\n",
              "      background-color: #E2EBFA;\n",
              "      box-shadow: 0px 1px 2px rgba(60, 64, 67, 0.3), 0px 1px 3px 1px rgba(60, 64, 67, 0.15);\n",
              "      fill: #174EA6;\n",
              "    }\n",
              "\n",
              "    [theme=dark] .colab-df-convert {\n",
              "      background-color: #3B4455;\n",
              "      fill: #D2E3FC;\n",
              "    }\n",
              "\n",
              "    [theme=dark] .colab-df-convert:hover {\n",
              "      background-color: #434B5C;\n",
              "      box-shadow: 0px 1px 3px 1px rgba(0, 0, 0, 0.15);\n",
              "      filter: drop-shadow(0px 1px 2px rgba(0, 0, 0, 0.3));\n",
              "      fill: #FFFFFF;\n",
              "    }\n",
              "  </style>\n",
              "\n",
              "      <script>\n",
              "        const buttonEl =\n",
              "          document.querySelector('#df-87d2806c-493e-4d0c-a8d3-9f08cc9274c7 button.colab-df-convert');\n",
              "        buttonEl.style.display =\n",
              "          google.colab.kernel.accessAllowed ? 'block' : 'none';\n",
              "\n",
              "        async function convertToInteractive(key) {\n",
              "          const element = document.querySelector('#df-87d2806c-493e-4d0c-a8d3-9f08cc9274c7');\n",
              "          const dataTable =\n",
              "            await google.colab.kernel.invokeFunction('convertToInteractive',\n",
              "                                                     [key], {});\n",
              "          if (!dataTable) return;\n",
              "\n",
              "          const docLinkHtml = 'Like what you see? Visit the ' +\n",
              "            '<a target=\"_blank\" href=https://colab.research.google.com/notebooks/data_table.ipynb>data table notebook</a>'\n",
              "            + ' to learn more about interactive tables.';\n",
              "          element.innerHTML = '';\n",
              "          dataTable['output_type'] = 'display_data';\n",
              "          await google.colab.output.renderOutput(dataTable, element);\n",
              "          const docLink = document.createElement('div');\n",
              "          docLink.innerHTML = docLinkHtml;\n",
              "          element.appendChild(docLink);\n",
              "        }\n",
              "      </script>\n",
              "    </div>\n",
              "  </div>\n",
              "  "
            ]
          },
          "metadata": {},
          "execution_count": 24
        }
      ]
    },
    {
      "cell_type": "code",
      "source": [
        "joblib.dump(df_final, '/content/drive/MyDrive/ColabNotebooks/NLPClass/datasets/df_final_raw_text.pkl')"
      ],
      "metadata": {
        "colab": {
          "base_uri": "https://localhost:8080/"
        },
        "outputId": "c96b53b8-4491-43df-b5b5-4c25cf22fc2b",
        "id": "fk5VgMwaM2y2"
      },
      "execution_count": null,
      "outputs": [
        {
          "output_type": "execute_result",
          "data": {
            "text/plain": [
              "['/content/drive/MyDrive/ColabNotebooks/NLPClass/datasets/df_final_raw_text.pkl']"
            ]
          },
          "metadata": {},
          "execution_count": 25
        }
      ]
    },
    {
      "cell_type": "code",
      "source": [
        "df_final = joblib.load(data_folder/'df_final_raw_text.pkl')"
      ],
      "metadata": {
        "id": "oFSCohYMo-qJ"
      },
      "execution_count": null,
      "outputs": []
    },
    {
      "cell_type": "code",
      "source": [
        "df_sample = df_final.sample(frac=0.05)"
      ],
      "metadata": {
        "id": "lIqhcpn2wLMz"
      },
      "execution_count": null,
      "outputs": []
    },
    {
      "cell_type": "code",
      "source": [
        "import gensim\n",
        "gensim.__version__"
      ],
      "metadata": {
        "colab": {
          "base_uri": "https://localhost:8080/",
          "height": 35
        },
        "id": "kNDgDjv-Yfi-",
        "outputId": "f934c1b8-68f8-4378-ad09-73e4f8281e16"
      },
      "execution_count": null,
      "outputs": [
        {
          "output_type": "execute_result",
          "data": {
            "text/plain": [
              "'3.6.0'"
            ],
            "application/vnd.google.colaboratory.intrinsic+json": {
              "type": "string"
            }
          },
          "metadata": {},
          "execution_count": 5
        }
      ]
    },
    {
      "cell_type": "code",
      "source": [
        "from gensim.models.fasttext import FastText\n",
        "model_raw_txt = FastText(df_sample.Text, epochs=10, vector_size=150, window=10, min_count=5, workers =8, min_n=3, max_n=6)"
      ],
      "metadata": {
        "id": "0vEucHrRltyE"
      },
      "execution_count": null,
      "outputs": []
    },
    {
      "cell_type": "code",
      "source": [
        "model_raw_txt.wv.save('/content/drive/MyDrive/ColabNotebooks/NLPClass/WordEmbeddings/model_rawtext_subword.bin')"
      ],
      "metadata": {
        "id": "tCcGnIJnzksA"
      },
      "execution_count": null,
      "outputs": []
    },
    {
      "cell_type": "code",
      "source": [
        "from gensim.models import KeyedVectors\n",
        "raw_text_fasttext = KeyedVectors.load('/content/drive/MyDrive/ColabNotebooks/NLPClass/WordEmbeddings/model_rawtext_subword.bin')"
      ],
      "metadata": {
        "id": "hea6oj_U8Tf2"
      },
      "execution_count": null,
      "outputs": []
    },
    {
      "cell_type": "markdown",
      "source": [
        "#<font color = 'pickle'> **Task 4**"
      ],
      "metadata": {
        "id": "zBiHSA2DFP5J"
      }
    },
    {
      "cell_type": "markdown",
      "source": [
        "#<font color = 'pickle'> **Modeling a classifier with pretrained embeddings**"
      ],
      "metadata": {
        "id": "SA6QbKjpV8mJ"
      }
    },
    {
      "cell_type": "code",
      "source": [
        "from google.colab import drive\n",
        "from pathlib import Path\n",
        "import joblib\n",
        "import pandas as pd\n",
        "import numpy as np \n",
        "import sys\n",
        "from bs4 import BeautifulSoup\n",
        "import re\n",
        "from sklearn.preprocessing import MultiLabelBinarizer\n",
        "import torch\n",
        "from torch.utils.data import Dataset, DataLoader\n",
        "%matplotlib inline\n",
        "import re\n",
        "import matplotlib.pyplot as plt\n",
        "from sklearn.model_selection import train_test_split\n",
        "from sklearn.feature_extraction.text import TfidfVectorizer\n",
        "from sklearn.metrics import classification_report\n",
        "from sklearn.metrics import confusion_matrix\n",
        "from sklearn.model_selection import train_test_split\n",
        "from sklearn.pipeline import Pipeline\n",
        "from sklearn.model_selection import GridSearchCV\n",
        "from sklearn.multioutput import MultiOutputClassifier\n",
        "from sklearn.neighbors import KNeighborsClassifier\n",
        "from sklearn.model_selection import learning_curve\n",
        "from sklearn.metrics import plot_confusion_matrix \n",
        "import joblib\n",
        "\n",
        "drive.mount('/content/drive')\n",
        "sys.path.append('/content/drive/MyDrive/ColabNotebooks/NLPClass/custom-functions')\n",
        "import custom_preprocessor as cp\n",
        "\n",
        "base_folder = Path('/content/drive/MyDrive/ColabNotebooks/NLPClass/')\n",
        "data_folder = base_folder/'datasets'\n",
        "custom_functions = base_folder/'custom-functions'"
      ],
      "metadata": {
        "id": "NxzvatvJV8mK",
        "colab": {
          "base_uri": "https://localhost:8080/"
        },
        "outputId": "34352f18-9a82-44e5-f43f-39dc675a4e0a"
      },
      "execution_count": null,
      "outputs": [
        {
          "output_type": "stream",
          "name": "stdout",
          "text": [
            "Drive already mounted at /content/drive; to attempt to forcibly remount, call drive.mount(\"/content/drive\", force_remount=True).\n"
          ]
        }
      ]
    },
    {
      "cell_type": "code",
      "source": [
        "from sklearn.base import BaseEstimator, TransformerMixin\n",
        "from collections import Counter\n",
        "import numpy as np\n",
        "\n",
        "class GensimVectorizer(BaseEstimator,TransformerMixin):\n",
        "  np.random.seed(0)\n",
        "  def __init__(self,pretrained_vectors,unk_norm_init=False):\n",
        "    # load in pre-trained word vectors\n",
        "    self.pretrained_vectors= pretrained_vectors\n",
        "    self.vec_size= self.pretrained_vectors.vector_size\n",
        "    self.unk_norm_init = unk_norm_init\n",
        "    self.pretrained_vectors_subset = {}\n",
        "    self.words_not_in_pretrained = []\n",
        "    self.count_missing = 0\n",
        "    self.percent_missing = 0\n",
        "\n",
        "\n",
        "  def fit(self, X,y=None):\n",
        "    '''\n",
        "    Gets the subset of pretrained vectors which are present in vocab\n",
        "    X :  training sentences\n",
        "    '''\n",
        "    counter = Counter()\n",
        "\n",
        "    for sent in X:\n",
        "        counter.update(sent.split())\n",
        "    for token in counter:\n",
        "        try:\n",
        "            self.pretrained_vectors_subset[token] = self.pretrained_vectors.get_vector(token, norm=True)\n",
        "        except:\n",
        "            self.words_not_in_pretrained.append(token)\n",
        "    \n",
        "    ### save so that you can access this after you fit the vectorizer\n",
        "    self.count_missing = len(self.words_not_in_pretrained )\n",
        "    self.percent_missing = self.count_missing / len(counter)\n",
        "    return self\n",
        "    \n",
        "  def transform(self,X,y=None):\n",
        "    X_vector = np.zeros((len(X), self.vec_size))\n",
        "    \n",
        "    for i, sent in enumerate(X):\n",
        "        sent_vector = np.zeros(self.vec_size)\n",
        "        n=0\n",
        "        tokens = sent.split()\n",
        "        for word in tokens:\n",
        "            if word in self.pretrained_vectors_subset.keys():\n",
        "                word_vector=self.pretrained_vectors_subset[word]\n",
        "                sent_vector+= word_vector\n",
        "                n+= 1\n",
        "            else:\n",
        "                if self.unk_norm_init :\n",
        "                    word_vector = np.random.normal(size=  self.vec_size)\n",
        "                    sent_vector+= word_vector\n",
        "                    n+= 1\n",
        "        if n>0:\n",
        "            X_vector[i] = sent_vector/n\n",
        "    return X_vector"
      ],
      "metadata": {
        "id": "h1xZuEzOO14H"
      },
      "execution_count": null,
      "outputs": []
    },
    {
      "cell_type": "code",
      "source": [
        "df_final = joblib.load(data_folder/'df_final.pkl')\n",
        "search=re.compile(r\"\\d\")\n",
        "df_final[\"Tags\"] = df_final[\"Tag_Number\"].apply(lambda x: re.findall(search,x))\n",
        "X = df_final['Text']\n",
        "mlb = MultiLabelBinarizer()\n",
        "y = mlb.fit_transform(df_final['Tags'])\n",
        "y"
      ],
      "metadata": {
        "id": "Ys5OP7y3R6wE",
        "colab": {
          "base_uri": "https://localhost:8080/"
        },
        "outputId": "7ff5beb7-215d-4d68-fb5c-f0b2db1dab2f"
      },
      "execution_count": null,
      "outputs": [
        {
          "output_type": "execute_result",
          "data": {
            "text/plain": [
              "array([[1, 0, 0, ..., 0, 0, 1],\n",
              "       [0, 1, 0, ..., 0, 0, 0],\n",
              "       [1, 0, 0, ..., 0, 0, 1],\n",
              "       ...,\n",
              "       [0, 1, 0, ..., 0, 0, 0],\n",
              "       [0, 0, 0, ..., 0, 0, 1],\n",
              "       [0, 0, 0, ..., 0, 0, 0]])"
            ]
          },
          "metadata": {},
          "execution_count": 12
        }
      ]
    },
    {
      "cell_type": "code",
      "source": [
        "from sklearn.model_selection import train_test_split\n",
        "X_train, X_test, y_train, y_test = train_test_split(X, y, test_size=0.3, random_state=42)"
      ],
      "metadata": {
        "id": "sSPNq0fzTVCE"
      },
      "execution_count": null,
      "outputs": []
    },
    {
      "cell_type": "code",
      "source": [
        "from gensim.models.fasttext import FastText\n",
        "from gensim.models import KeyedVectors\n",
        "pretrained_vectors = KeyedVectors.load('/content/drive/MyDrive/ColabNotebooks/NLPClass/WordEmbeddings/model_rawtext_subword.bin')"
      ],
      "metadata": {
        "id": "TD0tARz4RO3l"
      },
      "execution_count": null,
      "outputs": []
    },
    {
      "cell_type": "code",
      "source": [
        "len(X_train)"
      ],
      "metadata": {
        "colab": {
          "base_uri": "https://localhost:8080/"
        },
        "id": "A_dyqpHzTi0o",
        "outputId": "1babd950-e523-450e-d3b7-2aeb2450ef64"
      },
      "execution_count": null,
      "outputs": [
        {
          "output_type": "execute_result",
          "data": {
            "text/plain": [
              "33198"
            ]
          },
          "metadata": {},
          "execution_count": 15
        }
      ]
    },
    {
      "cell_type": "code",
      "source": [
        "import random\n",
        "pipeline = Pipeline([\n",
        "                ('vectorizer',GensimVectorizer(pretrained_vectors)),\n",
        "                ('clf',  MultiOutputClassifier(KNeighborsClassifier())),\n",
        "            ])\n",
        "\n",
        "\n",
        "# now we create the grid with all the parameters that we would like to test\n",
        "\n",
        "param_grid_1 = {\n",
        "    'classifier__estimator__n_neighbors': [1, 2, 3],\n",
        "}\n",
        "\n",
        "# now we set up the grid search with cross-validation\n",
        "\n",
        "grid_classifier_1 = GridSearchCV(pipeline, param_grid_1,\n",
        "                           cv=10, return_train_score= True, n_jobs=-1 )\n",
        "\n",
        "# not enough ram, so subsetting \n",
        "X_train_sub = X_train.head(3000)\n",
        "y_train_sub = y_train[0:3000]"
      ],
      "metadata": {
        "id": "FzoapYQoZH7d"
      },
      "execution_count": null,
      "outputs": []
    },
    {
      "cell_type": "code",
      "source": [
        "grid_classifier_1.fit(X_train_sub,y_train_sub)\n",
        "\n",
        "print(grid_classifier_1.best_params_)\n",
        "\n",
        "# train scores\n",
        "print(grid_classifier_1.score(X_train, y_train))\n",
        "\n",
        "# cross validation score\n",
        "print(grid_classifier_1.best_score_)"
      ],
      "metadata": {
        "colab": {
          "base_uri": "https://localhost:8080/"
        },
        "id": "2Kt_ThMPbRF3",
        "outputId": "147f85fc-1557-4329-9509-7cd87073b838"
      },
      "execution_count": null,
      "outputs": [
        {
          "output_type": "stream",
          "name": "stdout",
          "text": [
            "{'classifier__estimator__n_neighbors': 3}\n",
            "0.64739543058\n",
            "0.50146234247\n"
          ]
        }
      ]
    },
    {
      "cell_type": "code",
      "source": [
        "from sklearn.metrics import f1_score\n",
        "\n",
        "pred_test = grid_classifier_1.predict(X_test)\n",
        "f1_score_test = f1_score(y_test, pred_test, average = 'micro')\n",
        "\n",
        "print('f1_score_test', f1_score_test)"
      ],
      "metadata": {
        "id": "Vi8mA_8SRvnc",
        "colab": {
          "base_uri": "https://localhost:8080/"
        },
        "outputId": "c8f5dd18-ee52-48e3-c1de-32b3796c9096"
      },
      "execution_count": null,
      "outputs": [
        {
          "output_type": "stream",
          "name": "stdout",
          "text": [
            "f1_score_test 0.6435597126598074\n"
          ]
        }
      ]
    },
    {
      "cell_type": "markdown",
      "source": [
        "#<font color = 'pickle'> **Task 5**"
      ],
      "metadata": {
        "id": "SSlZ6JilIevG"
      }
    },
    {
      "cell_type": "markdown",
      "source": [
        "#<font color = 'pickle'> **Load pretrained embeddings**"
      ],
      "metadata": {
        "id": "dvzPNDIBdzd7"
      }
    },
    {
      "cell_type": "code",
      "source": [
        "pretrained_vectors = KeyedVectors.load('/content/drive/MyDrive/ColabNotebooks/NLPClass/WordEmbeddings/model_stackexchange_cbow.bin')"
      ],
      "metadata": {
        "id": "XBGuUzfxhyrZ"
      },
      "execution_count": null,
      "outputs": []
    },
    {
      "cell_type": "code",
      "source": [
        "embedding_dim = 300\n",
        "pretrained_weights = np.zeros((len(my_vocab), embedding_dim))\n",
        "words_found = 0\n",
        "words_not_found = 0\n",
        "\n",
        "for i, word in enumerate(my_vocab.get_itos()):\n",
        "    try: \n",
        "        pretrained_weights[i] = pretrained_vectors.get_vector(word, norm=True)\n",
        "        words_found += 1\n",
        "    except KeyError:\n",
        "        words_not_found  += 1\n",
        "        pretrained_weights[i] = np.random.normal(size=(embedding_dim, ))"
      ],
      "metadata": {
        "id": "ar_LBHSdkHGb"
      },
      "execution_count": null,
      "outputs": []
    },
    {
      "cell_type": "code",
      "source": [
        "words_found"
      ],
      "metadata": {
        "colab": {
          "base_uri": "https://localhost:8080/"
        },
        "id": "W7UVrqnMmWL2",
        "outputId": "33dfbab8-6507-43f7-962e-057b4d70c724"
      },
      "execution_count": null,
      "outputs": [
        {
          "output_type": "stream",
          "name": "stdout",
          "text": [
            "11236\n"
          ]
        }
      ]
    },
    {
      "cell_type": "code",
      "source": [
        "words_not_found"
      ],
      "metadata": {
        "colab": {
          "base_uri": "https://localhost:8080/"
        },
        "id": "tlBBpyL1mmiO",
        "outputId": "6d663922-b879-4a9a-8e7c-08422312f926"
      },
      "execution_count": null,
      "outputs": [
        {
          "output_type": "stream",
          "name": "stdout",
          "text": [
            "97165\n"
          ]
        }
      ]
    },
    {
      "cell_type": "markdown",
      "source": [
        "#<font color = 'pickle'> **Metadata**"
      ],
      "metadata": {
        "id": "V3pcPNAAm7w1"
      }
    },
    {
      "cell_type": "code",
      "source": [
        "from types import SimpleNamespace\n",
        "import torch.nn.functional as F\n",
        "\n",
        "hyperparameters = SimpleNamespace(\n",
        "    EMBED_DIM = 400,\n",
        "    VOCAB_SIZE = len(my_vocab),\n",
        "    OUTPUT_DIM = 10,\n",
        "    HIDDEN_DIM1 = 200,\n",
        "    HIDDEN_DIM2 = 100,\n",
        "    NON_LINEARITY= F.relu,\n",
        "    EPOCHS = 40,\n",
        "    \n",
        "    BATCH_SIZE = 256,\n",
        "    LEARNING_RATE = 0.01,\n",
        "    DATASET=\"Multilabel\",\n",
        "    ARCHITECTUREe=\"HW6B_embedbag_2hiddenlayers\",\n",
        "    LOG_INTERVAL = 25,\n",
        "    LOG_BATCH = True,\n",
        "    FILE_MODEL = data_folder/'HW6B.pt',\n",
        "    GRAD_CLIPPING = False,\n",
        "    MAX_NORM = 0,\n",
        "    MOMENTUM = 0,\n",
        "    PATIENCE = 5,\n",
        "    EARLY_STOPPING = True,\n",
        "    # SCHEDULER_FACTOR = 0,\n",
        "    # SCHEDULER_PATIENCE = 0,\n",
        "    WEIGHT_DECAY = 0\n",
        "    )"
      ],
      "metadata": {
        "id": "kNP04t5JnF2n"
      },
      "execution_count": null,
      "outputs": []
    },
    {
      "cell_type": "code",
      "source": [
        "wandb.init(name = 'Task5', project = 'HW6', config = hyperparameters)"
      ],
      "metadata": {
        "colab": {
          "base_uri": "https://localhost:8080/",
          "height": 142
        },
        "id": "Yd5ax_aDnPfe",
        "outputId": "96e94385-c321-4f62-bd0e-60960f5587c6"
      },
      "execution_count": null,
      "outputs": [
        {
          "output_type": "stream",
          "name": "stderr",
          "text": [
            "ERROR:wandb.jupyter:Failed to detect the name of this notebook, you can set it manually with the WANDB_NOTEBOOK_NAME environment variable to enable code saving.\n"
          ]
        },
        {
          "output_type": "display_data",
          "data": {
            "text/plain": [
              "<IPython.core.display.Javascript object>"
            ],
            "application/javascript": [
              "\n",
              "        window._wandbApiKey = new Promise((resolve, reject) => {\n",
              "            function loadScript(url) {\n",
              "            return new Promise(function(resolve, reject) {\n",
              "                let newScript = document.createElement(\"script\");\n",
              "                newScript.onerror = reject;\n",
              "                newScript.onload = resolve;\n",
              "                document.body.appendChild(newScript);\n",
              "                newScript.src = url;\n",
              "            });\n",
              "            }\n",
              "            loadScript(\"https://cdn.jsdelivr.net/npm/postmate/build/postmate.min.js\").then(() => {\n",
              "            const iframe = document.createElement('iframe')\n",
              "            iframe.style.cssText = \"width:0;height:0;border:none\"\n",
              "            document.body.appendChild(iframe)\n",
              "            const handshake = new Postmate({\n",
              "                container: iframe,\n",
              "                url: 'https://wandb.ai/authorize'\n",
              "            });\n",
              "            const timeout = setTimeout(() => reject(\"Couldn't auto authenticate\"), 5000)\n",
              "            handshake.then(function(child) {\n",
              "                child.on('authorize', data => {\n",
              "                    clearTimeout(timeout)\n",
              "                    resolve(data)\n",
              "                });\n",
              "            });\n",
              "            })\n",
              "        });\n",
              "    "
            ]
          },
          "metadata": {}
        },
        {
          "output_type": "stream",
          "name": "stderr",
          "text": [
            "\u001b[34m\u001b[1mwandb\u001b[0m: Appending key for api.wandb.ai to your netrc file: /root/.netrc\n"
          ]
        },
        {
          "output_type": "display_data",
          "data": {
            "text/plain": [
              "<IPython.core.display.HTML object>"
            ],
            "text/html": [
              "Tracking run with wandb version 0.13.5"
            ]
          },
          "metadata": {}
        },
        {
          "output_type": "display_data",
          "data": {
            "text/plain": [
              "<IPython.core.display.HTML object>"
            ],
            "text/html": [
              "Run data is saved locally in <code>/content/wandb/run-20221128_050202-1jllnjjw</code>"
            ]
          },
          "metadata": {}
        },
        {
          "output_type": "display_data",
          "data": {
            "text/plain": [
              "<IPython.core.display.HTML object>"
            ],
            "text/html": [
              "Syncing run <strong><a href=\"https://wandb.ai/nimblefox/HW6/runs/1jllnjjw\" target=\"_blank\">Task5</a></strong> to <a href=\"https://wandb.ai/nimblefox/HW6\" target=\"_blank\">Weights & Biases</a> (<a href=\"https://wandb.me/run\" target=\"_blank\">docs</a>)<br/>"
            ]
          },
          "metadata": {}
        },
        {
          "output_type": "execute_result",
          "data": {
            "text/html": [
              "<button onClick=\"this.nextSibling.style.display='block';this.style.display='none';\">Display W&B run</button><iframe src=\"https://wandb.ai/nimblefox/HW6/runs/1jllnjjw?jupyter=true\" style=\"border:none;width:100%;height:420px;display:none;\"></iframe>"
            ],
            "text/plain": [
              "<wandb.sdk.wandb_run.Run at 0x7f0ed122b450>"
            ]
          },
          "metadata": {},
          "execution_count": 62
        }
      ]
    },
    {
      "cell_type": "markdown",
      "source": [
        "#<font color = 'pickle'> **Data Loader, Loss function, Optimizer**"
      ],
      "metadata": {
        "id": "GbmExFf2ndFY"
      }
    },
    {
      "cell_type": "code",
      "source": [
        "# Fix seed value\n",
        "SEED = 1234\n",
        "random.seed(SEED)\n",
        "np.random.seed(SEED)\n",
        "torch.manual_seed(SEED)\n",
        "torch.cuda.manual_seed(SEED)\n",
        "torch.backends.cudnn.deterministic = True\n",
        "\n",
        "# Data Loader\n",
        "train_loader = torch.utils.data.DataLoader(train_set, batch_size=wandb.config.BATCH_SIZE, shuffle = True, collate_fn=collate_batch, num_workers = 4)\n",
        "valid_loader = torch.utils.data.DataLoader(valid_set, batch_size=wandb.config.BATCH_SIZE, shuffle = False, collate_fn=collate_batch, num_workers = 4)\n",
        "test_loader = torch.utils.data.DataLoader(test_set, batch_size=wandb.config.BATCH_SIZE, shuffle = False, collate_fn=collate_batch, num_workers = 4)\n",
        "\n",
        "# cross entropy loss function\n",
        "loss_function = nn.BCEWithLogitsLoss()\n",
        "\n",
        "# use GPUs\n",
        "device = torch.device('cuda:0' if torch.cuda.is_available() else 'cpu')\n",
        "wandb.config.DEVICE = device\n",
        "\n",
        "# model \n",
        "model = MLPCustom(wandb.config.EMBED_DIM, \n",
        "                  wandb.config.VOCAB_SIZE,\n",
        "                  wandb.config.HIDDEN_DIM1, \n",
        "                  wandb.config.HIDDEN_DIM2,\n",
        "                  wandb.config.OUTPUT_DIM, \n",
        "                  wandb.config.NON_LINEARITY)\n",
        "\n",
        "model.to(wandb.config.DEVICE)\n",
        "\n",
        "def init_weights(m):\n",
        "  if type(m) == nn.Linear:\n",
        "      torch.nn.init.kaiming_normal_(m.weight)\n",
        "      torch.nn.init.zeros_(m.bias)\n",
        "        \n",
        "# apply initialization recursively  to all modules\n",
        "model.apply(init_weights)\n",
        "\n",
        "# Intialize stochiastic gradient descent optimizer\n",
        "optimizer = torch.optim.Adam(model.parameters(), \n",
        "                             lr = wandb.config.LEARNING_RATE, \n",
        "                             weight_decay=wandb.config.WEIGHT_DECAY)\n",
        "\n",
        "wandb.config.OPTIMIZER = optimizer\n",
        "\n",
        "# scheduler = ReduceLROnPlateau(optimizer, mode='min', factor= wandb.config.scheduler_factor, \n",
        "#                              patience=wandb.config.scheduler_patience, verbose=True)\n",
        "\n",
        "#scheduler = StepLR(optimizer, gamma=0.4,step_size=1, verbose=True)"
      ],
      "metadata": {
        "id": "Kukg658WncHZ"
      },
      "execution_count": null,
      "outputs": []
    },
    {
      "cell_type": "code",
      "source": [
        "for input_, targets, offsets in train_loader:\n",
        "  \n",
        "  # move inputs and outputs to GPUs\n",
        "  input_ = input_.to(device)\n",
        "  targets = targets.to(device)\n",
        "  offsets = offsets.to(device)\n",
        "  model.eval()\n",
        "  # Forward pass\n",
        "  output = model(input_, offsets)\n",
        "  loss = loss_function(output, targets.float())\n",
        "  print(f'Actual loss: {loss}')\n",
        "  break\n",
        "\n",
        "print(f'Expected Theoretical loss: {np.log(10)}')"
      ],
      "metadata": {
        "colab": {
          "base_uri": "https://localhost:8080/"
        },
        "id": "qEsjIGrIoaxv",
        "outputId": "cd49101a-2138-40c6-af0e-c5fc5f36fe25"
      },
      "execution_count": null,
      "outputs": [
        {
          "output_type": "stream",
          "name": "stdout",
          "text": [
            "Actual loss: 0.6966218948364258\n",
            "Expected Theoretical loss: 1.602485391974842\n"
          ]
        }
      ]
    },
    {
      "cell_type": "markdown",
      "source": [
        "#<font color = 'pickle'> **Training**"
      ],
      "metadata": {
        "id": "fOy9NbMwpWMV"
      }
    },
    {
      "cell_type": "code",
      "execution_count": null,
      "metadata": {
        "id": "bGBkRpedI_HE",
        "colab": {
          "base_uri": "https://localhost:8080/"
        },
        "outputId": "d67702d7-a6d3-43ff-a876-1df91e888376"
      },
      "outputs": [
        {
          "output_type": "stream",
          "name": "stdout",
          "text": [
            "Validation loss has decreased (inf --> 0.719485). Saving Model...\n",
            "Epoch : 1 / 40\n",
            "Time to complete 1 is 0:00:13.149641\n",
            "Train Loss:  0.6649\n",
            "Valid Loss:  0.7195\n",
            "\n",
            "Validation loss has decreased (0.719485 --> 0.709835). Saving model...\n",
            "Epoch : 2 / 40\n",
            "Time to complete 2 is 0:00:12.784032\n",
            "Train Loss:  0.5723\n",
            "Valid Loss:  0.7098\n",
            "\n",
            "Early stoping counter: 1 out of 5\n",
            "Epoch : 3 / 40\n",
            "Time to complete 3 is 0:00:11.980263\n",
            "Train Loss:  0.5716\n",
            "Valid Loss:  0.7086\n",
            "\n",
            "Early stoping counter: 2 out of 5\n",
            "Epoch : 4 / 40\n",
            "Time to complete 4 is 0:00:12.192442\n",
            "Train Loss:  0.5662\n",
            "Valid Loss:  0.7040\n",
            "\n",
            "Early stoping counter: 3 out of 5\n",
            "Epoch : 5 / 40\n",
            "Time to complete 5 is 0:00:12.296284\n",
            "Train Loss:  0.5631\n",
            "Valid Loss:  0.7028\n",
            "\n",
            "Early stoping counter: 4 out of 5\n",
            "Epoch : 6 / 40\n",
            "Time to complete 6 is 0:00:15.359949\n",
            "Train Loss:  0.5630\n",
            "Valid Loss:  0.7116\n",
            "\n",
            "Early stoping counter: 5 out of 5\n",
            "Epoch : 7 / 40\n",
            "Time to complete 7 is 0:00:13.410169\n",
            "Train Loss:  0.5593\n",
            "Valid Loss:  0.7048\n",
            "\n",
            "Early stoping counter: 6 out of 5\n",
            "Early Stopping\n",
            "\n"
          ]
        }
      ],
      "source": [
        "# Fix seed value\n",
        "\n",
        "SEED = 1234\n",
        "random.seed(SEED)\n",
        "np.random.seed(SEED)\n",
        "torch.manual_seed(SEED)\n",
        "torch.cuda.manual_seed(SEED)\n",
        "torch.backends.cudnn.deterministic = True\n",
        "\n",
        "example_ct_train, batch_ct_train, example_ct_valid, batch_ct_valid = 0, 0, 0, 0\n",
        "train_loss_history, train_acc_history, valid_loss_history, valid_acc_history = train_loop(train_loader, valid_loader, model, loss_function, optimizer, \n",
        "                                                                                          wandb.config.epochs, wandb.config.device,\n",
        "                                                                                          wandb.config.patience, wandb.config.early_stopping,\n",
        "                                                                                          wandb.config.file_model)"
      ]
    },
    {
      "cell_type": "code",
      "source": [
        "model_nn = MLPCustom(wandb.config.INPUT_DIM, wandb.config.HIDDEN_DIM1, wandb.config.HIDDEN_DIM2, \n",
        "                  wandb.config.OUTPUT_DIM, wandb.config.NON_LINEARITY)\n",
        "model_nn.to(device)\n",
        "model_nn.load_state_dict(torch.load(wandb.config.FILE_MODEL))"
      ],
      "metadata": {
        "colab": {
          "base_uri": "https://localhost:8080/"
        },
        "outputId": "890d4417-13da-4aea-f2db-8a71df62b1a7",
        "id": "kqDfS2HirP2Q"
      },
      "execution_count": null,
      "outputs": [
        {
          "output_type": "execute_result",
          "data": {
            "text/plain": [
              "<All keys matched successfully>"
            ]
          },
          "metadata": {},
          "execution_count": 44
        }
      ]
    },
    {
      "cell_type": "code",
      "source": [
        "def get_pred(data_loader, model,device):\n",
        "    \n",
        "  \"\"\" \n",
        "  Function to get predictions and accuracy for a given data using estimated model\n",
        "  Input: Data iterator, Final estimated weoights, bias\n",
        "  Output: Prections and Accuracy for given dataset\n",
        "  \"\"\"\n",
        "\n",
        "  # Array to store predicted labels\n",
        "  predictions = torch.Tensor() # empty tensor\n",
        "  predictions = predictions.to(device) # move predictions to GPU\n",
        "\n",
        "  # Array to store actual labels\n",
        "  y = torch.Tensor() # empty tensor\n",
        "  y = y.to(device)\n",
        "\n",
        "  # Iterate over batches from data iterator\n",
        "  with torch.no_grad():\n",
        "    for input_, targets in data_loader:\n",
        "      \n",
        "      # move inputs and outputs to GPUs\n",
        "      \n",
        "      input_ = input_.to(device)\n",
        "      targets = targets.to(device)\n",
        "      \n",
        "      # Calculated the predicted labels\n",
        "      output = model(input_)\n",
        "\n",
        "      # Choose the label with maximum probability\n",
        "      prediction = torch.sigmoid(output)\n",
        "      indices=prediction\n",
        "      indices[indices>0.5]=1\n",
        "      indices[indices<0.5]=0\n",
        "\n",
        "      # Add the predicted labels to the array\n",
        "      predictions = torch.cat((predictions, indices)) \n",
        "\n",
        "      # Add the actual labels to the array\n",
        "      y = torch.cat((y, targets))\n",
        "\n",
        "      #print(\"Target: \",targets.size(0))\n",
        "      #print(\"Predicted: \",predicted)\n",
        "      #print(\"Target: \", targets)\n",
        "      #calculate how many images were correctly classified\n",
        "  # Check for complete dataset if actual and predicted labels are same or not\n",
        "  # Calculate accuracy\n",
        "  #acc = (predictions == y).float().mean()\n",
        "\n",
        "  # Return tuple containing predictions and targets\n",
        "  return predictions, y"
      ],
      "metadata": {
        "id": "oJWe0ZpLrUu0"
      },
      "execution_count": null,
      "outputs": []
    },
    {
      "cell_type": "code",
      "source": [
        "pred_train, y_train = get_pred(test_loader, model_nn, device)"
      ],
      "metadata": {
        "id": "Z_GaiL-arYfA"
      },
      "execution_count": null,
      "outputs": []
    },
    {
      "cell_type": "markdown",
      "source": [
        "#<font color = 'pickle'> **F1 score**"
      ],
      "metadata": {
        "id": "DaL-U68erdME"
      }
    },
    {
      "cell_type": "code",
      "source": [
        "from sklearn.metrics import f1_score\n",
        "print(\"Weighted F1 score: {:.2f}\".format(f1_score(y_true= y_train, y_pred= pred_train, average= 'weighted')))"
      ],
      "metadata": {
        "colab": {
          "base_uri": "https://localhost:8080/"
        },
        "outputId": "527acbec-a9a3-4455-e85a-9e5532524a8b",
        "id": "9cPUQQ7ss6qN"
      },
      "execution_count": null,
      "outputs": [
        {
          "output_type": "stream",
          "name": "stdout",
          "text": [
            "Weighted F1 score: 0.32\n"
          ]
        }
      ]
    },
    {
      "cell_type": "markdown",
      "source": [
        "#<font color = 'pickle'> **Task 6**"
      ],
      "metadata": {
        "id": "KeVnayAYtyll"
      }
    },
    {
      "cell_type": "markdown",
      "source": [
        "#<font color = 'pickle'> **Model**"
      ],
      "metadata": {
        "id": "J_RZnqd2vVjd"
      }
    },
    {
      "cell_type": "code",
      "source": [
        "# Define custom model using nn.Module()\n",
        "class MLPCustom_(nn.Module):\n",
        "  def __init__(self, vocab_size, h_sizes_list, dprobs_list, batchnorm_binary, output_dim, non_linearity, pretrained_weights, task):\n",
        "        \n",
        "    super().__init__()\n",
        "\n",
        "    self.h_sizes_list = h_sizes_list \n",
        "    \n",
        "    self.dprobs_list = dprobs_list\n",
        "    self.batchnorm_binary = batchnorm_binary\n",
        "\n",
        "    \n",
        "    self.non_linearity = non_linearity\n",
        "    self.output_dim = output_dim\n",
        "    self.vocab_size = vocab_size\n",
        "    self.pretrained_weights = pretrained_weights\n",
        "    self.task = task\n",
        "\n",
        "    # Initialize hidden layers  \n",
        "\n",
        "    self.hidden = nn.ModuleList()\n",
        "    self.dropout = nn.ModuleList()\n",
        "    self.batchnorm = nn.ModuleList()\n",
        "       \n",
        "    \n",
        "    self.embedding = nn.EmbeddingBag(vocab_size, self.h_sizes_list[0]).from_pretrained(pretrained_weights,\n",
        "                                                                               freeze = False)\n",
        "\n",
        "    for k in range(len(h_sizes_list)-1):\n",
        "      self.hidden.append(nn.Linear(self.h_sizes_list[k], h_sizes_list[k+1]))\n",
        "      self.dropout.append(nn.Dropout(p=dprobs_list[k]))\n",
        "\n",
        "      if self.batchnorm_binary:\n",
        "        self.batchnorm.append(nn.BatchNorm1d(self.h_sizes_list[k+1], momentum=0.9))\n",
        "      \n",
        "    \n",
        "    self.output_layer = nn.Linear(self.h_sizes_list[-1], output_dim)\n",
        "\n",
        "  def forward(self, input, offsets):\n",
        "    x = self.embedding(input, offsets)\n",
        "    for  k in range(len(self.h_sizes_list)-1):\n",
        "      x =  self.non_linearity(self.hidden[k](x))\n",
        "      if self.batchnorm_binary:\n",
        "        x = self.batchnorm[k](x)\n",
        "      x= self.dropout[k](x)\n",
        "\n",
        "    x = self.output_layer(x)\n",
        "\n",
        "    return x  "
      ],
      "metadata": {
        "id": "2_SEXuyqvWDp"
      },
      "execution_count": null,
      "outputs": []
    },
    {
      "cell_type": "markdown",
      "source": [
        "#<font color = 'pickle'> **Meta Data**"
      ],
      "metadata": {
        "id": "vjzwb-S2v2d2"
      }
    },
    {
      "cell_type": "code",
      "source": [
        "hyperparameters = dict(\n",
        "    h_sizes_list = [300] + [200],\n",
        "    dprobs_list = [0] + [0],\n",
        "    batchnorm_binary = False,\n",
        "    task = 6,\n",
        "    vocab_size = len(my_vocab),\n",
        "    output_dim = 10,\n",
        "    epochs = 40,\n",
        "    batch_size = 256,\n",
        "    learning_rate = 0.01,\n",
        "    dataset=\"Stack Overflow\",\n",
        "    architecture=\"MLP\",\n",
        "    log_interval = 25,\n",
        "    log_batch = True,\n",
        "    file_model = data_folder/'Task6.pt',\n",
        "    grad_clipping = True,\n",
        "    max_norm = 1,\n",
        "    momentum = 0,\n",
        "    patience = 5,\n",
        "    early_stopping = True,\n",
        "    scheduler_factor = 0.5,\n",
        "    scheduler_patience = 0,\n",
        "    weight_decay = 0.0005\n",
        "   )\n",
        "\n",
        "device = torch.device('cuda:0' if torch.cuda.is_available() else 'cpu')\n",
        "non_linearity = F.relu\n",
        "pretrained_weights_tensor = torch.tensor(pretrained_weights).float()"
      ],
      "metadata": {
        "id": "VpDeESECv1k4"
      },
      "execution_count": null,
      "outputs": []
    },
    {
      "cell_type": "code",
      "execution_count": null,
      "metadata": {
        "id": "U1ge3RjLJorj",
        "colab": {
          "base_uri": "https://localhost:8080/"
        },
        "outputId": "e9ad0e99-3ea7-437e-a548-dff9ae956894"
      },
      "outputs": [
        {
          "output_type": "execute_result",
          "data": {
            "text/plain": [
              "torch.Size([20808, 300])"
            ]
          },
          "metadata": {},
          "execution_count": 77
        }
      ],
      "source": [
        "pretrained_weights_tensor.shape"
      ]
    },
    {
      "cell_type": "code",
      "source": [
        "wandb.init(name = 'Task6', project = 'HW6', config = hyperparameters)"
      ],
      "metadata": {
        "colab": {
          "base_uri": "https://localhost:8080/",
          "height": 194
        },
        "id": "BEPekCzlwfyp",
        "outputId": "a99f9931-4522-4042-ee80-2f864de117a8"
      },
      "execution_count": null,
      "outputs": [
        {
          "output_type": "display_data",
          "data": {
            "text/plain": [
              "<IPython.core.display.HTML object>"
            ],
            "text/html": [
              "Finishing last run (ID:1jllnjjw) before initializing another..."
            ]
          },
          "metadata": {}
        },
        {
          "output_type": "display_data",
          "data": {
            "text/plain": [
              "<IPython.core.display.HTML object>"
            ],
            "text/html": [
              "Waiting for W&B process to finish... <strong style=\"color:green\">(success).</strong>"
            ]
          },
          "metadata": {}
        },
        {
          "output_type": "display_data",
          "data": {
            "text/plain": [
              "<IPython.core.display.HTML object>"
            ],
            "text/html": [
              "Synced <strong style=\"color:#cdcd00\">Task5</strong>: <a href=\"https://wandb.ai/nimblefox/HW6/runs/1jllnjjw\" target=\"_blank\">https://wandb.ai/nimblefox/HW6/runs/1jllnjjw</a><br/>Synced 5 W&B file(s), 0 media file(s), 0 artifact file(s) and 0 other file(s)"
            ]
          },
          "metadata": {}
        },
        {
          "output_type": "display_data",
          "data": {
            "text/plain": [
              "<IPython.core.display.HTML object>"
            ],
            "text/html": [
              "Find logs at: <code>./wandb/run-20221128_050202-1jllnjjw/logs</code>"
            ]
          },
          "metadata": {}
        },
        {
          "output_type": "display_data",
          "data": {
            "text/plain": [
              "<IPython.core.display.HTML object>"
            ],
            "text/html": [
              "Successfully finished last run (ID:1jllnjjw). Initializing new run:<br/>"
            ]
          },
          "metadata": {}
        },
        {
          "output_type": "display_data",
          "data": {
            "text/plain": [
              "<IPython.core.display.HTML object>"
            ],
            "text/html": [
              "Tracking run with wandb version 0.13.5"
            ]
          },
          "metadata": {}
        },
        {
          "output_type": "display_data",
          "data": {
            "text/plain": [
              "<IPython.core.display.HTML object>"
            ],
            "text/html": [
              "Run data is saved locally in <code>/content/wandb/run-20221128_054221-2hpx4v5m</code>"
            ]
          },
          "metadata": {}
        },
        {
          "output_type": "display_data",
          "data": {
            "text/plain": [
              "<IPython.core.display.HTML object>"
            ],
            "text/html": [
              "Syncing run <strong><a href=\"https://wandb.ai/nimblefox/HW6/runs/2hpx4v5m\" target=\"_blank\">Task6</a></strong> to <a href=\"https://wandb.ai/nimblefox/HW6\" target=\"_blank\">Weights & Biases</a> (<a href=\"https://wandb.me/run\" target=\"_blank\">docs</a>)<br/>"
            ]
          },
          "metadata": {}
        },
        {
          "output_type": "execute_result",
          "data": {
            "text/html": [
              "<button onClick=\"this.nextSibling.style.display='block';this.style.display='none';\">Display W&B run</button><iframe src=\"https://wandb.ai/nimblefox/HW6/runs/2hpx4v5m?jupyter=true\" style=\"border:none;width:100%;height:420px;display:none;\"></iframe>"
            ],
            "text/plain": [
              "<wandb.sdk.wandb_run.Run at 0x7f0ecc570d90>"
            ]
          },
          "metadata": {},
          "execution_count": 78
        }
      ]
    },
    {
      "cell_type": "code",
      "source": [
        "# Fix seed value\n",
        "\n",
        "SEED = 1234\n",
        "random.seed(SEED)\n",
        "np.random.seed(SEED)\n",
        "torch.manual_seed(SEED)\n",
        "torch.cuda.manual_seed(SEED)\n",
        "torch.backends.cudnn.deterministic = True\n",
        "\n",
        "for targets, input, offsets in train_loader:\n",
        "  \n",
        "  # move inputs and outputs to GPUs\n",
        "  input = input.to(device)\n",
        "  targets = targets.to(device)\n",
        "  offsets = offsets.to(device)\n",
        "  model.eval()\n",
        "  # Forward pass\n",
        "  output = model(input, offsets)\n",
        "  loss = loss_function(output, targets.float())\n",
        "  print(f'Actual loss: {loss}')\n",
        "  break\n",
        "\n",
        "print(f'Expected Theoretical loss: {np.log(10)}')"
      ],
      "metadata": {
        "colab": {
          "base_uri": "https://localhost:8080/"
        },
        "id": "K62JSD9LwjHe",
        "outputId": "d443fd0c-2c33-40a4-b649-9504464c9aaa"
      },
      "execution_count": null,
      "outputs": [
        {
          "output_type": "stream",
          "name": "stdout",
          "text": [
            "Actual loss: 0.6966218948364258\n",
            "Expected Theoretical loss: 2.212785092994046\n"
          ]
        }
      ]
    },
    {
      "cell_type": "code",
      "source": [
        "# Fix seed value\n",
        "\n",
        "SEED = 2345\n",
        "random.seed(SEED)\n",
        "np.random.seed(SEED)\n",
        "torch.manual_seed(SEED)\n",
        "torch.cuda.manual_seed(SEED)\n",
        "torch.backends.cudnn.deterministic = True\n",
        "\n",
        "example_ct_train, batch_ct_train, example_ct_valid, batch_ct_valid = 0, 0, 0, 0\n",
        "train_loss_history, valid_loss_history = train_loop(train_loader, valid_loader, model, loss_function, optimizer, \n",
        "                                                                                          wandb.config.epochs, wandb.config.device,\n",
        "                                                                                          wandb.config.patience, wandb.config.early_stopping,\n",
        "                                                                                          wandb.config.file_model)"
      ],
      "metadata": {
        "colab": {
          "base_uri": "https://localhost:8080/"
        },
        "id": "HkvIdZ4Pq7bD",
        "outputId": "c0505836-a012-4a43-dbf5-3be982c43fb3"
      },
      "execution_count": null,
      "outputs": [
        {
          "output_type": "stream",
          "name": "stdout",
          "text": [
            "\n",
            "Validation loss has decreased (inf --> 0.227600). Saving Model...\n",
            "Epoch : 1 / 40\n",
            "Time to complete 1 is 0:00:13.149641\n",
            "Train Loss:  0.2850\n",
            "Valid Loss:  0.2276\n",
            "\n",
            "Validation loss has decreased (0.719485 --> 0.709835). Saving model...\n",
            "Epoch : 2 / 40\n",
            "Time to complete 2 is 0:00:12.784032\n",
            "Train Loss:  0.2218\n",
            "Valid Loss:  0.2248\n",
            "\n",
            "Early stoping counter: 1 out of 5\n",
            "Epoch : 3 / 40\n",
            "Time to complete 3 is 0:00:11.980263\n",
            "Train Loss:  0.2116\n",
            "Valid Loss:  0.2208\n",
            "\n",
            "Early stoping counter: 2 out of 5\n",
            "Epoch : 4 / 40\n",
            "Time to complete 4 is 0:00:12.192442\n",
            "Train Loss:  0.2107\n",
            "Valid Loss:  0.2201\n",
            "\n",
            "Early stoping counter: 3 out of 5\n",
            "Epoch : 5 / 40\n",
            "Time to complete 5 is 0:00:12.296284\n",
            "Train Loss:  0.2216\n",
            "Valid Loss:  0.2263\n",
            "\n",
            "Early stoping counter: 4 out of 5\n",
            "Epoch : 6 / 40\n",
            "Time to complete 6 is 0:00:15.359949\n",
            "Train Loss:  0.2206\n",
            "Valid Loss:  0.2247\n",
            "\n",
            "Early stoping counter: 5 out of 5\n",
            "Early Stopping\n",
            "\n",
            "\n"
          ]
        }
      ]
    },
    {
      "cell_type": "code",
      "source": [
        "pred_train, y_train = get_pred(train_loader, model_nn, device)"
      ],
      "metadata": {
        "id": "SdbTEQaty5QS"
      },
      "execution_count": null,
      "outputs": []
    },
    {
      "cell_type": "markdown",
      "source": [
        "#<font color = 'pickle'> **F1 Score**"
      ],
      "metadata": {
        "id": "2TZQLBF5yg8P"
      }
    },
    {
      "cell_type": "code",
      "source": [
        "from sklearn.metrics import f1_score\n",
        "print(\"Weighted F1 score: {:.2f}\".format(f1_score(y_true= y_train, y_pred= pred_train, average= 'weighted')))"
      ],
      "metadata": {
        "colab": {
          "base_uri": "https://localhost:8080/"
        },
        "outputId": "b8618c98-fb9c-43c3-a6c8-a4956a4e409d",
        "id": "OPjFpQcsykA-"
      },
      "execution_count": null,
      "outputs": [
        {
          "output_type": "stream",
          "name": "stdout",
          "text": [
            "Weighted F1 score: 0.34\n"
          ]
        }
      ]
    }
  ]
}