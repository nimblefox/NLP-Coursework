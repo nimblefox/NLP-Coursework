{
  "nbformat": 4,
  "nbformat_minor": 0,
  "metadata": {
    "colab": {
      "provenance": [],
      "collapsed_sections": [],
      "toc_visible": true
    },
    "kernelspec": {
      "name": "python3",
      "display_name": "Python 3"
    },
    "language_info": {
      "name": "python"
    }
  },
  "cells": [
    {
      "cell_type": "markdown",
      "metadata": {
        "id": "_mJQGbTFOCAx"
      },
      "source": [
        "<h1 align='center'; color ='blue'><b><font color='pickle'></p>Spam Detection HW</b></h1>\n",
        "\n",
        "<font color = 'indianred' size = 4 >**Read complete instructions before starting the HW** </font>\n"
      ]
    },
    {
      "cell_type": "markdown",
      "metadata": {
        "id": "cXeG6ZQ4OVDj"
      },
      "source": [
        "# <font color='pickle'> **Q1: Load the dataset  (1 Point)**\n",
        "\n",
        "- For this Hw you will usespam dataset from kaggle which can be found from [this](https://www.kaggle.com/uciml/sms-spam-collection-dataset) link. You can download this data and either upload it in google drive or in colab workspace. Load the data in pandas dataframe. \n",
        "\n",
        "- There are only two useful columns. These columns are related to (1) label (ham and spam) and the (2) text of email.\n",
        "\n",
        "- Rename columns as label and message\n",
        "\n",
        "- Find the %  ham amd spam in the data.\n",
        "\n",
        "\n",
        "\n"
      ]
    },
    {
      "cell_type": "code",
      "source": [
        "# import libraries and setup directory\n",
        "import pandas as pd\n",
        "from pathlib import Path\n",
        "from sklearn.model_selection import train_test_split\n",
        "\n",
        "from google.colab import drive\n",
        "drive.mount('/content/drive')\n",
        "\n",
        "base_path = '/content/drive/MyDrive/ColabNotebooks/NLPClass/'\n",
        "base_folder = Path(base_path)\n",
        "data_folder = base_folder/'datasets'"
      ],
      "metadata": {
        "colab": {
          "base_uri": "https://localhost:8080/"
        },
        "id": "9D28jqe2zYjq",
        "outputId": "9110175e-74ed-42a1-9a3a-44729bff1ac8"
      },
      "execution_count": 2,
      "outputs": [
        {
          "output_type": "stream",
          "name": "stdout",
          "text": [
            "Mounted at /content/drive\n"
          ]
        }
      ]
    },
    {
      "cell_type": "code",
      "source": [
        "# import data into a dataframe\n",
        "df = pd.read_csv(data_folder/'spam.csv')\n",
        "df.head()"
      ],
      "metadata": {
        "colab": {
          "base_uri": "https://localhost:8080/",
          "height": 206
        },
        "id": "wiWjI4pEzszd",
        "outputId": "808a3ac0-e678-4b73-a7cb-233dfbc6dc9d"
      },
      "execution_count": 3,
      "outputs": [
        {
          "output_type": "execute_result",
          "data": {
            "text/plain": [
              "     v1                                                 v2 Unnamed: 2  \\\n",
              "0   ham  Go until jurong point, crazy.. Available only ...        NaN   \n",
              "1   ham                      Ok lar... Joking wif u oni...        NaN   \n",
              "2  spam  Free entry in 2 a wkly comp to win FA Cup fina...        NaN   \n",
              "3   ham  U dun say so early hor... U c already then say...        NaN   \n",
              "4   ham  Nah I don't think he goes to usf, he lives aro...        NaN   \n",
              "\n",
              "  Unnamed: 3 Unnamed: 4  \n",
              "0        NaN        NaN  \n",
              "1        NaN        NaN  \n",
              "2        NaN        NaN  \n",
              "3        NaN        NaN  \n",
              "4        NaN        NaN  "
            ],
            "text/html": [
              "\n",
              "  <div id=\"df-dcc1801a-c41d-40fa-b406-273a870b5a8d\">\n",
              "    <div class=\"colab-df-container\">\n",
              "      <div>\n",
              "<style scoped>\n",
              "    .dataframe tbody tr th:only-of-type {\n",
              "        vertical-align: middle;\n",
              "    }\n",
              "\n",
              "    .dataframe tbody tr th {\n",
              "        vertical-align: top;\n",
              "    }\n",
              "\n",
              "    .dataframe thead th {\n",
              "        text-align: right;\n",
              "    }\n",
              "</style>\n",
              "<table border=\"1\" class=\"dataframe\">\n",
              "  <thead>\n",
              "    <tr style=\"text-align: right;\">\n",
              "      <th></th>\n",
              "      <th>v1</th>\n",
              "      <th>v2</th>\n",
              "      <th>Unnamed: 2</th>\n",
              "      <th>Unnamed: 3</th>\n",
              "      <th>Unnamed: 4</th>\n",
              "    </tr>\n",
              "  </thead>\n",
              "  <tbody>\n",
              "    <tr>\n",
              "      <th>0</th>\n",
              "      <td>ham</td>\n",
              "      <td>Go until jurong point, crazy.. Available only ...</td>\n",
              "      <td>NaN</td>\n",
              "      <td>NaN</td>\n",
              "      <td>NaN</td>\n",
              "    </tr>\n",
              "    <tr>\n",
              "      <th>1</th>\n",
              "      <td>ham</td>\n",
              "      <td>Ok lar... Joking wif u oni...</td>\n",
              "      <td>NaN</td>\n",
              "      <td>NaN</td>\n",
              "      <td>NaN</td>\n",
              "    </tr>\n",
              "    <tr>\n",
              "      <th>2</th>\n",
              "      <td>spam</td>\n",
              "      <td>Free entry in 2 a wkly comp to win FA Cup fina...</td>\n",
              "      <td>NaN</td>\n",
              "      <td>NaN</td>\n",
              "      <td>NaN</td>\n",
              "    </tr>\n",
              "    <tr>\n",
              "      <th>3</th>\n",
              "      <td>ham</td>\n",
              "      <td>U dun say so early hor... U c already then say...</td>\n",
              "      <td>NaN</td>\n",
              "      <td>NaN</td>\n",
              "      <td>NaN</td>\n",
              "    </tr>\n",
              "    <tr>\n",
              "      <th>4</th>\n",
              "      <td>ham</td>\n",
              "      <td>Nah I don't think he goes to usf, he lives aro...</td>\n",
              "      <td>NaN</td>\n",
              "      <td>NaN</td>\n",
              "      <td>NaN</td>\n",
              "    </tr>\n",
              "  </tbody>\n",
              "</table>\n",
              "</div>\n",
              "      <button class=\"colab-df-convert\" onclick=\"convertToInteractive('df-dcc1801a-c41d-40fa-b406-273a870b5a8d')\"\n",
              "              title=\"Convert this dataframe to an interactive table.\"\n",
              "              style=\"display:none;\">\n",
              "        \n",
              "  <svg xmlns=\"http://www.w3.org/2000/svg\" height=\"24px\"viewBox=\"0 0 24 24\"\n",
              "       width=\"24px\">\n",
              "    <path d=\"M0 0h24v24H0V0z\" fill=\"none\"/>\n",
              "    <path d=\"M18.56 5.44l.94 2.06.94-2.06 2.06-.94-2.06-.94-.94-2.06-.94 2.06-2.06.94zm-11 1L8.5 8.5l.94-2.06 2.06-.94-2.06-.94L8.5 2.5l-.94 2.06-2.06.94zm10 10l.94 2.06.94-2.06 2.06-.94-2.06-.94-.94-2.06-.94 2.06-2.06.94z\"/><path d=\"M17.41 7.96l-1.37-1.37c-.4-.4-.92-.59-1.43-.59-.52 0-1.04.2-1.43.59L10.3 9.45l-7.72 7.72c-.78.78-.78 2.05 0 2.83L4 21.41c.39.39.9.59 1.41.59.51 0 1.02-.2 1.41-.59l7.78-7.78 2.81-2.81c.8-.78.8-2.07 0-2.86zM5.41 20L4 18.59l7.72-7.72 1.47 1.35L5.41 20z\"/>\n",
              "  </svg>\n",
              "      </button>\n",
              "      \n",
              "  <style>\n",
              "    .colab-df-container {\n",
              "      display:flex;\n",
              "      flex-wrap:wrap;\n",
              "      gap: 12px;\n",
              "    }\n",
              "\n",
              "    .colab-df-convert {\n",
              "      background-color: #E8F0FE;\n",
              "      border: none;\n",
              "      border-radius: 50%;\n",
              "      cursor: pointer;\n",
              "      display: none;\n",
              "      fill: #1967D2;\n",
              "      height: 32px;\n",
              "      padding: 0 0 0 0;\n",
              "      width: 32px;\n",
              "    }\n",
              "\n",
              "    .colab-df-convert:hover {\n",
              "      background-color: #E2EBFA;\n",
              "      box-shadow: 0px 1px 2px rgba(60, 64, 67, 0.3), 0px 1px 3px 1px rgba(60, 64, 67, 0.15);\n",
              "      fill: #174EA6;\n",
              "    }\n",
              "\n",
              "    [theme=dark] .colab-df-convert {\n",
              "      background-color: #3B4455;\n",
              "      fill: #D2E3FC;\n",
              "    }\n",
              "\n",
              "    [theme=dark] .colab-df-convert:hover {\n",
              "      background-color: #434B5C;\n",
              "      box-shadow: 0px 1px 3px 1px rgba(0, 0, 0, 0.15);\n",
              "      filter: drop-shadow(0px 1px 2px rgba(0, 0, 0, 0.3));\n",
              "      fill: #FFFFFF;\n",
              "    }\n",
              "  </style>\n",
              "\n",
              "      <script>\n",
              "        const buttonEl =\n",
              "          document.querySelector('#df-dcc1801a-c41d-40fa-b406-273a870b5a8d button.colab-df-convert');\n",
              "        buttonEl.style.display =\n",
              "          google.colab.kernel.accessAllowed ? 'block' : 'none';\n",
              "\n",
              "        async function convertToInteractive(key) {\n",
              "          const element = document.querySelector('#df-dcc1801a-c41d-40fa-b406-273a870b5a8d');\n",
              "          const dataTable =\n",
              "            await google.colab.kernel.invokeFunction('convertToInteractive',\n",
              "                                                     [key], {});\n",
              "          if (!dataTable) return;\n",
              "\n",
              "          const docLinkHtml = 'Like what you see? Visit the ' +\n",
              "            '<a target=\"_blank\" href=https://colab.research.google.com/notebooks/data_table.ipynb>data table notebook</a>'\n",
              "            + ' to learn more about interactive tables.';\n",
              "          element.innerHTML = '';\n",
              "          dataTable['output_type'] = 'display_data';\n",
              "          await google.colab.output.renderOutput(dataTable, element);\n",
              "          const docLink = document.createElement('div');\n",
              "          docLink.innerHTML = docLinkHtml;\n",
              "          element.appendChild(docLink);\n",
              "        }\n",
              "      </script>\n",
              "    </div>\n",
              "  </div>\n",
              "  "
            ]
          },
          "metadata": {},
          "execution_count": 3
        }
      ]
    },
    {
      "cell_type": "code",
      "source": [
        "data = df[['v1', 'v2']]\n",
        "data = data.rename({'v1':'label','v2':'X'}, axis=1)\n",
        "data.label.value_counts()*100/len(data.label)"
      ],
      "metadata": {
        "colab": {
          "base_uri": "https://localhost:8080/"
        },
        "id": "tqAzxMjT1Flq",
        "outputId": "774d52d0-a5f1-409a-cf70-91c849083716"
      },
      "execution_count": 4,
      "outputs": [
        {
          "output_type": "execute_result",
          "data": {
            "text/plain": [
              "ham     86.593683\n",
              "spam    13.406317\n",
              "Name: label, dtype: float64"
            ]
          },
          "metadata": {},
          "execution_count": 4
        }
      ]
    },
    {
      "cell_type": "code",
      "source": [
        "data.label.value_counts()"
      ],
      "metadata": {
        "colab": {
          "base_uri": "https://localhost:8080/"
        },
        "id": "679IduQY8jfB",
        "outputId": "888f7c22-ecc7-4e61-9aec-3d45ecc9fbc6"
      },
      "execution_count": 5,
      "outputs": [
        {
          "output_type": "execute_result",
          "data": {
            "text/plain": [
              "ham     4825\n",
              "spam     747\n",
              "Name: label, dtype: int64"
            ]
          },
          "metadata": {},
          "execution_count": 5
        }
      ]
    },
    {
      "cell_type": "markdown",
      "metadata": {
        "id": "pNdWCViagO4F"
      },
      "source": [
        "# <font color='pickle'> **Q2 : Provide the metric for evaluating model (1 Point)**</font>\n",
        "\n",
        "As you will notice, the  data is highly imbalanced (most messages are labelled as ham and only few are labelled as spam). Always predicting ham will give us very good accuracy (close to 90%). So you need to choose a different metric.\n",
        "\n",
        "Task: Provde the metric you will choose to evaluate your model. Explain why this is an appropriate metric for this case."
      ]
    },
    {
      "cell_type": "markdown",
      "source": [
        "Ans : I would use F1-score as the model performance metric. Since Accuracy is not the right metric. I have Precision and Recall as my options. Precision will be the measure of how many spam are correctly classified. Recall will be the measure of how many of spam classifications are correct. I would need a combination of these 2 so I would go with F1 score.\n",
        "\n"
      ],
      "metadata": {
        "id": "vZ42fzNM6B17"
      }
    },
    {
      "cell_type": "markdown",
      "metadata": {
        "id": "rH8_mvGhiThV"
      },
      "source": [
        "# <font color='pickle'> **Q3 : Classification Pipelines (18 Points)**</font>\n",
        "\n",
        "In the previous lectures you learned Data processing, Featurization such as CountVectorizer, TFIDFVectorizer, and also Feature Engineering.\n",
        "* You will now use folllowing methods to create fearures which you can use in your model. \n",
        "\n",
        "    1. Sparse Embeddings (TF-IDF) (6 Points)\n",
        "    2. Feature Engineering (see examples below) (6 Points)\n",
        "    3. Sparse Embeddings (TF-IDF) + Feature Engineering (6 Points)\n",
        "\n",
        "**Approach:**\n",
        "\n",
        "<font color='indianred'> ****Use a smaller subset of dataset (e.g. 10 %) to evaluate the three pipelines . Based on your analysis (e.g. model score, learning curves) , choose one pipeline from the three. Provde your rational for choosing the pipleine. Train only the final pipeline on randomly selected larger subset (e.g. 40%) of the data.** </font>\n",
        "\n",
        "**Requirements:** \n",
        "\n",
        "1. You can use any ML model (Logistic Regression, XgBoost) for the classification. You will need to tune the **model for imbalanced dataset** (The link on XGBoost tutorial for imbalanced data: https://machinelearningmastery.com/xgboost-for-imbalanced-classification/).\n",
        "\n",
        "2. For feature engineering, you can choose from the examples below. You do not  have to use all of them. You can add other featues as well. Think about what faetures can distinguish a spam from a regular email. Some examples :\n",
        "\n",
        ">> Count of following  (Words, characters, digits, exclamation marks, numbers, Nouns, ProperNouns, AUX, VERBS, Adjectives, named entities, spelling mistakes (see the link on how to get spelling mistakes https://pypi.org/project/pyspellchecker/). \n",
        "\n",
        "3. For Sparse embeddings you will use **tfidf vectorization**. You need to choose appopriate parameters e.g. min_df, max_df, max_faetures, n-grams etc.). \n",
        "\n",
        "4. Think carefully about the pre-processing you will do.\n",
        "\n",
        "Tip: <font color = 'indianred'>**Using GridSearch for hyperparameter tuning might take a lot of time. Try using RandomizedSearch.**</font> You can also explore faster implementation of Gridsearch and RandomizedSearch in sklearn: \n",
        "\n",
        "1. [Halving Grid Search](https://scikit-learn.org/stable/modules/generated/sklearn.model_selection.HalvingGridSearchCV.html?highlight=halving#sklearn.model_selection.HalvingGridSearchCV)\n",
        "\n",
        "2. [HalvingRandomSearchCV](https://scikit-learn.org/stable/modules/generated/sklearn.model_selection.HalvingRandomSearchCV.html?highlight=halving#sklearn.model_selection.HalvingRandomSearchCV)\n",
        "\n",
        "\n",
        "\n"
      ]
    },
    {
      "cell_type": "markdown",
      "metadata": {
        "id": "PqPTPb0AsMP3"
      },
      "source": [
        "# **Required Submissions:**\n",
        "1.  Submit two colab/jupyter notebooks\n",
        "- (analysis with smaller subset and all three pipelines)\n",
        "- (analysis with bigger subset and only final pipeline)\n",
        "2. Pdf version of the notebooks (HWs will not be graded if pdf version is not provided.\n",
        "3. **The notebooks and pdf files should have the output.**\n",
        "4. **Name files as follows : FirstName_file1_hw2, FirstName_file2_h2**"
      ]
    },
    {
      "cell_type": "code",
      "source": [
        "data_1 = train_smaller = data.sample(frac=0.1, replace=False, random_state=1)\n",
        "data_1.shape"
      ],
      "metadata": {
        "colab": {
          "base_uri": "https://localhost:8080/"
        },
        "id": "o51NAS-txUNb",
        "outputId": "d99868cc-82fc-4b5b-ab37-d798ef941d6d"
      },
      "execution_count": 8,
      "outputs": [
        {
          "output_type": "execute_result",
          "data": {
            "text/plain": [
              "(557, 2)"
            ]
          },
          "metadata": {},
          "execution_count": 8
        }
      ]
    },
    {
      "cell_type": "code",
      "source": [
        "X_train, X_test, y_train, y_test = train_test_split(data_1.X, data_1.label, test_size=0.3, random_state=42)"
      ],
      "metadata": {
        "id": "GunDCBQvto-o"
      },
      "execution_count": 10,
      "outputs": []
    },
    {
      "cell_type": "code",
      "source": [
        "print(f'Shape of Training data set is : {X_train.shape}')\n",
        "print(f'Shape of Test data set is : {X_test.shape}')"
      ],
      "metadata": {
        "colab": {
          "base_uri": "https://localhost:8080/"
        },
        "id": "SkO42wpbc2CB",
        "outputId": "8e2ac2e0-6b47-41ff-f36a-7a924b970054"
      },
      "execution_count": 11,
      "outputs": [
        {
          "output_type": "stream",
          "name": "stdout",
          "text": [
            "Shape of Training data set is : (389,)\n",
            "Shape of Test data set is : (168,)\n"
          ]
        }
      ]
    },
    {
      "cell_type": "markdown",
      "source": [
        "## <font color ='pickle'>**PreProcessing**"
      ],
      "metadata": {
        "id": "PC0BGtb09OW9"
      }
    },
    {
      "cell_type": "code",
      "source": [
        "model_folder = base_folder/'models/imdb'\n",
        "custom_functions = base_folder/'custom-functions'"
      ],
      "metadata": {
        "id": "BoYp3HRqwqjb"
      },
      "execution_count": 12,
      "outputs": []
    },
    {
      "cell_type": "code",
      "source": [
        "!python -m spacy download 'en_core_web_sm'"
      ],
      "metadata": {
        "id": "ftbxouc--1F_"
      },
      "execution_count": null,
      "outputs": []
    },
    {
      "cell_type": "code",
      "source": [
        "import sys\n",
        "sys.path.append('/content/drive/MyDrive/ColabNotebooks/NLPClass/custom-functions')"
      ],
      "metadata": {
        "id": "75_doskI-14H"
      },
      "execution_count": 14,
      "outputs": []
    },
    {
      "cell_type": "code",
      "source": [
        "sys.path"
      ],
      "metadata": {
        "id": "ISOKqwOy-7IP"
      },
      "execution_count": null,
      "outputs": []
    },
    {
      "cell_type": "code",
      "source": [
        "import custom_preprocessor as cp\n",
        "from  featurizer import ManualFeatures\n",
        "from  plot_learning_curve import plot_learning_curve"
      ],
      "metadata": {
        "id": "FE-Mloub-8b-"
      },
      "execution_count": 16,
      "outputs": []
    },
    {
      "cell_type": "code",
      "source": [
        "X_train_cleaned = cp.SpacyPreprocessor(model = 'en_core_web_sm', remove_stop=True).transform(X_train.values)"
      ],
      "metadata": {
        "id": "V-5OzfoB_Cf_"
      },
      "execution_count": 18,
      "outputs": []
    },
    {
      "cell_type": "code",
      "source": [
        "X_train_cleaned_sparse_embed = data_folder / 'x_train_cleaned_sparse_embed.pkl'"
      ],
      "metadata": {
        "id": "EcIeQ0m-_WB3"
      },
      "execution_count": 19,
      "outputs": []
    },
    {
      "cell_type": "code",
      "source": [
        "import joblib\n",
        "joblib.dump(X_train_cleaned, X_train_cleaned_sparse_embed)"
      ],
      "metadata": {
        "id": "T5TSgZsu_bL9"
      },
      "execution_count": null,
      "outputs": []
    },
    {
      "cell_type": "code",
      "source": [
        "X_test_cleaned = cp.SpacyPreprocessor(model = 'en_core_web_sm', remove_stop=True).transform(X_test.values)"
      ],
      "metadata": {
        "id": "JuB8ED_4_lg4"
      },
      "execution_count": 22,
      "outputs": []
    },
    {
      "cell_type": "code",
      "source": [
        "X_test_cleaned_sparse_embed = data_folder / 'x_test_cleaned_sparse_embed.pkl'\n",
        "joblib.dump(X_test_cleaned, X_test_cleaned_sparse_embed)"
      ],
      "metadata": {
        "colab": {
          "base_uri": "https://localhost:8080/"
        },
        "id": "tdyNZZUi_pGe",
        "outputId": "c73bc552-e084-4754-92dd-7e625aca06eb"
      },
      "execution_count": 23,
      "outputs": [
        {
          "output_type": "execute_result",
          "data": {
            "text/plain": [
              "['/content/drive/MyDrive/ColabNotebooks/NLPClass/datasets/x_test_cleaned_sparse_embed.pkl']"
            ]
          },
          "metadata": {},
          "execution_count": 23
        }
      ]
    },
    {
      "cell_type": "markdown",
      "source": [
        "## <font color ='pickle'>**Pipeline 1: Data Preprocessing + Sparse Embeddings (TF-IDF) + ML Model**"
      ],
      "metadata": {
        "id": "kY8upS0E_wEO"
      }
    },
    {
      "cell_type": "code",
      "source": [
        "from sklearn.pipeline import Pipeline\n",
        "from sklearn.feature_extraction.text import TfidfTransformer, CountVectorizer, TfidfVectorizer\n",
        "from sklearn.linear_model import LogisticRegression\n",
        "\n",
        "classifier_1a = Pipeline([('vectorizer', TfidfVectorizer(analyzer='word', token_pattern=r\"[\\S]+\")),\n",
        "                         ('classifier', LogisticRegression(max_iter = 10000)),\n",
        "                        ])"
      ],
      "metadata": {
        "id": "cCZ_TItF_vhE"
      },
      "execution_count": 27,
      "outputs": []
    },
    {
      "cell_type": "code",
      "source": [
        "param_grid_classifier_1a = {'vectorizer__max_features': [100, 500, 1000, 2000, 5000],\n",
        "                           'classifier__C': [ 0.1, 1, 10, 100, 100000]}"
      ],
      "metadata": {
        "id": "6aE1IYKoAsfF"
      },
      "execution_count": 30,
      "outputs": []
    },
    {
      "cell_type": "code",
      "source": [
        "from sklearn.model_selection import GridSearchCV\n",
        "from sklearn.metrics import classification_report\n",
        "from sklearn.pipeline import Pipeline\n",
        "from  sklearn.compose import ColumnTransformer\n",
        "\n",
        "grid_classifier_1a = GridSearchCV(estimator=classifier_1a, param_grid=param_grid_classifier_1a, cv = 3)"
      ],
      "metadata": {
        "id": "erCZseB_Dj7f"
      },
      "execution_count": 31,
      "outputs": []
    },
    {
      "cell_type": "code",
      "source": [
        "# Fit the model on training data\n",
        "X_trained_cleaned = joblib.load(X_train_cleaned_sparse_embed)\n",
        "grid_classifier_1a.fit(X_trained_cleaned, y_train)"
      ],
      "metadata": {
        "colab": {
          "base_uri": "https://localhost:8080/"
        },
        "id": "D_ToB6XWD1XH",
        "outputId": "5123c00f-53ee-4059-c6a0-8a177c54dc75"
      },
      "execution_count": 32,
      "outputs": [
        {
          "output_type": "execute_result",
          "data": {
            "text/plain": [
              "GridSearchCV(cv=3,\n",
              "             estimator=Pipeline(steps=[('vectorizer',\n",
              "                                        TfidfVectorizer(token_pattern='[\\\\S]+')),\n",
              "                                       ('classifier',\n",
              "                                        LogisticRegression(max_iter=10000))]),\n",
              "             param_grid={'classifier__C': [0.1, 1, 10, 100, 100000],\n",
              "                         'vectorizer__max_features': [100, 500, 1000, 2000,\n",
              "                                                      5000]})"
            ]
          },
          "metadata": {},
          "execution_count": 32
        }
      ]
    },
    {
      "cell_type": "code",
      "source": [
        "print(f'Best cross-validation score: {grid_classifier_1a.best_score_:.2f}')\n",
        "print(\"\\nBest parameters: \", grid_classifier_1a.best_params_)\n",
        "print(\"\\nBest estimator: \", grid_classifier_1a.best_estimator_)"
      ],
      "metadata": {
        "colab": {
          "base_uri": "https://localhost:8080/"
        },
        "id": "7cekVdp3D81A",
        "outputId": "cb3f4c8c-0082-4cea-d6ed-ee22f61952e2"
      },
      "execution_count": 33,
      "outputs": [
        {
          "output_type": "stream",
          "name": "stdout",
          "text": [
            "Best cross-validation score: 0.97\n",
            "\n",
            "Best parameters:  {'classifier__C': 100, 'vectorizer__max_features': 1000}\n",
            "\n",
            "Best estimator:  Pipeline(steps=[('vectorizer',\n",
            "                 TfidfVectorizer(max_features=1000, token_pattern='[\\\\S]+')),\n",
            "                ('classifier', LogisticRegression(C=100, max_iter=10000))])\n"
          ]
        }
      ]
    },
    {
      "cell_type": "code",
      "source": [
        "file_model_sparse_embed = model_folder / 'sparse_embed_model.pkl'\n",
        "joblib.dump(grid_classifier_1a.best_estimator_, file_model_sparse_embed)"
      ],
      "metadata": {
        "colab": {
          "base_uri": "https://localhost:8080/"
        },
        "id": "bafhO9iwEDKI",
        "outputId": "2bf7c9d4-9e80-4aad-c237-1dc7864acc20"
      },
      "execution_count": 34,
      "outputs": [
        {
          "output_type": "execute_result",
          "data": {
            "text/plain": [
              "['/content/drive/MyDrive/ColabNotebooks/NLPClass/models/imdb/sparse_embed_model.pkl']"
            ]
          },
          "metadata": {},
          "execution_count": 34
        }
      ]
    },
    {
      "cell_type": "code",
      "source": [
        "# load the saved model\n",
        "loaded_model_sparse_embed = joblib.load(file_model_sparse_embed)"
      ],
      "metadata": {
        "id": "PVAADAx0EHVr"
      },
      "execution_count": 35,
      "outputs": []
    },
    {
      "cell_type": "code",
      "source": [
        "# plot learning curces\n",
        "# This cell can take upto 30 minutes to run\n",
        "import matplotlib.pyplot as plt\n",
        "plot_learning_curve(loaded_model_sparse_embed, 'Learning Curves Pipeline1', X_train_cleaned, y_train)\n",
        "plt.show()"
      ],
      "metadata": {
        "colab": {
          "base_uri": "https://localhost:8080/",
          "height": 351
        },
        "id": "awfLnSm-EJDM",
        "outputId": "6b288ac4-5fd7-43b9-d449-9936389d2496"
      },
      "execution_count": 37,
      "outputs": [
        {
          "output_type": "display_data",
          "data": {
            "text/plain": [
              "<Figure size 1440x360 with 3 Axes>"
            ],
            "image/png": "[encoded data removed]"
          },
          "metadata": {
            "needs_background": "light"
          }
        }
      ]
    },
    {
      "cell_type": "code",
      "source": [
        "# Accuracy on Train data set\n",
        "grid_classifier_sparse_embed = loaded_model_sparse_embed.score(X_train_cleaned, y_train)\n",
        "print(f'Accuracy on train set  is {grid_classifier_sparse_embed}')"
      ],
      "metadata": {
        "colab": {
          "base_uri": "https://localhost:8080/"
        },
        "id": "4EKGIPylFM96",
        "outputId": "0706521d-3643-4c25-faba-5d950f538182"
      },
      "execution_count": 38,
      "outputs": [
        {
          "output_type": "stream",
          "name": "stdout",
          "text": [
            "Accuracy on train set  is 1.0\n"
          ]
        }
      ]
    },
    {
      "cell_type": "code",
      "source": [
        "# Final Pipeline\n",
        "def final_pipeline(text):\n",
        "  # cleaned_text = cp.SpacyPreprocessor(model = 'en_core_web_sm', remove_stop=True).transform(text)\n",
        "  cleaned_text = joblib.load(X_test_cleaned_sparse_embed)\n",
        "  predictions = loaded_model_sparse_embed.predict(cleaned_text)\n",
        "  return predictions"
      ],
      "metadata": {
        "id": "SdsuxoR2FPoj"
      },
      "execution_count": 39,
      "outputs": []
    },
    {
      "cell_type": "code",
      "source": [
        "# predicted values for Test data set\n",
        "y_test_pred = final_pipeline(X_test)"
      ],
      "metadata": {
        "id": "2E9-9VskFRkS"
      },
      "execution_count": 40,
      "outputs": []
    },
    {
      "cell_type": "code",
      "source": [
        "print('\\nTest set classification report:\\n\\n',classification_report(y_test, y_test_pred ))"
      ],
      "metadata": {
        "colab": {
          "base_uri": "https://localhost:8080/"
        },
        "id": "-LGnw6VkFUgq",
        "outputId": "9054929e-bd80-4ea8-c3ff-a98982e76634"
      },
      "execution_count": 41,
      "outputs": [
        {
          "output_type": "stream",
          "name": "stdout",
          "text": [
            "\n",
            "Test set classification report:\n",
            "\n",
            "               precision    recall  f1-score   support\n",
            "\n",
            "         ham       0.94      1.00      0.97       147\n",
            "        spam       1.00      0.57      0.73        21\n",
            "\n",
            "    accuracy                           0.95       168\n",
            "   macro avg       0.97      0.79      0.85       168\n",
            "weighted avg       0.95      0.95      0.94       168\n",
            "\n"
          ]
        }
      ]
    },
    {
      "cell_type": "markdown",
      "source": [
        "## <font color ='pickle'>**Pipeline 2: Data Preprocessing + Manual Features + ML Model pipeline**"
      ],
      "metadata": {
        "id": "jBkaMoMVGMOE"
      }
    },
    {
      "cell_type": "code",
      "source": [
        "ManualFeatures??"
      ],
      "metadata": {
        "id": "NeQvY7aEG4Hb"
      },
      "execution_count": 44,
      "outputs": []
    },
    {
      "cell_type": "code",
      "source": [
        "featurizer =  ManualFeatures(spacy_model='en_core_web_sm')\n",
        "featurizer"
      ],
      "metadata": {
        "colab": {
          "base_uri": "https://localhost:8080/"
        },
        "id": "6T0kC6GiGLx4",
        "outputId": "78c11682-050f-4417-d5eb-979919ce876c"
      },
      "execution_count": 43,
      "outputs": [
        {
          "output_type": "execute_result",
          "data": {
            "text/plain": [
              "ManualFeatures(spacy_model='en_core_web_sm')"
            ]
          },
          "metadata": {},
          "execution_count": 43
        }
      ]
    },
    {
      "cell_type": "code",
      "source": [
        "type(X_train)"
      ],
      "metadata": {
        "colab": {
          "base_uri": "https://localhost:8080/"
        },
        "id": "qVC3Vz22Mscf",
        "outputId": "f34c393b-353f-425d-98d5-0b004cc19708"
      },
      "execution_count": 70,
      "outputs": [
        {
          "output_type": "execute_result",
          "data": {
            "text/plain": [
              "pandas.core.series.Series"
            ]
          },
          "metadata": {},
          "execution_count": 70
        }
      ]
    },
    {
      "cell_type": "code",
      "source": [
        "X_train_features, feature_names = featurizer.fit_transform(X_train.values)"
      ],
      "metadata": {
        "id": "Copp52znHPNT"
      },
      "execution_count": 47,
      "outputs": []
    },
    {
      "cell_type": "code",
      "source": [
        "X_train_features"
      ],
      "metadata": {
        "colab": {
          "base_uri": "https://localhost:8080/"
        },
        "id": "yGG8zwmUKzWa",
        "outputId": "7e5876a0-769d-4f8e-a5aa-14a8c3b41f01"
      },
      "execution_count": 50,
      "outputs": [
        {
          "output_type": "execute_result",
          "data": {
            "text/plain": [
              "array([[ 13.,  68.,  56., ...,   0.,   3.,   0.],\n",
              "       [  6.,  29.,  24., ...,   0.,   1.,   1.],\n",
              "       [  8.,  43.,  36., ...,   0.,   1.,   0.],\n",
              "       ...,\n",
              "       [  9.,  37.,  29., ...,   0.,   3.,   0.],\n",
              "       [ 28., 131., 104., ...,   4.,   5.,   1.],\n",
              "       [  9.,  50.,  42., ...,   1.,   3.,   1.]])"
            ]
          },
          "metadata": {},
          "execution_count": 50
        }
      ]
    },
    {
      "cell_type": "code",
      "source": [
        "feature_names"
      ],
      "metadata": {
        "colab": {
          "base_uri": "https://localhost:8080/"
        },
        "id": "0pT-kqxLK2dq",
        "outputId": "f0966412-0e1f-4a75-a2ca-0b7cfc80e339"
      },
      "execution_count": 51,
      "outputs": [
        {
          "output_type": "execute_result",
          "data": {
            "text/plain": [
              "['count_words',\n",
              " 'count_characters',\n",
              " 'count_characters_no_space',\n",
              " 'avg_word_length',\n",
              " 'count_digits',\n",
              " 'count_numbers',\n",
              " 'noun_count',\n",
              " 'aux_count',\n",
              " 'verb_count',\n",
              " 'adj_count',\n",
              " 'ner']"
            ]
          },
          "metadata": {},
          "execution_count": 51
        }
      ]
    },
    {
      "cell_type": "code",
      "source": [
        "classifier_1b = Pipeline([('classifier', LogisticRegression(max_iter = 10000)),])\n",
        "param_grid_classifier_1b = {'classifier__C': [0.01, 10, 1000, 100000]}"
      ],
      "metadata": {
        "id": "EeS9XZCjLGQp"
      },
      "execution_count": 52,
      "outputs": []
    },
    {
      "cell_type": "code",
      "source": [
        "grid_classifier_1b = GridSearchCV(estimator=classifier_1b, param_grid=param_grid_classifier_1b, cv = 3)"
      ],
      "metadata": {
        "id": "m36H54nZLPUB"
      },
      "execution_count": 53,
      "outputs": []
    },
    {
      "cell_type": "code",
      "source": [
        "grid_classifier_1b.fit(X_train_features, y_train)"
      ],
      "metadata": {
        "colab": {
          "base_uri": "https://localhost:8080/"
        },
        "id": "-oevtYGILSq-",
        "outputId": "69be744b-9f1f-41ee-af03-9546ca47b96c"
      },
      "execution_count": 54,
      "outputs": [
        {
          "output_type": "execute_result",
          "data": {
            "text/plain": [
              "GridSearchCV(cv=3,\n",
              "             estimator=Pipeline(steps=[('classifier',\n",
              "                                        LogisticRegression(max_iter=10000))]),\n",
              "             param_grid={'classifier__C': [0.01, 10, 1000, 100000]})"
            ]
          },
          "metadata": {},
          "execution_count": 54
        }
      ]
    },
    {
      "cell_type": "code",
      "source": [
        "print(\"Best cross-validation score: {:.2f}\".format(grid_classifier_1b.best_score_))\n",
        "print(\"\\nBest parameters: \", grid_classifier_1b.best_params_)\n",
        "print(\"\\nBest estimator: \", grid_classifier_1b.best_estimator_)"
      ],
      "metadata": {
        "colab": {
          "base_uri": "https://localhost:8080/"
        },
        "id": "4Kh1rbT8LUMn",
        "outputId": "b0c2bf23-5d1a-4650-e90f-677006f2d078"
      },
      "execution_count": 55,
      "outputs": [
        {
          "output_type": "stream",
          "name": "stdout",
          "text": [
            "Best cross-validation score: 0.97\n",
            "\n",
            "Best parameters:  {'classifier__C': 10}\n",
            "\n",
            "Best estimator:  Pipeline(steps=[('classifier', LogisticRegression(C=10, max_iter=10000))])\n"
          ]
        }
      ]
    },
    {
      "cell_type": "code",
      "source": [
        "file_model_features = model_folder / 'features_model.pkl'"
      ],
      "metadata": {
        "id": "R5J2DqyGLYH2"
      },
      "execution_count": 56,
      "outputs": []
    },
    {
      "cell_type": "code",
      "source": [
        "joblib.dump(grid_classifier_1b.best_estimator_, file_model_features)"
      ],
      "metadata": {
        "colab": {
          "base_uri": "https://localhost:8080/"
        },
        "id": "5Z-bi6V-Lci1",
        "outputId": "081fdcb4-997a-43a0-d600-156d0e7618f7"
      },
      "execution_count": 57,
      "outputs": [
        {
          "output_type": "execute_result",
          "data": {
            "text/plain": [
              "['/content/drive/MyDrive/ColabNotebooks/NLPClass/models/imdb/features_model.pkl']"
            ]
          },
          "metadata": {},
          "execution_count": 57
        }
      ]
    },
    {
      "cell_type": "code",
      "source": [
        "# load the saved model\n",
        "loaded_final_model_features = joblib.load(file_model_features)"
      ],
      "metadata": {
        "id": "X3i3XT2lLetL"
      },
      "execution_count": 58,
      "outputs": []
    },
    {
      "cell_type": "code",
      "source": [
        "# plot learning curces\n",
        "# This cell can take upto 30 minutes to run\n",
        "plot_learning_curve(loaded_final_model_features, 'Learning Curves classifier_1b', X_train_features, y_train)\n",
        "plt.show()"
      ],
      "metadata": {
        "colab": {
          "base_uri": "https://localhost:8080/",
          "height": 351
        },
        "id": "sFrS62QOLgfr",
        "outputId": "b93a6e61-671a-438c-b681-5478db98769b"
      },
      "execution_count": 59,
      "outputs": [
        {
          "output_type": "display_data",
          "data": {
            "text/plain": [
              "<Figure size 1440x360 with 3 Axes>"
            ],
            "image/png": "[encoded data removed]"
          },
          "metadata": {
            "needs_background": "light"
          }
        }
      ]
    },
    {
      "cell_type": "code",
      "source": [
        "# Accuracy on Train data set\n",
        "grid_classifier_sparse_embed = loaded_final_model_features.score(X_train_features, y_train)\n",
        "print(f'Accuracy on train set  is {grid_classifier_sparse_embed}')"
      ],
      "metadata": {
        "colab": {
          "base_uri": "https://localhost:8080/"
        },
        "id": "AxyJqAOJLgaH",
        "outputId": "edfa18e3-efeb-498e-f017-8ded55669f94"
      },
      "execution_count": 60,
      "outputs": [
        {
          "output_type": "stream",
          "name": "stdout",
          "text": [
            "Accuracy on train set  is 0.9845758354755784\n"
          ]
        }
      ]
    },
    {
      "cell_type": "code",
      "source": [
        "type(X_test)"
      ],
      "metadata": {
        "colab": {
          "base_uri": "https://localhost:8080/"
        },
        "id": "vFiNyKu3OS1g",
        "outputId": "20f1f486-5549-4397-e468-09df5cc30613"
      },
      "execution_count": 77,
      "outputs": [
        {
          "output_type": "execute_result",
          "data": {
            "text/plain": [
              "pandas.core.series.Series"
            ]
          },
          "metadata": {},
          "execution_count": 77
        }
      ]
    },
    {
      "cell_type": "code",
      "source": [
        "# Final Pipeline\n",
        "def final_pipeline():\n",
        "  test_features, feature_names = featurizer.fit_transform(X_test.values)\n",
        "  predictions = loaded_final_model_features.predict(test_features)\n",
        "  return predictions"
      ],
      "metadata": {
        "id": "H7y0VFCrLqxD"
      },
      "execution_count": 80,
      "outputs": []
    },
    {
      "cell_type": "code",
      "source": [
        "# predicted values for Test data set\n",
        "y_test_pred = final_pipeline()"
      ],
      "metadata": {
        "id": "pbcOUdmoLvgC"
      },
      "execution_count": null,
      "outputs": []
    },
    {
      "cell_type": "code",
      "source": [
        "print('\\nTest set classification report:\\n\\n',classification_report(y_test, y_test_pred ))"
      ],
      "metadata": {
        "id": "hClc3A2QbQjy"
      },
      "execution_count": null,
      "outputs": []
    },
    {
      "cell_type": "markdown",
      "source": [
        "## <font color ='pickle'>**Pipeline 3: Combine Manual Features and TfID vectors**"
      ],
      "metadata": {
        "id": "VXVctSzkbkxS"
      }
    },
    {
      "cell_type": "code",
      "source": [],
      "metadata": {
        "id": "nl3DjXv8biws"
      },
      "execution_count": null,
      "outputs": []
    }
  ]
}